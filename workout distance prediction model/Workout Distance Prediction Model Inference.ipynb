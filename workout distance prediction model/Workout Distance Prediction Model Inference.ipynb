{
  "nbformat": 4,
  "nbformat_minor": 0,
  "metadata": {
    "colab": {
      "name": "PredictDistance.ipynb",
      "provenance": [],
      "collapsed_sections": []
    },
    "kernelspec": {
      "name": "python3",
      "display_name": "Python 3"
    },
    "accelerator": "GPU"
  },
  "cells": [
    {
      "cell_type": "markdown",
      "metadata": {
        "id": "xE5zs00yL8gD"
      },
      "source": [
        "# 1. Load Dependencies"
      ]
    },
    {
      "cell_type": "code",
      "metadata": {
        "id": "zyiGmcWPLNbh",
        "outputId": "a2e18f9a-1119-4714-f30f-2739091fbc7f",
        "colab": {
          "base_uri": "https://localhost:8080/"
        }
      },
      "source": [
        "from sklearn.preprocessing import MinMaxScaler, OneHotEncoder\n",
        "import numpy as np\n",
        "import pandas as pd\n",
        "from torch.utils.data import Dataset\n",
        "import torch.nn as nn\n",
        "import torch\n",
        "import joblib\n",
        "import os\n",
        "\n",
        "from google.colab import drive\n",
        "drive.mount('/content/drive')\n",
        "\n",
        "!pip install scikit-tensor-py3\n",
        "from sktensor import dtensor"
      ],
      "execution_count": 1,
      "outputs": [
        {
          "output_type": "stream",
          "text": [
            "Drive already mounted at /content/drive; to attempt to forcibly remount, call drive.mount(\"/content/drive\", force_remount=True).\n",
            "Requirement already satisfied: scikit-tensor-py3 in /usr/local/lib/python3.6/dist-packages (0.4.1)\n",
            "Requirement already satisfied: numpy==1.16.* in /usr/local/lib/python3.6/dist-packages (from scikit-tensor-py3) (1.16.6)\n",
            "Requirement already satisfied: scipy==1.3.* in /usr/local/lib/python3.6/dist-packages (from scikit-tensor-py3) (1.3.3)\n"
          ],
          "name": "stdout"
        }
      ]
    },
    {
      "cell_type": "code",
      "metadata": {
        "id": "gQYtk5d1LkpP"
      },
      "source": [
        "if torch.cuda.is_available():      \n",
        "    device = torch.device('cuda')\n",
        "else:\n",
        "    device = torch.device('cpu')"
      ],
      "execution_count": 2,
      "outputs": []
    },
    {
      "cell_type": "markdown",
      "metadata": {
        "id": "KcyT25hGNrVq"
      },
      "source": [
        "# 2. Load Saved Modules"
      ]
    },
    {
      "cell_type": "code",
      "metadata": {
        "id": "CQGqj0fgMMPO"
      },
      "source": [
        "# Load Min-max scaler models\n",
        "\n",
        "scaler_dic = dict()\n",
        "features = ['calories', 'distance']\n",
        "\n",
        "dir = '/content/drive/My Drive/Colab Notebooks/DATA5703/scaler_model/'\n",
        "\n",
        "for feature in features:\n",
        "    path = os.path.join(dir, 'scaler_'+feature+'_2.m')\n",
        "    scaler_dic[feature] = joblib.load(path)\n",
        "\n",
        "# Load onehot encoder for categorical features\n",
        "\n",
        "dir = '/content/drive/My Drive/Colab Notebooks/DATA5703/OneHotEncoder.m'\n",
        "\n",
        "OneHot_enc = joblib.load(dir)\n",
        "\n",
        "# Load user embedding and route embedding\n",
        "\n",
        "user_dir = '/content/drive/My Drive/Colab Notebooks/DATA5703/Data/embedding/userEmbed_tensorD_13.m'\n",
        "route_dir = '/content/drive/My Drive/Colab Notebooks/DATA5703/Data/embedding/routeEmbed_tensorD_13.m'\n",
        "\n",
        "user_embed_df = joblib.load(user_dir)\n",
        "route_embed_df = joblib.load(route_dir)"
      ],
      "execution_count": 3,
      "outputs": []
    },
    {
      "cell_type": "code",
      "metadata": {
        "id": "F1ZFzwmUSXqD"
      },
      "source": [
        "# Define model\n",
        "\n",
        "class DisReg_MLP_2Layer(nn.Module):\n",
        "    def __init__(self, input_dim, hidden_dim_1, p):\n",
        "        super(DisReg_MLP_2Layer, self).__init__()\n",
        "\n",
        "        self.fc1 = nn.Linear(input_dim, hidden_dim_1)\n",
        "        self.fc2 = nn.Linear(hidden_dim_1, 1)\n",
        "\n",
        "        self.act_1 = nn.ReLU()\n",
        "        self.act_2 = nn.Sigmoid()\n",
        "\n",
        "        self.drop_1 = nn.Dropout(p)\n",
        "\n",
        "    def forward(self, data):\n",
        "\n",
        "        output = self.fc1(data)\n",
        "        output = self.act_1(output)\n",
        "        output = self.drop_1(output)\n",
        "\n",
        "        output = self.fc2(output)\n",
        "        output = self.act_2(output)\n",
        "\n",
        "        return output\n",
        "\n",
        "\n",
        "# Define function to load model\n",
        "\n",
        "def load_model(filename, model):\n",
        "\n",
        "    DATA_PATH = \"/content/drive/My Drive/Colab Notebooks/DATA5703/\"+filename\n",
        "\n",
        "    checkpoint = torch.load(DATA_PATH)\n",
        "    model.load_state_dict(checkpoint['best_model_state_dict'])\n",
        "\n",
        "    return model\n",
        "\n",
        "\n",
        "# Load Model\n",
        "\n",
        "LOAD_MODEL_NAME = 'DisReg_MLP_2L_13'\n",
        "INPUT_DIM = 34\n",
        "HIDDEN_DIM = 64\n",
        "DROP_OUT = 0.2\n",
        "\n",
        "model = DisReg_MLP_2Layer(\n",
        "    INPUT_DIM, HIDDEN_DIM, DROP_OUT).to(device)\n",
        "model = load_model(LOAD_MODEL_NAME, model)"
      ],
      "execution_count": 4,
      "outputs": []
    },
    {
      "cell_type": "markdown",
      "metadata": {
        "id": "b35e9YctL_sc"
      },
      "source": [
        "# 3. Load and Process Data"
      ]
    },
    {
      "cell_type": "code",
      "metadata": {
        "id": "g2W9pHdVL5J6"
      },
      "source": [
        "file_path_test = '/content/drive/My Drive/Colab Notebooks/DATA5703/Data/Dataset/[1109]TestData_adjusted.csv'\n",
        "cols = ['id', 'userId', 'gender', 'sport',\n",
        "        'calories', 'Route_id', 'distance_adjusted_sum']\n",
        "\n",
        "test_df = pd.read_csv(file_path_test, usecols=cols, nrows=500)"
      ],
      "execution_count": 5,
      "outputs": []
    },
    {
      "cell_type": "markdown",
      "metadata": {
        "id": "PfgWiC1zSqkb"
      },
      "source": [
        "# 4. Take User Input and Process Data"
      ]
    },
    {
      "cell_type": "code",
      "metadata": {
        "id": "9ftuMWryStTO"
      },
      "source": [
        "# Take User Inputs\n",
        "\n",
        "USER_ID = 13577416\n",
        "GENDER = 'male'\n",
        "SPORT = 'bike'\n",
        "CALORIES = 500\n",
        "WORKOUT_ID = 153749422"
      ],
      "execution_count": 6,
      "outputs": []
    },
    {
      "cell_type": "code",
      "metadata": {
        "id": "dFJY6nvevRsO"
      },
      "source": [
        "# find Route_id based on workout id\n",
        "Route_id = test_df.loc[test_df.id == WORKOUT_ID, 'Route_id'].to_numpy()[0]\n",
        "# find route total distance based on workout id\n",
        "distance_adjusted_sum = test_df.loc[test_df.id ==\n",
        "                                    WORKOUT_ID, 'distance_adjusted_sum'].to_numpy()[0]\n",
        "# find userEmbedding based on userId\n",
        "user_embed = np.array(\n",
        "    user_embed_df[user_embed_df.userId == USER_ID].userEmbed.values[0])\n",
        "# find routeEmbedding based on routeId\n",
        "route_embed = np.array(\n",
        "    route_embed_df[route_embed_df.Route_id == Route_id].routeEmbed.values[0])"
      ],
      "execution_count": 7,
      "outputs": []
    },
    {
      "cell_type": "code",
      "metadata": {
        "id": "aEoE3x26te_J"
      },
      "source": [
        "def data_process(gender, sport, calories, Route_id, distance_adjusted_sum, user_embed, route_embed):\n",
        "    # label encode gender\n",
        "\n",
        "    choices = [0, 1, 2]\n",
        "    conditions = [\n",
        "        (gender == 'male'),\n",
        "        (gender == 'female'),\n",
        "        (gender == 'unknown')]\n",
        "\n",
        "    genderId = np.select(conditions, choices, default=0)\n",
        "\n",
        "    # label encode sport\n",
        "\n",
        "    conditions = [\n",
        "        (sport == 'run'),\n",
        "        (sport == 'bike'),\n",
        "        (sport == 'mountain bike')]\n",
        "\n",
        "    sportId = np.select(conditions, choices, default=0)\n",
        "\n",
        "    # scale calories\n",
        "    calories_scaled = scaler_dic['calories'].transform(\n",
        "        np.array(calories).reshape(-1, 1))[0]\n",
        "    # scale distance\n",
        "    total_distance_scaled = scaler_dic['distance'].transform(\n",
        "        np.array(distance_adjusted_sum).reshape(-1, 1))[0]\n",
        "    # one hot encode genderId and sportId\n",
        "    gender_sport_onehot = OneHot_enc.transform(\n",
        "        np.hstack((genderId, sportId)).reshape(1, -1)).toarray()[0]\n",
        "    # concatenate input features into numpy array\n",
        "    data_input = np.hstack((calories_scaled, total_distance_scaled,\n",
        "                            user_embed, route_embed, gender_sport_onehot))\n",
        "\n",
        "    return data_input\n",
        "\n",
        "\n",
        "data_input = data_process(\n",
        "    GENDER,\n",
        "    SPORT,\n",
        "    CALORIES,\n",
        "    Route_id,\n",
        "    distance_adjusted_sum,\n",
        "    user_embed,\n",
        "    route_embed)"
      ],
      "execution_count": 8,
      "outputs": []
    },
    {
      "cell_type": "markdown",
      "metadata": {
        "id": "qFybmnklvEaQ"
      },
      "source": [
        "# 5. Inference"
      ]
    },
    {
      "cell_type": "code",
      "metadata": {
        "id": "ajDBItv8r2d_"
      },
      "source": [
        "model.eval()\n",
        "with torch.no_grad():\n",
        "    pred = model(torch.Tensor(data_input).to(device)).item()\n",
        "\n",
        "# convert predicted distance to km\n",
        "pred_km = scaler_dic['distance'].inverse_transform(\n",
        "    np.array(pred).reshape(-1, 1))[0][0]"
      ],
      "execution_count": 9,
      "outputs": []
    },
    {
      "cell_type": "code",
      "metadata": {
        "id": "obj6wZtBNSFx",
        "outputId": "2c930709-de5e-466c-db46-17dd9c715b32",
        "colab": {
          "base_uri": "https://localhost:8080/"
        }
      },
      "source": [
        "print('Predicted distance: {:.4} km'.format(pred_km))\n",
        "print('Workout route total distance: {:.4} km'.format(distance_adjusted_sum))"
      ],
      "execution_count": 10,
      "outputs": [
        {
          "output_type": "stream",
          "text": [
            "Predicted distance: 14.87 km\n",
            "Workout route total distance: 15.06 km\n"
          ],
          "name": "stdout"
        }
      ]
    },
    {
      "cell_type": "code",
      "metadata": {
        "id": "TgNnuURXRNMo"
      },
      "source": [
        ""
      ],
      "execution_count": null,
      "outputs": []
    }
  ]
}