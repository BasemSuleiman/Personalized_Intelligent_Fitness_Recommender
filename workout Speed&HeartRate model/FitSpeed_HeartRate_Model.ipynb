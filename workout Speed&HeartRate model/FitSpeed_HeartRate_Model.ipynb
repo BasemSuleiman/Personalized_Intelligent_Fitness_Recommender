{
  "nbformat": 4,
  "nbformat_minor": 0,
  "metadata": {
    "accelerator": "GPU",
    "colab": {
      "name": "FitSpeed/HeartRate Model.ipynb",
      "provenance": [],
      "collapsed_sections": [
        "AoGeeIXyfA4O"
      ],
      "toc_visible": true,
      "machine_shape": "hm"
    },
    "kernelspec": {
      "display_name": "Python 3",
      "name": "python3"
    }
  },
  "cells": [
    {
      "cell_type": "markdown",
      "metadata": {
        "id": "6qfPHY5nvu5I"
      },
      "source": [
        "# Load Dependency\n"
      ]
    },
    {
      "cell_type": "code",
      "metadata": {
        "colab": {
          "base_uri": "https://localhost:8080/"
        },
        "id": "8ZSxp-_c2dYF",
        "outputId": "1ec24315-a84a-43b0-badf-1e0a04e47fa5"
      },
      "source": [
        "!nvidia-smi"
      ],
      "execution_count": null,
      "outputs": [
        {
          "output_type": "stream",
          "text": [
            "Sat Dec 12 10:15:46 2020       \n",
            "+-----------------------------------------------------------------------------+\n",
            "| NVIDIA-SMI 455.45.01    Driver Version: 418.67       CUDA Version: 10.1     |\n",
            "|-------------------------------+----------------------+----------------------+\n",
            "| GPU  Name        Persistence-M| Bus-Id        Disp.A | Volatile Uncorr. ECC |\n",
            "| Fan  Temp  Perf  Pwr:Usage/Cap|         Memory-Usage | GPU-Util  Compute M. |\n",
            "|                               |                      |               MIG M. |\n",
            "|===============================+======================+======================|\n",
            "|   0  Tesla V100-SXM2...  Off  | 00000000:00:04.0 Off |                    0 |\n",
            "| N/A   41C    P0    26W / 300W |      0MiB / 16130MiB |      0%      Default |\n",
            "|                               |                      |                 ERR! |\n",
            "+-------------------------------+----------------------+----------------------+\n",
            "                                                                               \n",
            "+-----------------------------------------------------------------------------+\n",
            "| Processes:                                                                  |\n",
            "|  GPU   GI   CI        PID   Type   Process name                  GPU Memory |\n",
            "|        ID   ID                                                   Usage      |\n",
            "|=============================================================================|\n",
            "|  No running processes found                                                 |\n",
            "+-----------------------------------------------------------------------------+\n"
          ],
          "name": "stdout"
        }
      ]
    },
    {
      "cell_type": "code",
      "metadata": {
        "colab": {
          "base_uri": "https://localhost:8080/",
          "height": 464
        },
        "id": "gtmC_Fm59jOq",
        "outputId": "26375968-e41b-405b-fdb0-f7dbf47f13d4"
      },
      "source": [
        "!pip install scikit-tensor-py3"
      ],
      "execution_count": null,
      "outputs": [
        {
          "output_type": "stream",
          "text": [
            "Collecting scikit-tensor-py3\n",
            "\u001b[?25l  Downloading https://files.pythonhosted.org/packages/33/91/28aa13c7c056c37d53677881cdff1c7e8da097aea5c0e4cb4faafb44ce4f/scikit_tensor_py3-0.4.1-py3-none-any.whl (48kB)\n",
            "\u001b[K     |████████████████████████████████| 51kB 5.8MB/s \n",
            "\u001b[?25hCollecting numpy==1.16.*\n",
            "\u001b[?25l  Downloading https://files.pythonhosted.org/packages/90/b1/ba7e59da253c58aaf874ea790ae71d6870255a5243010d94688c41618678/numpy-1.16.6-cp36-cp36m-manylinux1_x86_64.whl (17.4MB)\n",
            "\u001b[K     |████████████████████████████████| 17.4MB 357kB/s \n",
            "\u001b[?25hCollecting scipy==1.3.*\n",
            "\u001b[?25l  Downloading https://files.pythonhosted.org/packages/54/18/d7c101d5e93b6c78dc206fcdf7bd04c1f8138a7b1a93578158fa3b132b08/scipy-1.3.3-cp36-cp36m-manylinux1_x86_64.whl (25.2MB)\n",
            "\u001b[K     |████████████████████████████████| 25.2MB 1.3MB/s \n",
            "\u001b[31mERROR: umap-learn 0.4.6 has requirement numpy>=1.17, but you'll have numpy 1.16.6 which is incompatible.\u001b[0m\n",
            "\u001b[31mERROR: tensorflow 2.3.0 has requirement scipy==1.4.1, but you'll have scipy 1.3.3 which is incompatible.\u001b[0m\n",
            "\u001b[31mERROR: datascience 0.10.6 has requirement folium==0.2.1, but you'll have folium 0.8.3 which is incompatible.\u001b[0m\n",
            "\u001b[31mERROR: albumentations 0.1.12 has requirement imgaug<0.2.7,>=0.2.5, but you'll have imgaug 0.2.9 which is incompatible.\u001b[0m\n",
            "\u001b[?25hInstalling collected packages: numpy, scipy, scikit-tensor-py3\n",
            "  Found existing installation: numpy 1.18.5\n",
            "    Uninstalling numpy-1.18.5:\n",
            "      Successfully uninstalled numpy-1.18.5\n",
            "  Found existing installation: scipy 1.4.1\n",
            "    Uninstalling scipy-1.4.1:\n",
            "      Successfully uninstalled scipy-1.4.1\n",
            "Successfully installed numpy-1.16.6 scikit-tensor-py3-0.4.1 scipy-1.3.3\n"
          ],
          "name": "stdout"
        },
        {
          "output_type": "display_data",
          "data": {
            "application/vnd.colab-display-data+json": {
              "pip_warning": {
                "packages": [
                  "numpy"
                ]
              }
            }
          },
          "metadata": {
            "tags": []
          }
        }
      ]
    },
    {
      "cell_type": "code",
      "metadata": {
        "id": "X8zAb32P2vQW"
      },
      "source": [
        "from google.colab import drive\n",
        "import pandas as pd\n",
        "import numpy as np\n",
        "import random\n",
        "import os\n",
        "# from sklearn.preprocessing import OneHotEncoder\n",
        "from sklearn.model_selection import train_test_split\n",
        "from sklearn.preprocessing import MinMaxScaler,OneHotEncoder\n",
        "from sklearn.metrics import mean_squared_error \n",
        "from sklearn.metrics import mean_absolute_error\n",
        "from sklearn.externals import joblib\n",
        "#\n",
        "# from keras.models import Sequential,Model\n",
        "# from keras.layers import Dense,Input,Embedding,Concatenate,Reshape,Flatten\n",
        "# from keras.layers import LSTM,Dropout,Activation,Bidirectional\n",
        "# from keras.optimizers import Adagrad, Adam, SGD, RMSprop\n",
        "# from keras.models import load_model,save_model\n",
        "# from keras.utils import plot_model\n",
        "#\n",
        "import plotly.express as px\n",
        "\n",
        "import tensorflow as tf\n",
        "from tensorflow.keras.models import Sequential,Model\n",
        "from tensorflow.keras.layers import Dense, LSTM,Dropout,Activation,Input,Bidirectional\n",
        "from tensorflow.keras.optimizers import Adagrad, Adam, SGD, RMSprop\n",
        "from tensorflow.keras.models import load_model,save_model\n",
        "from tensorflow.keras.utils import plot_model,to_categorical\n",
        "# import tensorflow as tf\n",
        "# from tensorflow import keras\n",
        "# drive.mount('/content/gdrive/') "
      ],
      "execution_count": 5,
      "outputs": []
    },
    {
      "cell_type": "markdown",
      "metadata": {
        "id": "qqWjFcrvAf5o"
      },
      "source": [
        "# Load Data"
      ]
    },
    {
      "cell_type": "code",
      "metadata": {
        "id": "wRn-Z3Q9cvNn",
        "colab": {
          "base_uri": "https://localhost:8080/"
        },
        "outputId": "20eb3669-47b1-42d6-e673-ff067060f13f"
      },
      "source": [
        "!gdown --id 1-RXYMh61x9asaVU_w5tDHtq0CMmp_Rdn\n",
        "!gdown --id 1--znLUhuYqoMMqQo1Gnf6WafrzzniIFL"
      ],
      "execution_count": 8,
      "outputs": [
        {
          "output_type": "stream",
          "text": [
            "Downloading...\n",
            "From: https://drive.google.com/uc?id=1-RXYMh61x9asaVU_w5tDHtq0CMmp_Rdn\n",
            "To: /content/TrainData.csv\n",
            "2.58GB [00:15, 165MB/s]\n",
            "Downloading...\n",
            "From: https://drive.google.com/uc?id=1--znLUhuYqoMMqQo1Gnf6WafrzzniIFL\n",
            "To: /content/TestData.csv\n",
            "645MB [00:07, 88.1MB/s]\n"
          ],
          "name": "stdout"
        }
      ]
    },
    {
      "cell_type": "code",
      "metadata": {
        "id": "hhzcaJOGIn7y",
        "colab": {
          "base_uri": "https://localhost:8080/"
        },
        "outputId": "367df33f-bd67-4015-c327-ad170643d4af"
      },
      "source": [
        "%%time\n",
        "# Load Raw Data\n",
        "# https://drive.google.com/file/d/1-RXYMh61x9asaVU_w5tDHtq0CMmp_Rdn/view?usp=sharing\n",
        "file_path_train = './TrainData.csv'\n",
        "# https://drive.google.com/file/d/1--znLUhuYqoMMqQo1Gnf6WafrzzniIFL/view?usp=sharing\n",
        "file_path_test ='./TestData.csv'\n",
        "cols = ['id','userId', 'gender', 'sport', 'calories', 'Route_id','derived_distance','altitude','derived_speed','heart_rate','distance','time_elapsed']\n",
        "train_df = pd.read_csv(file_path_train,usecols=cols)\n",
        "test_df = pd.read_csv(file_path_test,usecols=cols)\n",
        "train_df.rename(columns={'derived_speed': 'speed'},inplace=True)\n",
        "\n",
        "test_df.rename(columns={'derived_speed': 'speed'},inplace=True)\n",
        "print(train_df.shape)\n",
        "print(test_df.shape)"
      ],
      "execution_count": 9,
      "outputs": [
        {
          "output_type": "stream",
          "text": [
            "(50253, 12)\n",
            "(12578, 12)\n",
            "CPU times: user 15.9 s, sys: 2.14 s, total: 18.1 s\n",
            "Wall time: 18.6 s\n"
          ],
          "name": "stdout"
        }
      ]
    },
    {
      "cell_type": "code",
      "metadata": {
        "colab": {
          "base_uri": "https://localhost:8080/"
        },
        "id": "eGZQi2Gn5jfa",
        "outputId": "8d3ecce5-e1dc-4fdb-94e0-7e7693cbdb3d"
      },
      "source": [
        "train_df.groupby(['Route_id','sport']).size()"
      ],
      "execution_count": 10,
      "outputs": [
        {
          "output_type": "execute_result",
          "data": {
            "text/plain": [
              "Route_id  sport        \n",
              "0         bike              4722\n",
              "1         bike              2756\n",
              "2         bike             10666\n",
              "3         bike               788\n",
              "4         bike               259\n",
              "5         mountain bike      549\n",
              "6         mountain bike      131\n",
              "7         mountain bike     1941\n",
              "8         run               3271\n",
              "9         run               3353\n",
              "10        run              17465\n",
              "11        run                819\n",
              "12        run               3089\n",
              "13        run                444\n",
              "dtype: int64"
            ]
          },
          "metadata": {
            "tags": []
          },
          "execution_count": 10
        }
      ]
    },
    {
      "cell_type": "code",
      "metadata": {
        "id": "8D_2GDAIgQWf",
        "colab": {
          "base_uri": "https://localhost:8080/",
          "height": 227
        },
        "outputId": "dbbd9a53-013b-4002-b7ed-2e8e21193659"
      },
      "source": [
        "train_df.head(3)"
      ],
      "execution_count": 11,
      "outputs": [
        {
          "output_type": "execute_result",
          "data": {
            "text/html": [
              "<div>\n",
              "<style scoped>\n",
              "    .dataframe tbody tr th:only-of-type {\n",
              "        vertical-align: middle;\n",
              "    }\n",
              "\n",
              "    .dataframe tbody tr th {\n",
              "        vertical-align: top;\n",
              "    }\n",
              "\n",
              "    .dataframe thead th {\n",
              "        text-align: right;\n",
              "    }\n",
              "</style>\n",
              "<table border=\"1\" class=\"dataframe\">\n",
              "  <thead>\n",
              "    <tr style=\"text-align: right;\">\n",
              "      <th></th>\n",
              "      <th>id</th>\n",
              "      <th>userId</th>\n",
              "      <th>gender</th>\n",
              "      <th>sport</th>\n",
              "      <th>calories</th>\n",
              "      <th>distance</th>\n",
              "      <th>altitude</th>\n",
              "      <th>heart_rate</th>\n",
              "      <th>derived_distance</th>\n",
              "      <th>speed</th>\n",
              "      <th>time_elapsed</th>\n",
              "      <th>Route_id</th>\n",
              "    </tr>\n",
              "  </thead>\n",
              "  <tbody>\n",
              "    <tr>\n",
              "      <th>0</th>\n",
              "      <td>611012078</td>\n",
              "      <td>2568526</td>\n",
              "      <td>male</td>\n",
              "      <td>run</td>\n",
              "      <td>830.588</td>\n",
              "      <td>10.02</td>\n",
              "      <td>[137.8, 137.8, 138.2, 138.8, 138.8, 138.6, 139...</td>\n",
              "      <td>[140, 140, 141, 149, 149, 150, 153, 157, 160, ...</td>\n",
              "      <td>[0.0016049429213742246, 0.01260242289257531, 0...</td>\n",
              "      <td>[5.777794516947209, 10.005378447215753, 10.428...</td>\n",
              "      <td>[1, 4, 5, 1, 5, 6, 11, 4, 6, 7, 8, 7, 7, 9, 5,...</td>\n",
              "      <td>9</td>\n",
              "    </tr>\n",
              "    <tr>\n",
              "      <th>1</th>\n",
              "      <td>326004692</td>\n",
              "      <td>11889307</td>\n",
              "      <td>unknown</td>\n",
              "      <td>bike</td>\n",
              "      <td>530.000</td>\n",
              "      <td>46.04</td>\n",
              "      <td>[18.4, 17.6, 17.6, 17.6, 19.0, 19.8, 21.4, 22....</td>\n",
              "      <td>[80, 75, 68, 71, 78, 71, 67, 66, 64, 75, 68, 6...</td>\n",
              "      <td>[0.04356151376031798, 0.11363834298901357, 0.0...</td>\n",
              "      <td>[26.136908256190786, 34.09150289670407, 39.197...</td>\n",
              "      <td>[6, 12, 7, 11, 8, 10, 11, 8, 9, 13, 6, 13, 11,...</td>\n",
              "      <td>0</td>\n",
              "    </tr>\n",
              "    <tr>\n",
              "      <th>2</th>\n",
              "      <td>282989006</td>\n",
              "      <td>1912029</td>\n",
              "      <td>female</td>\n",
              "      <td>run</td>\n",
              "      <td>848.631</td>\n",
              "      <td>10.89</td>\n",
              "      <td>[498.8, 498.4, 497.4, 495.2, 493.4, 491.0, 490...</td>\n",
              "      <td>[82, 93, 104, 117, 128, 135, 137, 139, 138, 14...</td>\n",
              "      <td>[0.010829722470982562, 0.010618715062935378, 0...</td>\n",
              "      <td>[7.797400179107444, 8.821489242357188, 8.31756...</td>\n",
              "      <td>[5, 4, 7, 8, 11, 7, 19, 6, 13, 13, 13, 11, 11,...</td>\n",
              "      <td>8</td>\n",
              "    </tr>\n",
              "  </tbody>\n",
              "</table>\n",
              "</div>"
            ],
            "text/plain": [
              "          id  ...  Route_id\n",
              "0  611012078  ...         9\n",
              "1  326004692  ...         0\n",
              "2  282989006  ...         8\n",
              "\n",
              "[3 rows x 12 columns]"
            ]
          },
          "metadata": {
            "tags": []
          },
          "execution_count": 11
        }
      ]
    },
    {
      "cell_type": "code",
      "metadata": {
        "id": "gjqHf9FTNRP3"
      },
      "source": [
        "# Encode gender feature\n",
        "\n",
        "conditions = [\n",
        "    (train_df['gender'] == 'male'),\n",
        "    (train_df['gender'] == 'female'),\n",
        "    (train_df['gender'] == 'unknown')]\n",
        "\n",
        "choices = [0, 1, 2]\n",
        "\n",
        "train_df['genderId'] = np.select(conditions, choices, default=0)\n",
        "\n",
        "conditions = [\n",
        "    (test_df['gender'] == 'male'),\n",
        "    (test_df['gender'] == 'female'),\n",
        "    (test_df['gender'] == 'unknown')]\n",
        "\n",
        "test_df['genderId'] = np.select(conditions, choices, default=0)"
      ],
      "execution_count": 12,
      "outputs": []
    },
    {
      "cell_type": "code",
      "metadata": {
        "id": "6QugUXdXSpWe"
      },
      "source": [
        "# Encode sport feature\n",
        "\n",
        "conditions = [\n",
        "    (train_df['sport'] == 'run'),\n",
        "    (train_df['sport'] == 'bike'),\n",
        "    (train_df['sport'] == 'mountain bike')]\n",
        "\n",
        "choices = [0, 1, 2]\n",
        "\n",
        "train_df['sportId'] = np.select(conditions, choices, default=0)\n",
        "\n",
        "conditions = [\n",
        "    (test_df['sport'] == 'run'),\n",
        "    (test_df['sport'] == 'bike'),\n",
        "    (test_df['sport'] == 'mountain bike')]\n",
        "\n",
        "test_df['sportId'] = np.select(conditions, choices, default=0)"
      ],
      "execution_count": 13,
      "outputs": []
    },
    {
      "cell_type": "code",
      "metadata": {
        "colab": {
          "base_uri": "https://localhost:8080/"
        },
        "id": "CQhQQzLBe7SN",
        "outputId": "6833b3d5-cae2-475c-f4e5-812ce96f7d0f"
      },
      "source": [
        "!wget https://drive.google.com/drive/folders/13GpKEaFOSyv0QvWLPoD053QyF43YyIZu?usp=sharing"
      ],
      "execution_count": 17,
      "outputs": [
        {
          "output_type": "stream",
          "text": [
            "--2020-12-12 10:28:22--  https://drive.google.com/drive/folders/13GpKEaFOSyv0QvWLPoD053QyF43YyIZu?usp=sharing\n",
            "Resolving drive.google.com (drive.google.com)... 108.177.127.138, 108.177.127.100, 108.177.127.113, ...\n",
            "Connecting to drive.google.com (drive.google.com)|108.177.127.138|:443... connected.\n",
            "HTTP request sent, awaiting response... 200 OK\n",
            "Length: unspecified [text/html]\n",
            "Saving to: ‘13GpKEaFOSyv0QvWLPoD053QyF43YyIZu?usp=sharing’\n",
            "\n",
            "13GpKEaFOSyv0QvWLPo     [  <=>               ] 197.23K   710KB/s    in 0.3s    \n",
            "\n",
            "2020-12-12 10:28:23 (710 KB/s) - ‘13GpKEaFOSyv0QvWLPoD053QyF43YyIZu?usp=sharing’ saved [201959]\n",
            "\n"
          ],
          "name": "stdout"
        }
      ]
    },
    {
      "cell_type": "code",
      "metadata": {
        "colab": {
          "resources": {
            "http://localhost:8080/nbextensions/google.colab/files.js": {
              "data": "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",
              "ok": true,
              "headers": [
                [
                  "content-type",
                  "application/javascript"
                ]
              ],
              "status": 200,
              "status_text": ""
            }
          },
          "base_uri": "https://localhost:8080/",
          "height": 76
        },
        "id": "ctzpViJmfsW_",
        "outputId": "9b84c652-c712-4817-9ff0-d0ec60e72177"
      },
      "source": [
        "from google.colab import files\n",
        "files.upload()\n",
        "# upload CS31-2-USYD/Pre-trained Model/scaler model/scaler.zip\n",
        "!unzip -uq './scaler.zip' -d './scaler'"
      ],
      "execution_count": 26,
      "outputs": [
        {
          "output_type": "display_data",
          "data": {
            "text/html": [
              "\n",
              "     <input type=\"file\" id=\"files-8021c356-94c1-499c-8e46-341da8cb3b5c\" name=\"files[]\" multiple disabled\n",
              "        style=\"border:none\" />\n",
              "     <output id=\"result-8021c356-94c1-499c-8e46-341da8cb3b5c\">\n",
              "      Upload widget is only available when the cell has been executed in the\n",
              "      current browser session. Please rerun this cell to enable.\n",
              "      </output>\n",
              "      <script src=\"/nbextensions/google.colab/files.js\"></script> "
            ],
            "text/plain": [
              "<IPython.core.display.HTML object>"
            ]
          },
          "metadata": {
            "tags": []
          }
        },
        {
          "output_type": "stream",
          "text": [
            "Saving scaler.zip to scaler (1).zip\n"
          ],
          "name": "stdout"
        }
      ]
    },
    {
      "cell_type": "code",
      "metadata": {
        "id": "QIj7kZg6AiwK",
        "colab": {
          "base_uri": "https://localhost:8080/"
        },
        "outputId": "8a1fad61-0819-423c-d9ad-682914f3d49f"
      },
      "source": [
        "# Load Min-max scaler models\n",
        "scaler_dic = dict()\n",
        "features = ['calories', 'distance', 'heart_rate', 'altitude', 'derived_distance', 'speed']\n",
        "\n",
        "dir = './scaler'\n",
        "for feature in features:\n",
        "    path = os.path.join(dir, 'scaler_'+feature+'_2.m')\n",
        "    scaler_dic[feature] = joblib.load(path)\n",
        "\n",
        "scaler_dic"
      ],
      "execution_count": 27,
      "outputs": [
        {
          "output_type": "execute_result",
          "data": {
            "text/plain": [
              "{'altitude': MinMaxScaler(copy=True, feature_range=(0, 1)),\n",
              " 'calories': MinMaxScaler(copy=True, feature_range=(0, 1)),\n",
              " 'derived_distance': MinMaxScaler(copy=True, feature_range=(0, 1)),\n",
              " 'distance': MinMaxScaler(copy=True, feature_range=(0, 1)),\n",
              " 'heart_rate': MinMaxScaler(copy=True, feature_range=(0, 1)),\n",
              " 'speed': MinMaxScaler(copy=True, feature_range=(0, 1))}"
            ]
          },
          "metadata": {
            "tags": []
          },
          "execution_count": 27
        }
      ]
    },
    {
      "cell_type": "code",
      "metadata": {
        "id": "dpxGUPQymPF5",
        "colab": {
          "base_uri": "https://localhost:8080/",
          "height": 143
        },
        "outputId": "2401a442-0a76-4897-acbc-e4a9e7cfbee2"
      },
      "source": [
        "train_sequence_df = train_df[['altitude', 'heart_rate',\n",
        "                       'derived_distance', 'speed']].copy()\n",
        "train_context_df = train_df[['id','userId', 'genderId', 'sportId', 'calories', 'distance', 'Route_id']].copy()\n",
        "\n",
        "test_sequence_df = test_df[['altitude', 'heart_rate',\n",
        "                       'derived_distance', 'speed']].copy()\n",
        "test_context_df = test_df[['id','userId', 'genderId', 'sportId', 'calories', 'distance', 'Route_id']].copy()\n",
        "\n",
        "display(train_sequence_df.head(1))\n",
        "display(train_context_df.head(1))"
      ],
      "execution_count": 28,
      "outputs": [
        {
          "output_type": "display_data",
          "data": {
            "text/html": [
              "<div>\n",
              "<style scoped>\n",
              "    .dataframe tbody tr th:only-of-type {\n",
              "        vertical-align: middle;\n",
              "    }\n",
              "\n",
              "    .dataframe tbody tr th {\n",
              "        vertical-align: top;\n",
              "    }\n",
              "\n",
              "    .dataframe thead th {\n",
              "        text-align: right;\n",
              "    }\n",
              "</style>\n",
              "<table border=\"1\" class=\"dataframe\">\n",
              "  <thead>\n",
              "    <tr style=\"text-align: right;\">\n",
              "      <th></th>\n",
              "      <th>altitude</th>\n",
              "      <th>heart_rate</th>\n",
              "      <th>derived_distance</th>\n",
              "      <th>speed</th>\n",
              "    </tr>\n",
              "  </thead>\n",
              "  <tbody>\n",
              "    <tr>\n",
              "      <th>0</th>\n",
              "      <td>[137.8, 137.8, 138.2, 138.8, 138.8, 138.6, 139...</td>\n",
              "      <td>[140, 140, 141, 149, 149, 150, 153, 157, 160, ...</td>\n",
              "      <td>[0.0016049429213742246, 0.01260242289257531, 0...</td>\n",
              "      <td>[5.777794516947209, 10.005378447215753, 10.428...</td>\n",
              "    </tr>\n",
              "  </tbody>\n",
              "</table>\n",
              "</div>"
            ],
            "text/plain": [
              "                                            altitude  ...                                              speed\n",
              "0  [137.8, 137.8, 138.2, 138.8, 138.8, 138.6, 139...  ...  [5.777794516947209, 10.005378447215753, 10.428...\n",
              "\n",
              "[1 rows x 4 columns]"
            ]
          },
          "metadata": {
            "tags": []
          }
        },
        {
          "output_type": "display_data",
          "data": {
            "text/html": [
              "<div>\n",
              "<style scoped>\n",
              "    .dataframe tbody tr th:only-of-type {\n",
              "        vertical-align: middle;\n",
              "    }\n",
              "\n",
              "    .dataframe tbody tr th {\n",
              "        vertical-align: top;\n",
              "    }\n",
              "\n",
              "    .dataframe thead th {\n",
              "        text-align: right;\n",
              "    }\n",
              "</style>\n",
              "<table border=\"1\" class=\"dataframe\">\n",
              "  <thead>\n",
              "    <tr style=\"text-align: right;\">\n",
              "      <th></th>\n",
              "      <th>id</th>\n",
              "      <th>userId</th>\n",
              "      <th>genderId</th>\n",
              "      <th>sportId</th>\n",
              "      <th>calories</th>\n",
              "      <th>distance</th>\n",
              "      <th>Route_id</th>\n",
              "    </tr>\n",
              "  </thead>\n",
              "  <tbody>\n",
              "    <tr>\n",
              "      <th>0</th>\n",
              "      <td>611012078</td>\n",
              "      <td>2568526</td>\n",
              "      <td>0</td>\n",
              "      <td>0</td>\n",
              "      <td>830.588</td>\n",
              "      <td>10.02</td>\n",
              "      <td>9</td>\n",
              "    </tr>\n",
              "  </tbody>\n",
              "</table>\n",
              "</div>"
            ],
            "text/plain": [
              "          id   userId  genderId  sportId  calories  distance  Route_id\n",
              "0  611012078  2568526         0        0   830.588     10.02         9"
            ]
          },
          "metadata": {
            "tags": []
          }
        }
      ]
    },
    {
      "cell_type": "code",
      "metadata": {
        "id": "jtJvyk1MMnTM",
        "colab": {
          "base_uri": "https://localhost:8080/",
          "height": 177
        },
        "outputId": "d5194865-bc6c-4523-cf21-336b385ad75c"
      },
      "source": [
        "# Apply min max scaler for each feature\n",
        "%%time\n",
        "# for features in sequence_df\n",
        "for feature in train_sequence_df.columns:\n",
        "    # Reshape data using array.reshape(-1, 1) if data has a single feature\n",
        "    train_sequence_df[feature] = train_sequence_df.apply(lambda x: np.concatenate(\n",
        "        scaler_dic[feature].transform(np.array(eval(x[feature])).reshape(-1, 1)), axis=0)[0:499], axis=1)\n",
        "    \n",
        "    test_sequence_df[feature] = test_sequence_df.apply(lambda x: np.concatenate(\n",
        "        scaler_dic[feature].transform(np.array(eval(x[feature])).reshape(-1, 1)), axis=0)[0:499], axis=1)\n",
        "\n",
        "\n",
        "# for features in context_df\n",
        "for feature in train_context_df[train_context_df.columns.difference(['id','userId',\n",
        "              'genderId', \n",
        "              'sportId', \n",
        "              'Route_id'])].columns:\n",
        "    # Reshape data using array.reshape(-1, 1) if data has a single feature\n",
        "    train_context_df[feature] = scaler_dic[feature].transform(\n",
        "        train_context_df[feature].to_numpy().reshape(-1, 1))\n",
        "    \n",
        "    test_context_df[feature] = scaler_dic[feature].transform(\n",
        "        test_context_df[feature].to_numpy().reshape(-1, 1))\n",
        "\n",
        "\n",
        "display(train_sequence_df.head(1))\n",
        "display(train_context_df.head(1))"
      ],
      "execution_count": 29,
      "outputs": [
        {
          "output_type": "display_data",
          "data": {
            "text/html": [
              "<div>\n",
              "<style scoped>\n",
              "    .dataframe tbody tr th:only-of-type {\n",
              "        vertical-align: middle;\n",
              "    }\n",
              "\n",
              "    .dataframe tbody tr th {\n",
              "        vertical-align: top;\n",
              "    }\n",
              "\n",
              "    .dataframe thead th {\n",
              "        text-align: right;\n",
              "    }\n",
              "</style>\n",
              "<table border=\"1\" class=\"dataframe\">\n",
              "  <thead>\n",
              "    <tr style=\"text-align: right;\">\n",
              "      <th></th>\n",
              "      <th>altitude</th>\n",
              "      <th>heart_rate</th>\n",
              "      <th>derived_distance</th>\n",
              "      <th>speed</th>\n",
              "    </tr>\n",
              "  </thead>\n",
              "  <tbody>\n",
              "    <tr>\n",
              "      <th>0</th>\n",
              "      <td>[0.21051532033426185, 0.21051532033426185, 0.2...</td>\n",
              "      <td>[0.5833333333333334, 0.5833333333333334, 0.587...</td>\n",
              "      <td>[0.0008705472935918672, 0.006835760322515244, ...</td>\n",
              "      <td>[0.05777888189652973, 0.10005540659781222, 0.1...</td>\n",
              "    </tr>\n",
              "  </tbody>\n",
              "</table>\n",
              "</div>"
            ],
            "text/plain": [
              "                                            altitude  ...                                              speed\n",
              "0  [0.21051532033426185, 0.21051532033426185, 0.2...  ...  [0.05777888189652973, 0.10005540659781222, 0.1...\n",
              "\n",
              "[1 rows x 4 columns]"
            ]
          },
          "metadata": {
            "tags": []
          }
        },
        {
          "output_type": "display_data",
          "data": {
            "text/html": [
              "<div>\n",
              "<style scoped>\n",
              "    .dataframe tbody tr th:only-of-type {\n",
              "        vertical-align: middle;\n",
              "    }\n",
              "\n",
              "    .dataframe tbody tr th {\n",
              "        vertical-align: top;\n",
              "    }\n",
              "\n",
              "    .dataframe thead th {\n",
              "        text-align: right;\n",
              "    }\n",
              "</style>\n",
              "<table border=\"1\" class=\"dataframe\">\n",
              "  <thead>\n",
              "    <tr style=\"text-align: right;\">\n",
              "      <th></th>\n",
              "      <th>id</th>\n",
              "      <th>userId</th>\n",
              "      <th>genderId</th>\n",
              "      <th>sportId</th>\n",
              "      <th>calories</th>\n",
              "      <th>distance</th>\n",
              "      <th>Route_id</th>\n",
              "    </tr>\n",
              "  </thead>\n",
              "  <tbody>\n",
              "    <tr>\n",
              "      <th>0</th>\n",
              "      <td>611012078</td>\n",
              "      <td>2568526</td>\n",
              "      <td>0</td>\n",
              "      <td>0</td>\n",
              "      <td>0.149145</td>\n",
              "      <td>0.07643</td>\n",
              "      <td>9</td>\n",
              "    </tr>\n",
              "  </tbody>\n",
              "</table>\n",
              "</div>"
            ],
            "text/plain": [
              "          id   userId  genderId  sportId  calories  distance  Route_id\n",
              "0  611012078  2568526         0        0  0.149145   0.07643         9"
            ]
          },
          "metadata": {
            "tags": []
          }
        },
        {
          "output_type": "stream",
          "text": [
            "CPU times: user 4min 9s, sys: 5.29 s, total: 4min 14s\n",
            "Wall time: 4min 14s\n"
          ],
          "name": "stdout"
        }
      ]
    },
    {
      "cell_type": "code",
      "metadata": {
        "colab": {
          "base_uri": "https://localhost:8080/",
          "height": 97
        },
        "id": "Hkbx4RlpRSr8",
        "outputId": "370d1778-0346-481e-cf11-88a88f7d3d1c"
      },
      "source": [
        "train_df = pd.concat([train_context_df, train_sequence_df], axis=1)\n",
        "test_df = pd.concat([test_context_df, test_sequence_df], axis=1)\n",
        "\n",
        "train_df.head(1)"
      ],
      "execution_count": 30,
      "outputs": [
        {
          "output_type": "execute_result",
          "data": {
            "text/html": [
              "<div>\n",
              "<style scoped>\n",
              "    .dataframe tbody tr th:only-of-type {\n",
              "        vertical-align: middle;\n",
              "    }\n",
              "\n",
              "    .dataframe tbody tr th {\n",
              "        vertical-align: top;\n",
              "    }\n",
              "\n",
              "    .dataframe thead th {\n",
              "        text-align: right;\n",
              "    }\n",
              "</style>\n",
              "<table border=\"1\" class=\"dataframe\">\n",
              "  <thead>\n",
              "    <tr style=\"text-align: right;\">\n",
              "      <th></th>\n",
              "      <th>id</th>\n",
              "      <th>userId</th>\n",
              "      <th>genderId</th>\n",
              "      <th>sportId</th>\n",
              "      <th>calories</th>\n",
              "      <th>distance</th>\n",
              "      <th>Route_id</th>\n",
              "      <th>altitude</th>\n",
              "      <th>heart_rate</th>\n",
              "      <th>derived_distance</th>\n",
              "      <th>speed</th>\n",
              "    </tr>\n",
              "  </thead>\n",
              "  <tbody>\n",
              "    <tr>\n",
              "      <th>0</th>\n",
              "      <td>611012078</td>\n",
              "      <td>2568526</td>\n",
              "      <td>0</td>\n",
              "      <td>0</td>\n",
              "      <td>0.149145</td>\n",
              "      <td>0.07643</td>\n",
              "      <td>9</td>\n",
              "      <td>[0.21051532033426185, 0.21051532033426185, 0.2...</td>\n",
              "      <td>[0.5833333333333334, 0.5833333333333334, 0.587...</td>\n",
              "      <td>[0.0008705472935918672, 0.006835760322515244, ...</td>\n",
              "      <td>[0.05777888189652973, 0.10005540659781222, 0.1...</td>\n",
              "    </tr>\n",
              "  </tbody>\n",
              "</table>\n",
              "</div>"
            ],
            "text/plain": [
              "          id  ...                                              speed\n",
              "0  611012078  ...  [0.05777888189652973, 0.10005540659781222, 0.1...\n",
              "\n",
              "[1 rows x 11 columns]"
            ]
          },
          "metadata": {
            "tags": []
          },
          "execution_count": 30
        }
      ]
    },
    {
      "cell_type": "markdown",
      "metadata": {
        "id": "_QeA3FqmroX2"
      },
      "source": [
        "### Load embedding layer"
      ]
    },
    {
      "cell_type": "code",
      "metadata": {
        "colab": {
          "base_uri": "https://localhost:8080/"
        },
        "id": "UmWvzazgtiQP",
        "outputId": "470ffded-d166-4204-cf74-dff9d9c896ad"
      },
      "source": [
        "!gdown --id 1ILtqnNBaCfEsV7mrJ4UGPMp9fK3iHiq7\n",
        "!gdown --id 1Z9XqkkfHG-HOdwSrLTf2k-9-IMB3xor5"
      ],
      "execution_count": 31,
      "outputs": [
        {
          "output_type": "stream",
          "text": [
            "Downloading...\n",
            "From: https://drive.google.com/uc?id=1ILtqnNBaCfEsV7mrJ4UGPMp9fK3iHiq7\n",
            "To: /content/userEmbed_tensorD_13.m\n",
            "100% 443k/443k [00:00<00:00, 69.5MB/s]\n",
            "Downloading...\n",
            "From: https://drive.google.com/uc?id=1Z9XqkkfHG-HOdwSrLTf2k-9-IMB3xor5\n",
            "To: /content/routeEmbed_tensorD_13.m\n",
            "100% 8.18k/8.18k [00:00<00:00, 7.07MB/s]\n"
          ],
          "name": "stdout"
        }
      ]
    },
    {
      "cell_type": "code",
      "metadata": {
        "id": "UubsaZWxkRyE"
      },
      "source": [
        "# load embedding layer r = 13\n",
        "\n",
        "routeEmbed_file_path = './routeEmbed_tensorD_13.m'\n",
        "userEmbed_file_path = './userEmbed_tensorD_13.m'\n",
        "# # load embedding layer r = 11\n",
        "# routeEmbed_file_path = '/content/gdrive/My Drive/endomondoHR/Data/embedding/routeEmbed_tensorD_11.m'\n",
        "# userEmbed_file_path = '/content/gdrive/My Drive/endomondoHR/Data/embedding/userEmbed_tensorD_11.m'\n",
        "# # load embedding layer r = 2\n",
        "# routeEmbed_file_path = '/content/gdrive/My Drive/endomondoHR/Data/embedding/routeEmbed_tensorD_2.m'\n",
        "# userEmbed_file_path = '/content/gdrive/My Drive/endomondoHR/Data/embedding/userEmbed_tensorD_2.m'\n",
        "\n",
        "route_embed_df=joblib.load(routeEmbed_file_path)\n",
        "user_embed_df=joblib.load(userEmbed_file_path)\n",
        "route_embed_dict = {row['Route_id']:list(row['routeEmbed']) for index,row in route_embed_df.iterrows()}\n",
        "user_embed_dict = {row['userId']:list(row['userEmbed']) for index,row in user_embed_df.iterrows()}"
      ],
      "execution_count": 32,
      "outputs": []
    },
    {
      "cell_type": "code",
      "metadata": {
        "id": "PAiaFKmC_KCr"
      },
      "source": [
        "def flatten_workout(df,workout_id):\n",
        "  # The original sequencial data is in one cell of pd.DataFrame, and this function is to flatten it\n",
        "  temp = df[df['id'] == workout_id].copy()\n",
        "  temp.reset_index(drop=1,inplace=True)\n",
        "  if len(temp) != 1:\n",
        "    return None  \n",
        "  context_info = ['id','userId','genderId','calories','sportId','Route_id']\n",
        "  context_dict = {col:temp[col][0] for col in context_info}\n",
        "  seq = []\n",
        "  speed = list(temp['speed'])[0]\n",
        "  altitude = list(temp['altitude'])[0]\n",
        "  distance = list(temp['derived_distance'])[0]\n",
        "  hr = list(temp['heart_rate'])[0]\n",
        "  seq = [[altitude[i],distance[i],hr[i],speed[i]] for i in range(499)]\n",
        "  sequence = np.array(seq)\n",
        "  context = np.array([[context_dict['id'],context_dict['userId'],context_dict['genderId'],context_dict['sportId'],context_dict['Route_id'],context_dict['calories']]]*499)\n",
        "  array = np.concatenate((context,\n",
        "                sequence),axis=1)\n",
        "  columns=['workoutId','userId','genderId','sportId','Route_id','calories','altitude','derived_distance','heart_rate','speed']\n",
        "  df_sub = pd.DataFrame(array,columns=columns)\n",
        "  df_sub = df_sub.astype({col:'float64' for col in columns if col not in ['gender','sport']})\n",
        "  return df_sub"
      ],
      "execution_count": 33,
      "outputs": []
    },
    {
      "cell_type": "code",
      "metadata": {
        "colab": {
          "base_uri": "https://localhost:8080/",
          "height": 419
        },
        "id": "eEGyMU8Aysk_",
        "outputId": "94d0f18c-e253-491b-c867-fc9bfe743803"
      },
      "source": [
        "flatten_workout(train_df,train_df['id'][50249])"
      ],
      "execution_count": 34,
      "outputs": [
        {
          "output_type": "execute_result",
          "data": {
            "text/html": [
              "<div>\n",
              "<style scoped>\n",
              "    .dataframe tbody tr th:only-of-type {\n",
              "        vertical-align: middle;\n",
              "    }\n",
              "\n",
              "    .dataframe tbody tr th {\n",
              "        vertical-align: top;\n",
              "    }\n",
              "\n",
              "    .dataframe thead th {\n",
              "        text-align: right;\n",
              "    }\n",
              "</style>\n",
              "<table border=\"1\" class=\"dataframe\">\n",
              "  <thead>\n",
              "    <tr style=\"text-align: right;\">\n",
              "      <th></th>\n",
              "      <th>workoutId</th>\n",
              "      <th>userId</th>\n",
              "      <th>genderId</th>\n",
              "      <th>sportId</th>\n",
              "      <th>Route_id</th>\n",
              "      <th>calories</th>\n",
              "      <th>altitude</th>\n",
              "      <th>derived_distance</th>\n",
              "      <th>heart_rate</th>\n",
              "      <th>speed</th>\n",
              "    </tr>\n",
              "  </thead>\n",
              "  <tbody>\n",
              "    <tr>\n",
              "      <th>0</th>\n",
              "      <td>230506076.0</td>\n",
              "      <td>2568526.0</td>\n",
              "      <td>0.0</td>\n",
              "      <td>1.0</td>\n",
              "      <td>0.0</td>\n",
              "      <td>0.14473</td>\n",
              "      <td>0.162535</td>\n",
              "      <td>0.025656</td>\n",
              "      <td>0.379167</td>\n",
              "      <td>0.130987</td>\n",
              "    </tr>\n",
              "    <tr>\n",
              "      <th>1</th>\n",
              "      <td>230506076.0</td>\n",
              "      <td>2568526.0</td>\n",
              "      <td>0.0</td>\n",
              "      <td>1.0</td>\n",
              "      <td>0.0</td>\n",
              "      <td>0.14473</td>\n",
              "      <td>0.162674</td>\n",
              "      <td>0.022845</td>\n",
              "      <td>0.400000</td>\n",
              "      <td>0.137838</td>\n",
              "    </tr>\n",
              "    <tr>\n",
              "      <th>2</th>\n",
              "      <td>230506076.0</td>\n",
              "      <td>2568526.0</td>\n",
              "      <td>0.0</td>\n",
              "      <td>1.0</td>\n",
              "      <td>0.0</td>\n",
              "      <td>0.14473</td>\n",
              "      <td>0.162674</td>\n",
              "      <td>0.090755</td>\n",
              "      <td>0.408333</td>\n",
              "      <td>0.231672</td>\n",
              "    </tr>\n",
              "    <tr>\n",
              "      <th>3</th>\n",
              "      <td>230506076.0</td>\n",
              "      <td>2568526.0</td>\n",
              "      <td>0.0</td>\n",
              "      <td>1.0</td>\n",
              "      <td>0.0</td>\n",
              "      <td>0.14473</td>\n",
              "      <td>0.162674</td>\n",
              "      <td>0.049933</td>\n",
              "      <td>0.441667</td>\n",
              "      <td>0.254930</td>\n",
              "    </tr>\n",
              "    <tr>\n",
              "      <th>4</th>\n",
              "      <td>230506076.0</td>\n",
              "      <td>2568526.0</td>\n",
              "      <td>0.0</td>\n",
              "      <td>1.0</td>\n",
              "      <td>0.0</td>\n",
              "      <td>0.14473</td>\n",
              "      <td>0.162674</td>\n",
              "      <td>0.051539</td>\n",
              "      <td>0.462500</td>\n",
              "      <td>0.244333</td>\n",
              "    </tr>\n",
              "    <tr>\n",
              "      <th>...</th>\n",
              "      <td>...</td>\n",
              "      <td>...</td>\n",
              "      <td>...</td>\n",
              "      <td>...</td>\n",
              "      <td>...</td>\n",
              "      <td>...</td>\n",
              "      <td>...</td>\n",
              "      <td>...</td>\n",
              "      <td>...</td>\n",
              "      <td>...</td>\n",
              "    </tr>\n",
              "    <tr>\n",
              "      <th>494</th>\n",
              "      <td>230506076.0</td>\n",
              "      <td>2568526.0</td>\n",
              "      <td>0.0</td>\n",
              "      <td>1.0</td>\n",
              "      <td>0.0</td>\n",
              "      <td>0.14473</td>\n",
              "      <td>0.162813</td>\n",
              "      <td>0.037173</td>\n",
              "      <td>0.604167</td>\n",
              "      <td>0.411205</td>\n",
              "    </tr>\n",
              "    <tr>\n",
              "      <th>495</th>\n",
              "      <td>230506076.0</td>\n",
              "      <td>2568526.0</td>\n",
              "      <td>0.0</td>\n",
              "      <td>1.0</td>\n",
              "      <td>0.0</td>\n",
              "      <td>0.14473</td>\n",
              "      <td>0.162187</td>\n",
              "      <td>0.072008</td>\n",
              "      <td>0.620833</td>\n",
              "      <td>0.367633</td>\n",
              "    </tr>\n",
              "    <tr>\n",
              "      <th>496</th>\n",
              "      <td>230506076.0</td>\n",
              "      <td>2568526.0</td>\n",
              "      <td>0.0</td>\n",
              "      <td>1.0</td>\n",
              "      <td>0.0</td>\n",
              "      <td>0.14473</td>\n",
              "      <td>0.161630</td>\n",
              "      <td>0.091593</td>\n",
              "      <td>0.608333</td>\n",
              "      <td>0.357595</td>\n",
              "    </tr>\n",
              "    <tr>\n",
              "      <th>497</th>\n",
              "      <td>230506076.0</td>\n",
              "      <td>2568526.0</td>\n",
              "      <td>0.0</td>\n",
              "      <td>1.0</td>\n",
              "      <td>0.0</td>\n",
              "      <td>0.14473</td>\n",
              "      <td>0.161351</td>\n",
              "      <td>0.068709</td>\n",
              "      <td>0.608333</td>\n",
              "      <td>0.380023</td>\n",
              "    </tr>\n",
              "    <tr>\n",
              "      <th>498</th>\n",
              "      <td>230506076.0</td>\n",
              "      <td>2568526.0</td>\n",
              "      <td>0.0</td>\n",
              "      <td>1.0</td>\n",
              "      <td>0.0</td>\n",
              "      <td>0.14473</td>\n",
              "      <td>0.161351</td>\n",
              "      <td>0.092330</td>\n",
              "      <td>0.629167</td>\n",
              "      <td>0.226963</td>\n",
              "    </tr>\n",
              "  </tbody>\n",
              "</table>\n",
              "<p>499 rows × 10 columns</p>\n",
              "</div>"
            ],
            "text/plain": [
              "       workoutId     userId  genderId  ...  derived_distance  heart_rate     speed\n",
              "0    230506076.0  2568526.0       0.0  ...          0.025656    0.379167  0.130987\n",
              "1    230506076.0  2568526.0       0.0  ...          0.022845    0.400000  0.137838\n",
              "2    230506076.0  2568526.0       0.0  ...          0.090755    0.408333  0.231672\n",
              "3    230506076.0  2568526.0       0.0  ...          0.049933    0.441667  0.254930\n",
              "4    230506076.0  2568526.0       0.0  ...          0.051539    0.462500  0.244333\n",
              "..           ...        ...       ...  ...               ...         ...       ...\n",
              "494  230506076.0  2568526.0       0.0  ...          0.037173    0.604167  0.411205\n",
              "495  230506076.0  2568526.0       0.0  ...          0.072008    0.620833  0.367633\n",
              "496  230506076.0  2568526.0       0.0  ...          0.091593    0.608333  0.357595\n",
              "497  230506076.0  2568526.0       0.0  ...          0.068709    0.608333  0.380023\n",
              "498  230506076.0  2568526.0       0.0  ...          0.092330    0.629167  0.226963\n",
              "\n",
              "[499 rows x 10 columns]"
            ]
          },
          "metadata": {
            "tags": []
          },
          "execution_count": 34
        }
      ]
    },
    {
      "cell_type": "markdown",
      "metadata": {
        "id": "AoGeeIXyfA4O"
      },
      "source": [
        "### Generate Scaler\n",
        "No need to run\n"
      ]
    },
    {
      "cell_type": "code",
      "metadata": {
        "id": "YC7AD_cLe2zo"
      },
      "source": [
        "%%time\n",
        "# 不需要跑\n",
        "features = ['calories','distance','duration','time_elapsed','altitude','derived_distance','speed','heart_rate']\n",
        "# features = ['calories','distance','duration','altitude','derived_distance','speed','heart_rate']\n",
        "# get minmaxscaler for different features\n",
        "features_dict = {f:[0] for f in features}\n",
        "count = 0\n",
        "for id in train_ids:\n",
        "  if count % 5000==0:\n",
        "    print(count)\n",
        "  df_sub =flatten_workout(train_df,id)\n",
        "  for feature in features:\n",
        "    features_dict[feature].append(max(df_sub[feature]))\n",
        "    features_dict[feature].append(min(df_sub[feature]))\n",
        "  count+=1\n",
        "features_mm = {k:MinMaxScaler().fit(np.array(features_dict[k]).reshape(-1,1)) for k,v in features_dict.items()}"
      ],
      "execution_count": null,
      "outputs": []
    },
    {
      "cell_type": "code",
      "metadata": {
        "id": "tt7K2xq7jV9F"
      },
      "source": [
        "# save scaler model\n",
        "# 不需要跑 \n",
        "dir = '/content/gdrive/My Drive/endomondoHR/Data/scaler_model'\n",
        "for k,model in features_mm.items():\n",
        "  path = os.path.join(dir,'scaler_'+k+'_2.m')\n",
        "  joblib.dump(model, path)"
      ],
      "execution_count": null,
      "outputs": []
    },
    {
      "cell_type": "markdown",
      "metadata": {
        "id": "UP8NMFX_sKqW"
      },
      "source": [
        "### Load Scaler"
      ]
    },
    {
      "cell_type": "markdown",
      "metadata": {
        "id": "uh8TC-PCs78e"
      },
      "source": [
        "## Data Loader"
      ]
    },
    {
      "cell_type": "code",
      "metadata": {
        "id": "kbFmvQigDAJo"
      },
      "source": [
        "# features we are going to use\n",
        "features = ['calories','altitude','derived_distance','speed','heart_rate']\n",
        "def convert_category(value,length):\n",
        "  array_list = [0]*length\n",
        "  array_list[int(value)] = 1\n",
        "  return [array_list]*499"
      ],
      "execution_count": 35,
      "outputs": []
    },
    {
      "cell_type": "code",
      "metadata": {
        "id": "_JjvsS6FdO4S"
      },
      "source": [
        "# generate scaled input\n",
        "def generate_scaled(df_sub):\n",
        "  gender = convert_category(df_sub['genderId'][0],3)\n",
        "  sport = convert_category(df_sub['sportId'][0],3)\n",
        "  route = [route_embed_dict[int(df_sub['Route_id'][0])]]*499\n",
        "  user = [user_embed_dict[int(df_sub['userId'][0])]]*499\n",
        "  feature_array = np.concatenate((gender,sport,route,user),axis=1)\n",
        "  # feature_array = np.concatenate((gender,sport,user),axis=1)\n",
        "  speed = []\n",
        "  for k in features:\n",
        "    # speed input\n",
        "    if k == 'speed':\n",
        "      speed = df_sub[k].values.reshape(-1,1)\n",
        "    # heart rate input\n",
        "    elif k == 'heart_rate': \n",
        "      hr = df_sub[k].values.reshape(-1,1)\n",
        "    else:\n",
        "      array = df_sub[k].values.reshape(-1,1)\n",
        "      feature_array = np.concatenate((feature_array,array),axis=1)\n",
        "  x1 = feature_array\n",
        "  y1 = speed\n",
        "  y2 = hr\n",
        "  return x1.reshape(1,x1.shape[0],x1.shape[1]),y1.reshape(y1.shape[0],1),y2.reshape(y2.shape[0],1)"
      ],
      "execution_count": 36,
      "outputs": []
    },
    {
      "cell_type": "code",
      "metadata": {
        "colab": {
          "base_uri": "https://localhost:8080/"
        },
        "id": "eDb886Jtuoid",
        "outputId": "679c58f7-5dd5-4fd7-d96a-50a4201b4b24"
      },
      "source": [
        "x,y1,y2 = generate_scaled(flatten_workout(train_df,326004692))\n",
        "print('Inputs shape:{}'.format(x.shape))"
      ],
      "execution_count": 37,
      "outputs": [
        {
          "output_type": "stream",
          "text": [
            "Inputs shape:(1, 499, 35)\n"
          ],
          "name": "stdout"
        }
      ]
    },
    {
      "cell_type": "code",
      "metadata": {
        "id": "ptG-TauDxv2i"
      },
      "source": [
        "# batch_generater\n",
        "def batch_generator(df,batch_size=32):\n",
        "  ids = list(df['id'])\n",
        "  while True:\n",
        "    X1,Y1,Y2= [],[],[]\n",
        "    for id in random.sample(ids,batch_size):\n",
        "      x1,y1,y2 = generate_scaled(flatten_workout(df,id))\n",
        "      X1.append(x1[0])\n",
        "      Y1.append(y1.flatten())\n",
        "      Y2.append(y2.flatten())\n",
        "      ids.remove(id)\n",
        "    if len(ids) < batch_size:\n",
        "      ids = list(df['id'])\n",
        "    # yield np.array(X),[np.array(Y1),np.array(Y2),np.array(Y3)]\n",
        "    yield np.array(X1),[np.array(Y1),np.array(Y2)]"
      ],
      "execution_count": 38,
      "outputs": []
    },
    {
      "cell_type": "markdown",
      "metadata": {
        "id": "FaYhcdwss4Du"
      },
      "source": [
        "# Modelling"
      ]
    },
    {
      "cell_type": "markdown",
      "metadata": {
        "id": "1y14BBUmuS4c"
      },
      "source": [
        "## Build Model"
      ]
    },
    {
      "cell_type": "code",
      "metadata": {
        "id": "mxDmf_ogncH7"
      },
      "source": [
        "def single_lstm():\n",
        "  input = Input(shape=(x.shape[1],x.shape[2]),name='Input')\n",
        "  # lstm layer\n",
        "  lstm_layer1 = LSTM(64,return_sequences=True,name='lstm1')(input)\n",
        "  # dropout\n",
        "  drop_hr = Dropout(0.2)(lstm_layer1)\n",
        "  drop_speed = Dropout(0.2)(lstm_layer1)\n",
        "  speed_output = Dense(1,activation='selu',name='speed_output')(drop_speed)\n",
        "  hr_output = Dense(1,activation='selu',name='hr_output')(drop_hr)\n",
        "  model = Model(inputs=input,outputs = [speed_output,hr_output])\n",
        "  model.compile(loss={\n",
        "                    'speed_output': 'mae',\n",
        "                    'hr_output': 'mae'},\n",
        "                loss_weights={\n",
        "                    'speed_output': 1,\n",
        "                    'hr_output':1\n",
        "                },\n",
        "                optimizer=RMSprop(lr=0.005))\n",
        "  return model"
      ],
      "execution_count": 39,
      "outputs": []
    },
    {
      "cell_type": "code",
      "metadata": {
        "id": "0UrA0_KZ2lP3"
      },
      "source": [
        "# single BiLSTM Model\n",
        "def Bilstm():\n",
        "  input = Input(shape=(x.shape[1],x.shape[2]),name='Input')\n",
        "  # bilstm layer\n",
        "  lstm_layer1 = Bidirectional(LSTM(64,return_sequences=True,name='lstm1'))(input)\n",
        "  # dropout\n",
        "  drop_hr = Dropout(0.2)(lstm_layer1)\n",
        "  drop_speed = Dropout(0.2)(lstm_layer1)\n",
        "  hr_output = Dense(1,activation='selu',name='hr_output')(drop_hr)\n",
        "  speed_output = Dense(1,activation='selu',name='speed_output')(drop_speed)\n",
        "\n",
        "  model = Model(inputs=input, outputs = [speed_output,hr_output])\n",
        "  model.compile(loss={\n",
        "                    'speed_output': 'mae',\n",
        "                    'hr_output': 'mae'},\n",
        "                loss_weights={\n",
        "                    'speed_output': 1,\n",
        "                    'hr_output':1\n",
        "                },\n",
        "                optimizer=RMSprop(lr=0.005))\n",
        "  return model"
      ],
      "execution_count": 40,
      "outputs": []
    },
    {
      "cell_type": "code",
      "metadata": {
        "id": "pZZzrNA-f78Q"
      },
      "source": [
        "# 2 layer stacked LSTM model\n",
        "def two_layer_LSTM():\n",
        "  input = Input(shape=(x.shape[1],x.shape[2]),name='Input')\n",
        "  # first lstm layer\n",
        "  lstm_layer1 = LSTM(128,return_sequences=True,name='lstm1')(input)\n",
        "  # dropout layer\n",
        "  drop_hr = Dropout(0.2)(lstm_layer1)\n",
        "  hr_output = Dense(1,activation='selu',name='hr_output')(drop_hr)\n",
        "  # second lstm layer\n",
        "  lstm_layer2 = LSTM(64,return_sequences=True,name='lstm2')(lstm_layer1)\n",
        "  drop_speed = Dropout(0.2)(lstm_layer2)\n",
        "  speed_output = Dense(1,activation='selu',name='speed_output')(drop_speed)\n",
        "\n",
        "  model = Model(inputs=input, outputs = [speed_output,hr_output])\n",
        "  model.compile(loss={\n",
        "                    'speed_output': 'mae',\n",
        "                    'hr_output': 'mae'},\n",
        "                loss_weights={\n",
        "                    'speed_output': 1,\n",
        "                    'hr_output':1\n",
        "                },\n",
        "                optimizer=RMSprop(lr=0.005))\n",
        "  return model"
      ],
      "execution_count": 41,
      "outputs": []
    },
    {
      "cell_type": "code",
      "metadata": {
        "id": "KEiehX6BOuec"
      },
      "source": [
        "#  2 layer stacked BiLSTM Model \n",
        "def two_layer_BiLSTM():\n",
        "  input = Input(shape=(x.shape[1],x.shape[2]),name='Input')\n",
        "  # first bilstm layer\n",
        "  lstm_layer1 = Bidirectional(LSTM(64,return_sequences=True,name='lstm1'))(input)\n",
        "  # dropout layer\n",
        "  drop_hr = Dropout(0.2)(lstm_layer1)\n",
        "  hr_output = Dense(1,activation='selu',name='hr_output')(drop_hr)\n",
        "  # second bilstm layer\n",
        "  lstm_layer2 = Bidirectional(LSTM(64,return_sequences=True,name='lstm2'))(lstm_layer1)\n",
        "  drop_speed = Dropout(0.2)(lstm_layer2)\n",
        "  speed_output = Dense(1,activation='selu',name='speed_output')(drop_speed)\n",
        "\n",
        "  model = Model(inputs=input, outputs = [speed_output,hr_output])\n",
        "  model.compile(loss={\n",
        "                    'speed_output': 'mae',\n",
        "                    'hr_output': 'mae'},\n",
        "                loss_weights={\n",
        "                    'speed_output': 1,\n",
        "                    'hr_output':1\n",
        "                },\n",
        "                optimizer=RMSprop(lr=0.005))\n",
        "  return model"
      ],
      "execution_count": 43,
      "outputs": []
    },
    {
      "cell_type": "code",
      "metadata": {
        "id": "LHM28x5J2pYV"
      },
      "source": [
        "from tensorflow.keras.layers import Dense, Lambda, dot, Activation, concatenate\n",
        "from tensorflow.keras.layers import Layer\n",
        "\n",
        "\n",
        "class Attention(Layer):\n",
        "\n",
        "    def __init__(self, **kwargs):\n",
        "        super().__init__(**kwargs)\n",
        "\n",
        "    def __call__(self, hidden_states):\n",
        "        \"\"\"\n",
        "        Many-to-one attention mechanism for Keras.\n",
        "        @param hidden_states: 3D tensor with shape (batch_size, time_steps, input_dim).\n",
        "        @return: 2D tensor with shape (batch_size, 128)\n",
        "        @author: felixhao28.\n",
        "        \"\"\"\n",
        "        hidden_size = int(hidden_states.shape[2])\n",
        "        score_first_part = Dense(hidden_size, use_bias=False)(hidden_states)\n",
        "        h_t = Lambda(lambda x: x[:, -1, :], output_shape=(hidden_size,))(hidden_states)\n",
        "        score = dot([score_first_part, h_t], [2, 1])\n",
        "        attention_weights = Activation('softmax')(score)\n",
        "        # (batch_size, time_steps, hidden_size) dot (batch_size, time_steps) => (batch_size, hidden_size)\n",
        "        context_vector = dot([hidden_states, attention_weights], [1, 1])\n",
        "        pre_activation = concatenate([context_vector, h_t])\n",
        "        attention_vector = Dense(64, use_bias=True, activation='tanh')(pre_activation)\n",
        "        return attention_vector\n",
        "\n",
        "\n",
        "# USE heart rate predict speed\n",
        "def two_layer_BiLSTM_Attention():\n",
        "  input = Input(shape=(x.shape[1],x.shape[2]),name='Input')\n",
        "  # first lstm layer\n",
        "  lstm_layer1 = Bidirectional(LSTM(64,return_sequences=True,name='lstm1'))(input)\n",
        "  # attention layer\n",
        "  att_1 = Attention()(lstm_layer1)\n",
        "  drop_hr = Dropout(0.2)(att_1)\n",
        "  hr_output = Dense(1,activation='selu',name='hr_output')(att_1)\n",
        "\n",
        "  lstm_layer2 = Bidirectional(LSTM(64,return_sequences=True,name='lstm2'))(lstm_layer1)\n",
        "  att_2 = Attention()(lstm_layer2)\n",
        "  drop_speed = Dropout(0.2)(att_2)\n",
        "  speed_output = Dense(1,activation='selu',name='speed_output')(att_2)\n",
        "\n",
        "  model = Model(inputs=input, outputs = [speed_output,hr_output])\n",
        "  model.compile(loss={\n",
        "                    'speed_output': 'mae',\n",
        "                    'hr_output': 'mae'},\n",
        "                loss_weights={\n",
        "                    'speed_output': 1,\n",
        "                    'hr_output':1\n",
        "                },\n",
        "                optimizer=Adagrad(lr=0.001))\n",
        "  return model"
      ],
      "execution_count": 42,
      "outputs": []
    },
    {
      "cell_type": "code",
      "metadata": {
        "colab": {
          "base_uri": "https://localhost:8080/",
          "height": 953
        },
        "id": "82Oeh9BxoK1v",
        "outputId": "0803b548-5ec1-422e-862f-68c562777bbc"
      },
      "source": [
        "model = two_layer_BiLSTM_Attention()\n",
        "plot_model(model)"
      ],
      "execution_count": 44,
      "outputs": [
        {
          "output_type": "execute_result",
          "data": {
            "image/png": "[encoded data removed]",
            "text/plain": [
              "<IPython.core.display.Image object>"
            ]
          },
          "metadata": {
            "tags": []
          },
          "execution_count": 44
        }
      ]
    },
    {
      "cell_type": "code",
      "metadata": {
        "colab": {
          "base_uri": "https://localhost:8080/"
        },
        "id": "6TTVWFPcMKR0",
        "outputId": "31cac34a-9e99-4552-8020-300d97ede30c"
      },
      "source": [
        "model.summary()"
      ],
      "execution_count": 45,
      "outputs": [
        {
          "output_type": "stream",
          "text": [
            "Model: \"functional_1\"\n",
            "__________________________________________________________________________________________________\n",
            "Layer (type)                    Output Shape         Param #     Connected to                     \n",
            "==================================================================================================\n",
            "Input (InputLayer)              [(None, 499, 35)]    0                                            \n",
            "__________________________________________________________________________________________________\n",
            "bidirectional (Bidirectional)   (None, 499, 128)     51200       Input[0][0]                      \n",
            "__________________________________________________________________________________________________\n",
            "bidirectional_1 (Bidirectional) (None, 499, 128)     98816       bidirectional[0][0]              \n",
            "__________________________________________________________________________________________________\n",
            "dense_2 (Dense)                 (None, 499, 128)     16384       bidirectional_1[0][0]            \n",
            "__________________________________________________________________________________________________\n",
            "lambda_1 (Lambda)               (None, 128)          0           bidirectional_1[0][0]            \n",
            "__________________________________________________________________________________________________\n",
            "dense (Dense)                   (None, 499, 128)     16384       bidirectional[0][0]              \n",
            "__________________________________________________________________________________________________\n",
            "lambda (Lambda)                 (None, 128)          0           bidirectional[0][0]              \n",
            "__________________________________________________________________________________________________\n",
            "dot_2 (Dot)                     (None, 499)          0           dense_2[0][0]                    \n",
            "                                                                 lambda_1[0][0]                   \n",
            "__________________________________________________________________________________________________\n",
            "dot (Dot)                       (None, 499)          0           dense[0][0]                      \n",
            "                                                                 lambda[0][0]                     \n",
            "__________________________________________________________________________________________________\n",
            "activation_1 (Activation)       (None, 499)          0           dot_2[0][0]                      \n",
            "__________________________________________________________________________________________________\n",
            "activation (Activation)         (None, 499)          0           dot[0][0]                        \n",
            "__________________________________________________________________________________________________\n",
            "dot_3 (Dot)                     (None, 128)          0           bidirectional_1[0][0]            \n",
            "                                                                 activation_1[0][0]               \n",
            "__________________________________________________________________________________________________\n",
            "dot_1 (Dot)                     (None, 128)          0           bidirectional[0][0]              \n",
            "                                                                 activation[0][0]                 \n",
            "__________________________________________________________________________________________________\n",
            "concatenate_1 (Concatenate)     (None, 256)          0           dot_3[0][0]                      \n",
            "                                                                 lambda_1[0][0]                   \n",
            "__________________________________________________________________________________________________\n",
            "concatenate (Concatenate)       (None, 256)          0           dot_1[0][0]                      \n",
            "                                                                 lambda[0][0]                     \n",
            "__________________________________________________________________________________________________\n",
            "dense_3 (Dense)                 (None, 64)           16448       concatenate_1[0][0]              \n",
            "__________________________________________________________________________________________________\n",
            "dense_1 (Dense)                 (None, 64)           16448       concatenate[0][0]                \n",
            "__________________________________________________________________________________________________\n",
            "speed_output (Dense)            (None, 1)            65          dense_3[0][0]                    \n",
            "__________________________________________________________________________________________________\n",
            "hr_output (Dense)               (None, 1)            65          dense_1[0][0]                    \n",
            "==================================================================================================\n",
            "Total params: 215,810\n",
            "Trainable params: 215,810\n",
            "Non-trainable params: 0\n",
            "__________________________________________________________________________________________________\n"
          ],
          "name": "stdout"
        }
      ]
    },
    {
      "cell_type": "markdown",
      "metadata": {
        "id": "0oWPshLPuXW-"
      },
      "source": [
        "## Train Model"
      ]
    },
    {
      "cell_type": "code",
      "metadata": {
        "colab": {
          "base_uri": "https://localhost:8080/"
        },
        "id": "qrC8CGpkHDGr",
        "outputId": "bb4a066f-2141-480d-ad34-a9a4ea689da9"
      },
      "source": [
        "batch_size = 256\n",
        "epochs = 50 \n",
        "history = model.fit(batch_generator(train_df,batch_size),\n",
        "            steps_per_epoch = len(train_df)/batch_size,\n",
        "            validation_data = batch_generator(test_df,batch_size),\n",
        "            validation_steps=1,epochs=epochs)"
      ],
      "execution_count": 46,
      "outputs": [
        {
          "output_type": "stream",
          "text": [
            "Epoch 1/10\n",
            "197/196 [==============================] - 350s 2s/step - loss: 0.1918 - speed_output_loss: 0.0780 - hr_output_loss: 0.1138 - val_loss: 0.1268 - val_speed_output_loss: 0.0494 - val_hr_output_loss: 0.0773\n",
            "Epoch 2/10\n",
            "197/196 [==============================] - 352s 2s/step - loss: 0.1179 - speed_output_loss: 0.0460 - hr_output_loss: 0.0718 - val_loss: 0.1131 - val_speed_output_loss: 0.0448 - val_hr_output_loss: 0.0684\n",
            "Epoch 3/10\n",
            "197/196 [==============================] - 350s 2s/step - loss: 0.1109 - speed_output_loss: 0.0434 - hr_output_loss: 0.0676 - val_loss: 0.1172 - val_speed_output_loss: 0.0482 - val_hr_output_loss: 0.0690\n",
            "Epoch 4/10\n",
            "197/196 [==============================] - 347s 2s/step - loss: 0.1083 - speed_output_loss: 0.0423 - hr_output_loss: 0.0661 - val_loss: 0.1099 - val_speed_output_loss: 0.0430 - val_hr_output_loss: 0.0668\n",
            "Epoch 5/10\n",
            "197/196 [==============================] - 350s 2s/step - loss: 0.1067 - speed_output_loss: 0.0416 - hr_output_loss: 0.0651 - val_loss: 0.1085 - val_speed_output_loss: 0.0421 - val_hr_output_loss: 0.0664\n",
            "Epoch 6/10\n",
            "197/196 [==============================] - 349s 2s/step - loss: 0.1054 - speed_output_loss: 0.0411 - hr_output_loss: 0.0643 - val_loss: 0.1011 - val_speed_output_loss: 0.0422 - val_hr_output_loss: 0.0589\n",
            "Epoch 7/10\n",
            "197/196 [==============================] - 349s 2s/step - loss: 0.1047 - speed_output_loss: 0.0407 - hr_output_loss: 0.0640 - val_loss: 0.1084 - val_speed_output_loss: 0.0429 - val_hr_output_loss: 0.0656\n",
            "Epoch 8/10\n",
            "197/196 [==============================] - 347s 2s/step - loss: 0.1038 - speed_output_loss: 0.0404 - hr_output_loss: 0.0634 - val_loss: 0.1016 - val_speed_output_loss: 0.0384 - val_hr_output_loss: 0.0632\n",
            "Epoch 9/10\n",
            "197/196 [==============================] - 345s 2s/step - loss: 0.1034 - speed_output_loss: 0.0402 - hr_output_loss: 0.0632 - val_loss: 0.1002 - val_speed_output_loss: 0.0373 - val_hr_output_loss: 0.0628\n",
            "Epoch 10/10\n",
            "197/196 [==============================] - 345s 2s/step - loss: 0.1028 - speed_output_loss: 0.0400 - hr_output_loss: 0.0628 - val_loss: 0.1063 - val_speed_output_loss: 0.0421 - val_hr_output_loss: 0.0642\n"
          ],
          "name": "stdout"
        }
      ]
    },
    {
      "cell_type": "markdown",
      "metadata": {
        "id": "VmGJqwSjo2ZZ"
      },
      "source": [
        "## Evaluate Model"
      ]
    },
    {
      "cell_type": "code",
      "metadata": {
        "colab": {
          "base_uri": "https://localhost:8080/"
        },
        "id": "uVul9JC_Iq-F",
        "outputId": "42828d60-275c-4f5d-9e62-b9150e38063c"
      },
      "source": [
        "batch_size = 256\n",
        "model.evaluate_generator(generator=batch_generator(train_df,batch_size),steps=len(train_df)/batch_size,verbose=1)"
      ],
      "execution_count": null,
      "outputs": [
        {
          "output_type": "stream",
          "text": [
            "WARNING:tensorflow:From <ipython-input-26-128d20604ad2>:2: Model.evaluate_generator (from tensorflow.python.keras.engine.training) is deprecated and will be removed in a future version.\n",
            "Instructions for updating:\n",
            "Please use Model.evaluate, which supports generators.\n",
            "197/196 [==============================] - 361s 2s/step - loss: 0.0787 - speed_output_loss: 0.0288 - hr_output_loss: 0.0499\n"
          ],
          "name": "stdout"
        },
        {
          "output_type": "execute_result",
          "data": {
            "text/plain": [
              "[0.07873091846704483, 0.02883896604180336, 0.049891941249370575]"
            ]
          },
          "metadata": {
            "tags": []
          },
          "execution_count": 26
        }
      ]
    },
    {
      "cell_type": "code",
      "metadata": {
        "colab": {
          "base_uri": "https://localhost:8080/"
        },
        "id": "EHt4WywmIsAA",
        "outputId": "a2a06894-8880-4851-bf5e-a5ef63bff0b7"
      },
      "source": [
        "batch_size = 256\n",
        "model.evaluate_generator(generator=batch_generator(test_df,batch_size),steps=len(test_df)/batch_size,verbose=1)"
      ],
      "execution_count": null,
      "outputs": [
        {
          "output_type": "stream",
          "text": [
            "50/49 [==============================] - 89s 2s/step - loss: 0.0796 - speed_output_loss: 0.0290 - hr_output_loss: 0.0506\n"
          ],
          "name": "stdout"
        },
        {
          "output_type": "execute_result",
          "data": {
            "text/plain": [
              "[0.07959416508674622, 0.029024815186858177, 0.05056934058666229]"
            ]
          },
          "metadata": {
            "tags": []
          },
          "execution_count": 27
        }
      ]
    },
    {
      "cell_type": "code",
      "metadata": {
        "colab": {
          "background_save": true
        },
        "id": "PRjBPW_AN2wj"
      },
      "source": [
        "# inverse_scaler\n",
        "def inverse_scaler(feature,value):\n",
        "  return  scaler_dic[feature].inverse_transform([[value]])"
      ],
      "execution_count": null,
      "outputs": []
    },
    {
      "cell_type": "code",
      "metadata": {
        "colab": {
          "background_save": true,
          "base_uri": "https://localhost:8080/"
        },
        "id": "HCEgP_Y6pN-e",
        "outputId": "bb3874bc-5615-4ef2-b1de-e95a4c1692d3"
      },
      "source": [
        "print(inverse_scaler('heart_rate',0.0506))\n",
        "print(inverse_scaler('speed',0.0290))"
      ],
      "execution_count": null,
      "outputs": [
        {
          "output_type": "stream",
          "text": [
            "[[14.4]]\n",
            "[[3.49994326]]\n"
          ],
          "name": "stdout"
        }
      ]
    },
    {
      "cell_type": "markdown",
      "metadata": {
        "id": "BQRwF5bkpcEw"
      },
      "source": [
        "## Save Model"
      ]
    },
    {
      "cell_type": "code",
      "metadata": {
        "colab": {
          "base_uri": "https://localhost:8080/"
        },
        "id": "p0VjPaGDYzsH",
        "outputId": "cb267346-35e9-454d-a8aa-eee8b9dadc1e"
      },
      "source": [
        "#save model\n",
        "dir = '/content/gdrive/My Drive/endomondoHR/Data/model/Final Model'\n",
        "path = os.path.join(dir,'[1210]bilstm.h5')\n",
        "model.save(path)\n",
        "print(path)"
      ],
      "execution_count": null,
      "outputs": [
        {
          "output_type": "stream",
          "text": [
            "/content/gdrive/My Drive/endomondoHR/Data/model/Final Model/[1115]single_user.h5\n"
          ],
          "name": "stdout"
        }
      ]
    },
    {
      "cell_type": "markdown",
      "metadata": {
        "id": "AJP_f8aC5qtg"
      },
      "source": [
        "##Load Model\n"
      ]
    },
    {
      "cell_type": "code",
      "metadata": {
        "colab": {
          "base_uri": "https://localhost:8080/",
          "height": 369
        },
        "id": "QkpdQ5rP5tu4",
        "outputId": "d966dc9f-7598-4ecc-9d2d-a26ba4cfb6df"
      },
      "source": [
        "# Load trained model：\n",
        "model = load_model('/content/gdrive/My Drive/endomondoHR/Data/model/Final Model/[1210]bilstm.h5')\n",
        "plot_model(model)"
      ],
      "execution_count": null,
      "outputs": [
        {
          "output_type": "execute_result",
          "data": {
            "image/png": "[encoded data removed]",
            "text/plain": [
              "<IPython.core.display.Image object>"
            ]
          },
          "metadata": {
            "tags": []
          },
          "execution_count": 25
        }
      ]
    }
  ]
}