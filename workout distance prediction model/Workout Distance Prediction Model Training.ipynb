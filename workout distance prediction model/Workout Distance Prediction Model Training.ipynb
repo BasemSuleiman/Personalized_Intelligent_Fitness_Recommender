{
  "nbformat": 4,
  "nbformat_minor": 0,
  "metadata": {
    "accelerator": "GPU",
    "colab": {
      "name": "Rev 2.0 - Distance prediction MLP.ipynb",
      "provenance": [],
      "collapsed_sections": [],
      "toc_visible": true
    },
    "kernelspec": {
      "display_name": "Python 3",
      "name": "python3"
    }
  },
  "cells": [
    {
      "cell_type": "markdown",
      "metadata": {
        "id": "AH2t-PjIDzp2"
      },
      "source": [
        "# 1. Load Dependencies"
      ]
    },
    {
      "cell_type": "code",
      "metadata": {
        "id": "RB4Z12ngox3B",
        "outputId": "aa353cfd-b13a-4f9f-ba91-ccb168b10296",
        "colab": {
          "base_uri": "https://localhost:8080/"
        }
      },
      "source": [
        "from google.colab import drive\n",
        "drive.mount('/content/drive')\n",
        "\n",
        "import torch\n",
        "import torch.nn as nn\n",
        "import torch.optim as optim\n",
        "from torch.utils.data import Dataset\n",
        "\n",
        "!pip install scikit-tensor-py3\n",
        "from sktensor import dtensor\n",
        "\n",
        "import pandas as pd\n",
        "import numpy as np\n",
        "\n",
        "import time\n",
        "import datetime\n",
        "import copy\n",
        "import os\n",
        "import joblib\n",
        "import copy\n",
        "\n",
        "from sklearn.model_selection import train_test_split\n",
        "from sklearn.preprocessing import MinMaxScaler, OneHotEncoder\n",
        "\n",
        "import matplotlib.pyplot as plt\n",
        "import seaborn as sns\n",
        "sns.set_style('whitegrid')\n",
        "%matplotlib inline"
      ],
      "execution_count": 5,
      "outputs": [
        {
          "output_type": "stream",
          "text": [
            "Drive already mounted at /content/drive; to attempt to forcibly remount, call drive.mount(\"/content/drive\", force_remount=True).\n",
            "Requirement already satisfied: scikit-tensor-py3 in /usr/local/lib/python3.6/dist-packages (0.4.1)\n",
            "Requirement already satisfied: numpy==1.16.* in /usr/local/lib/python3.6/dist-packages (from scikit-tensor-py3) (1.16.6)\n",
            "Requirement already satisfied: scipy==1.3.* in /usr/local/lib/python3.6/dist-packages (from scikit-tensor-py3) (1.3.3)\n"
          ],
          "name": "stdout"
        }
      ]
    },
    {
      "cell_type": "code",
      "metadata": {
        "id": "nSULcVJipB0x",
        "outputId": "4bce740d-0aa2-4ac7-ef9d-0d59b520ee75",
        "colab": {
          "base_uri": "https://localhost:8080/"
        }
      },
      "source": [
        "# If there's a GPU available...\n",
        "if torch.cuda.is_available():    \n",
        "\n",
        "    # Tell PyTorch to use the GPU.    \n",
        "    device = torch.device('cuda')\n",
        "\n",
        "    print('There are %d GPU(s) available.' % torch.cuda.device_count())\n",
        "\n",
        "    print('Use GPU:', torch.cuda.get_device_name(0))\n",
        "\n",
        "# If not...\n",
        "else:\n",
        "    print('No GPU available, using the CPU instead.')\n",
        "    device = torch.device('cpu')"
      ],
      "execution_count": 6,
      "outputs": [
        {
          "output_type": "stream",
          "text": [
            "There are 1 GPU(s) available.\n",
            "Use GPU: Tesla T4\n"
          ],
          "name": "stdout"
        }
      ]
    },
    {
      "cell_type": "markdown",
      "metadata": {
        "id": "PnRNn5IgD4Hh"
      },
      "source": [
        "# 2. Helper Functions"
      ]
    },
    {
      "cell_type": "code",
      "metadata": {
        "id": "G8rtbTQBpKoC"
      },
      "source": [
        "def format_time(elapsed):\n",
        "    '''\n",
        "    Takes a time in seconds and returns a string hh:mm:ss\n",
        "    '''\n",
        "    # Round to the nearest second.\n",
        "    elapsed_rounded = int(round((elapsed)))\n",
        "    \n",
        "    # Format as hh:mm:ss\n",
        "    return str(datetime.timedelta(seconds=elapsed_rounded))"
      ],
      "execution_count": 7,
      "outputs": []
    },
    {
      "cell_type": "markdown",
      "metadata": {
        "id": "IThpOhSmD8Gk"
      },
      "source": [
        "# 3. Load Data"
      ]
    },
    {
      "cell_type": "code",
      "metadata": {
        "id": "P4tPkg7ApZfL",
        "outputId": "b0874ac7-872b-4013-8e05-7ac950aa3d6d",
        "colab": {
          "base_uri": "https://localhost:8080/",
          "height": 144
        }
      },
      "source": [
        "# Read data\n",
        "\n",
        "%%time\n",
        "\n",
        "file_path_train = '/content/drive/My Drive/Colab Notebooks/DATA5703/Data/Dataset/[1109]TrainData_adjusted.csv'\n",
        "file_path_test = '/content/drive/My Drive/Colab Notebooks/DATA5703/Data/Dataset/[1109]TestData_adjusted.csv'\n",
        "\n",
        "cols = ['userId', 'gender', 'sport', 'calories',\n",
        "        'Route_id', 'distance', 'distance_adjusted_sum']\n",
        "\n",
        "train_df = pd.read_csv(file_path_train, usecols=cols)\n",
        "test_df = pd.read_csv(file_path_test, usecols=cols)\n",
        "\n",
        "train_df.rename(columns={'distance': 'workout_distance',\n",
        "                         'distance_adjusted_sum': 'total_distance'},\n",
        "                inplace=True)\n",
        "\n",
        "test_df.rename(columns={'distance': 'workout_distance',\n",
        "                        'distance_adjusted_sum': 'total_distance'},\n",
        "               inplace=True)\n",
        "\n",
        "print(train_df.shape)\n",
        "print(test_df.shape)\n",
        "\n",
        "display(train_df.head(1))"
      ],
      "execution_count": 8,
      "outputs": [
        {
          "output_type": "stream",
          "text": [
            "(50253, 7)\n",
            "(12578, 7)\n"
          ],
          "name": "stdout"
        },
        {
          "output_type": "display_data",
          "data": {
            "text/html": [
              "<div>\n",
              "<style scoped>\n",
              "    .dataframe tbody tr th:only-of-type {\n",
              "        vertical-align: middle;\n",
              "    }\n",
              "\n",
              "    .dataframe tbody tr th {\n",
              "        vertical-align: top;\n",
              "    }\n",
              "\n",
              "    .dataframe thead th {\n",
              "        text-align: right;\n",
              "    }\n",
              "</style>\n",
              "<table border=\"1\" class=\"dataframe\">\n",
              "  <thead>\n",
              "    <tr style=\"text-align: right;\">\n",
              "      <th></th>\n",
              "      <th>userId</th>\n",
              "      <th>gender</th>\n",
              "      <th>sport</th>\n",
              "      <th>calories</th>\n",
              "      <th>workout_distance</th>\n",
              "      <th>Route_id</th>\n",
              "      <th>total_distance</th>\n",
              "    </tr>\n",
              "  </thead>\n",
              "  <tbody>\n",
              "    <tr>\n",
              "      <th>0</th>\n",
              "      <td>11889307</td>\n",
              "      <td>unknown</td>\n",
              "      <td>bike</td>\n",
              "      <td>530.0</td>\n",
              "      <td>46.04</td>\n",
              "      <td>0</td>\n",
              "      <td>46.04</td>\n",
              "    </tr>\n",
              "  </tbody>\n",
              "</table>\n",
              "</div>"
            ],
            "text/plain": [
              "     userId   gender sport  ...  workout_distance  Route_id  total_distance\n",
              "0  11889307  unknown  bike  ...             46.04         0           46.04\n",
              "\n",
              "[1 rows x 7 columns]"
            ]
          },
          "metadata": {
            "tags": []
          }
        },
        {
          "output_type": "stream",
          "text": [
            "CPU times: user 15 s, sys: 2.91 s, total: 17.9 s\n",
            "Wall time: 2min 15s\n"
          ],
          "name": "stdout"
        }
      ]
    },
    {
      "cell_type": "markdown",
      "metadata": {
        "id": "yh8JNFwwEtja"
      },
      "source": [
        "# 4. Data Processing"
      ]
    },
    {
      "cell_type": "code",
      "metadata": {
        "id": "RfIgee5qusTW"
      },
      "source": [
        "# Encode gender feature\n",
        "\n",
        "conditions = [\n",
        "    (train_df['gender'] == 'male'),\n",
        "    (train_df['gender'] == 'female'),\n",
        "    (train_df['gender'] == 'unknown')]\n",
        "\n",
        "choices = [0, 1, 2]\n",
        "\n",
        "train_df['genderId'] = np.select(conditions, choices, default=0)\n",
        "\n",
        "conditions = [\n",
        "    (test_df['gender'] == 'male'),\n",
        "    (test_df['gender'] == 'female'),\n",
        "    (test_df['gender'] == 'unknown')]\n",
        "\n",
        "test_df['genderId'] = np.select(conditions, choices, default=0)"
      ],
      "execution_count": 9,
      "outputs": []
    },
    {
      "cell_type": "code",
      "metadata": {
        "id": "hMUPvFXauwww"
      },
      "source": [
        "# Encode sport feature\n",
        "\n",
        "conditions = [\n",
        "    (train_df['sport'] == 'run'),\n",
        "    (train_df['sport'] == 'bike'),\n",
        "    (train_df['sport'] == 'mountain bike')]\n",
        "\n",
        "choices = [0, 1, 2]\n",
        "\n",
        "train_df['sportId'] = np.select(conditions, choices, default=0)\n",
        "\n",
        "conditions = [\n",
        "    (test_df['sport'] == 'run'),\n",
        "    (test_df['sport'] == 'bike'),\n",
        "    (test_df['sport'] == 'mountain bike')]\n",
        "\n",
        "test_df['sportId'] = np.select(conditions, choices, default=0)"
      ],
      "execution_count": 10,
      "outputs": []
    },
    {
      "cell_type": "code",
      "metadata": {
        "id": "_WODUuSjbe4D",
        "outputId": "f858f531-69a1-41eb-8419-73cebe9591e6",
        "colab": {
          "base_uri": "https://localhost:8080/"
        }
      },
      "source": [
        "# Load Min-max scaler models\n",
        "\n",
        "scaler_dic = dict()\n",
        "features = ['calories', 'distance']\n",
        "\n",
        "dir = '/content/drive/My Drive/Colab Notebooks/DATA5703/scaler_model/'\n",
        "\n",
        "for feature in features:\n",
        "    path = os.path.join(dir, 'scaler_'+feature+'_2.m')\n",
        "    scaler_dic[feature] = joblib.load(path)\n",
        "\n",
        "scaler_dic['workout_distance'] = scaler_dic['distance']\n",
        "scaler_dic['total_distance'] = scaler_dic['distance']\n",
        "del scaler_dic['distance']\n",
        "\n",
        "scaler_dic"
      ],
      "execution_count": 11,
      "outputs": [
        {
          "output_type": "execute_result",
          "data": {
            "text/plain": [
              "{'calories': MinMaxScaler(copy=True, feature_range=(0, 1)),\n",
              " 'total_distance': MinMaxScaler(copy=True, feature_range=(0, 1)),\n",
              " 'workout_distance': MinMaxScaler(copy=True, feature_range=(0, 1))}"
            ]
          },
          "metadata": {
            "tags": []
          },
          "execution_count": 11
        }
      ]
    },
    {
      "cell_type": "code",
      "metadata": {
        "id": "3lZKwdF7be9y",
        "outputId": "53477e8e-8cac-4519-940a-dd96191197ef",
        "colab": {
          "base_uri": "https://localhost:8080/",
          "height": 110
        }
      },
      "source": [
        "# Apply min max scaler for selected features\n",
        "\n",
        "%%time\n",
        "\n",
        "\n",
        "# for features in context_df\n",
        "for feature in train_df[['calories', 'workout_distance', 'total_distance']].columns:\n",
        "    # Reshape data using array.reshape(-1, 1) if data has a single feature\n",
        "    train_df[feature] = scaler_dic[feature].transform(\n",
        "        train_df[feature].to_numpy().reshape(-1, 1))\n",
        "    \n",
        "    test_df[feature] = scaler_dic[feature].transform(\n",
        "        test_df[feature].to_numpy().reshape(-1, 1))\n",
        "\n",
        "\n",
        "display(train_df.head(1))"
      ],
      "execution_count": 12,
      "outputs": [
        {
          "output_type": "display_data",
          "data": {
            "text/html": [
              "<div>\n",
              "<style scoped>\n",
              "    .dataframe tbody tr th:only-of-type {\n",
              "        vertical-align: middle;\n",
              "    }\n",
              "\n",
              "    .dataframe tbody tr th {\n",
              "        vertical-align: top;\n",
              "    }\n",
              "\n",
              "    .dataframe thead th {\n",
              "        text-align: right;\n",
              "    }\n",
              "</style>\n",
              "<table border=\"1\" class=\"dataframe\">\n",
              "  <thead>\n",
              "    <tr style=\"text-align: right;\">\n",
              "      <th></th>\n",
              "      <th>userId</th>\n",
              "      <th>gender</th>\n",
              "      <th>sport</th>\n",
              "      <th>calories</th>\n",
              "      <th>workout_distance</th>\n",
              "      <th>Route_id</th>\n",
              "      <th>total_distance</th>\n",
              "      <th>genderId</th>\n",
              "      <th>sportId</th>\n",
              "    </tr>\n",
              "  </thead>\n",
              "  <tbody>\n",
              "    <tr>\n",
              "      <th>0</th>\n",
              "      <td>11889307</td>\n",
              "      <td>unknown</td>\n",
              "      <td>bike</td>\n",
              "      <td>0.09517</td>\n",
              "      <td>0.351182</td>\n",
              "      <td>0</td>\n",
              "      <td>0.351182</td>\n",
              "      <td>2</td>\n",
              "      <td>1</td>\n",
              "    </tr>\n",
              "  </tbody>\n",
              "</table>\n",
              "</div>"
            ],
            "text/plain": [
              "     userId   gender sport  ...  total_distance  genderId  sportId\n",
              "0  11889307  unknown  bike  ...        0.351182         2        1\n",
              "\n",
              "[1 rows x 9 columns]"
            ]
          },
          "metadata": {
            "tags": []
          }
        },
        {
          "output_type": "stream",
          "text": [
            "CPU times: user 18.2 ms, sys: 1.66 ms, total: 19.9 ms\n",
            "Wall time: 20.8 ms\n"
          ],
          "name": "stdout"
        }
      ]
    },
    {
      "cell_type": "code",
      "metadata": {
        "id": "FhtJjcZ1N1fQ"
      },
      "source": [
        "# # Fit onehot encoder for categorical features\n",
        "\n",
        "# OneHot_enc = OneHotEncoder()\n",
        "# OneHot_enc.fit(pd.concat([train_df[['genderId', 'sportId']], \n",
        "#                           test_df[['genderId', 'sportId']]]))\n",
        "\n",
        "# # Save onehot encoder\n",
        "\n",
        "# file_path = '/content/drive/My Drive/Colab Notebooks/DATA5703/OneHotEncoder.m'\n",
        "\n",
        "# joblib.dump(OneHot_enc, file_path)\n",
        "\n",
        "# Load onehot encoder for categorical features\n",
        "\n",
        "dir = '/content/drive/My Drive/Colab Notebooks/DATA5703/OneHotEncoder.m'\n",
        "\n",
        "OneHot_enc = joblib.load(dir)"
      ],
      "execution_count": 13,
      "outputs": []
    },
    {
      "cell_type": "code",
      "metadata": {
        "id": "IWSQk0yd0RS6"
      },
      "source": [
        "# Load user embedding and route embedding\n",
        "# Note that we try different entity embedding sizes in our experiments in section 7\n",
        "\n",
        "\n",
        "# # Entity Embedding size 2\n",
        "# user_dir = '/content/drive/My Drive/Colab Notebooks/DATA5703/Data/embedding/userEmbed_tensorD_2.m'\n",
        "# route_dir = '/content/drive/My Drive/Colab Notebooks/DATA5703/Data/embedding/routeEmbed_tensorD_2.m'\n",
        "\n",
        "# # Entity Embedding size 11\n",
        "# user_dir = '/content/drive/My Drive/Colab Notebooks/DATA5703/Data/embedding/userEmbed_tensorD_11.m'\n",
        "# route_dir = '/content/drive/My Drive/Colab Notebooks/DATA5703/Data/embedding/routeEmbed_tensorD_11.m'\n",
        "\n",
        "# Entity Embedding size 13\n",
        "user_dir = '/content/drive/My Drive/Colab Notebooks/DATA5703/Data/embedding/userEmbed_tensorD_13.m'\n",
        "route_dir = '/content/drive/My Drive/Colab Notebooks/DATA5703/Data/embedding/routeEmbed_tensorD_13.m'\n",
        "\n",
        "user_embed_df = joblib.load(user_dir)\n",
        "route_embed_df = joblib.load(route_dir)"
      ],
      "execution_count": 14,
      "outputs": []
    },
    {
      "cell_type": "code",
      "metadata": {
        "id": "YFs2z5XSXy6C",
        "outputId": "bb16830c-7d1f-4ee0-b64d-cdef90143a74",
        "colab": {
          "base_uri": "https://localhost:8080/"
        }
      },
      "source": [
        "# find user embedding and route embedding for each row of data\n",
        "\n",
        "%%time\n",
        "\n",
        "# train data\n",
        "train_userId_arr = train_df.userId.to_numpy()\n",
        "train_userEmbed_arr = np.array([np.array(\n",
        "    user_embed_df[user_embed_df.userId == userId].userEmbed.values[0]) for userId in train_userId_arr])\n",
        "\n",
        "train_Route_id_arr = train_df.Route_id.to_numpy()\n",
        "train_routeEmbed_arr = np.array([np.array(\n",
        "    route_embed_df[route_embed_df.Route_id == Route_id].routeEmbed.values[0]) for Route_id in train_Route_id_arr])\n",
        "\n",
        "# test data\n",
        "test_userId_arr = test_df.userId.to_numpy()\n",
        "test_userEmbed_arr = np.array([np.array(\n",
        "    user_embed_df[user_embed_df.userId == userId].userEmbed.values[0]) for userId in test_userId_arr])\n",
        "\n",
        "test_Route_id_arr = test_df.Route_id.to_numpy()\n",
        "test_routeEmbed_arr = np.array([np.array(\n",
        "    route_embed_df[route_embed_df.Route_id == Route_id].routeEmbed.values[0]) for Route_id in test_Route_id_arr])"
      ],
      "execution_count": 15,
      "outputs": [
        {
          "output_type": "stream",
          "text": [
            "CPU times: user 1min 2s, sys: 300 ms, total: 1min 2s\n",
            "Wall time: 1min 2s\n"
          ],
          "name": "stdout"
        }
      ]
    },
    {
      "cell_type": "code",
      "metadata": {
        "id": "e-tV_aKvWz1D",
        "outputId": "7d3fe8e6-226e-40d3-abd4-e5e3d661c5a5",
        "colab": {
          "base_uri": "https://localhost:8080/"
        }
      },
      "source": [
        "# one hot encode gender and sport features\n",
        "\n",
        "%%time\n",
        "\n",
        "# train data\n",
        "train_gender_sport_arr = train_df[['genderId', 'sportId']].to_numpy()\n",
        "train_gender_sport_arr = OneHot_enc.transform(train_gender_sport_arr).toarray()\n",
        "\n",
        "# test data\n",
        "test_gender_sport_arr = test_df[['genderId', 'sportId']].to_numpy()\n",
        "test_gender_sport_arr = OneHot_enc.transform(test_gender_sport_arr).toarray()"
      ],
      "execution_count": 16,
      "outputs": [
        {
          "output_type": "stream",
          "text": [
            "CPU times: user 12.7 ms, sys: 11.9 ms, total: 24.6 ms\n",
            "Wall time: 29.9 ms\n"
          ],
          "name": "stdout"
        }
      ]
    },
    {
      "cell_type": "code",
      "metadata": {
        "id": "-s2i5r5HaERn",
        "outputId": "377304e7-ada1-4653-fb3c-42f43dc45634",
        "colab": {
          "base_uri": "https://localhost:8080/"
        }
      },
      "source": [
        "# train_data_arr: calories (1), total_distance (1), user embedding (2/11/13), route embedding (2/11/13), gender onehot (3), sport onehot (3)\n",
        "\n",
        "%%time\n",
        "\n",
        "# train data\n",
        "train_data_arr = np.hstack((train_df[['calories', 'total_distance']].to_numpy(\n",
        "), train_userEmbed_arr, train_routeEmbed_arr, train_gender_sport_arr))\n",
        "train_label_arr = train_df.workout_distance.to_numpy()\n",
        "\n",
        "# test data\n",
        "test_data_arr = np.hstack((test_df[['calories', 'total_distance']].to_numpy(\n",
        "), test_userEmbed_arr, test_routeEmbed_arr, test_gender_sport_arr))\n",
        "test_label_arr = test_df.workout_distance.to_numpy()\n",
        "\n",
        "print('train_data_arr shape: ', train_data_arr.shape)\n",
        "print('train_label_arr shape: ', train_label_arr.shape)\n",
        "print('test_data_arr shape: ', test_data_arr.shape)\n",
        "print('test_label_arr shape: ', test_label_arr.shape)"
      ],
      "execution_count": 17,
      "outputs": [
        {
          "output_type": "stream",
          "text": [
            "train_data_arr shape:  (50253, 34)\n",
            "train_label_arr shape:  (50253,)\n",
            "test_data_arr shape:  (12578, 34)\n",
            "test_label_arr shape:  (12578,)\n",
            "CPU times: user 10.9 ms, sys: 0 ns, total: 10.9 ms\n",
            "Wall time: 11.6 ms\n"
          ],
          "name": "stdout"
        }
      ]
    },
    {
      "cell_type": "code",
      "metadata": {
        "id": "wn95rvX58Wcy",
        "outputId": "3e32db4c-13e8-4540-b4eb-b65443e3176f",
        "colab": {
          "base_uri": "https://localhost:8080/"
        }
      },
      "source": [
        "# train validation split\n",
        "\n",
        "train_data, val_data, train_label, val_label = train_test_split(\n",
        "    train_data_arr, train_label_arr, test_size=0.2, shuffle=True, random_state=1021)\n",
        "\n",
        "print('train data count: ', train_data.shape[0])\n",
        "print('val data count: ', val_data.shape[0])\n",
        "print('test data count: ', test_data_arr.shape[0])"
      ],
      "execution_count": 18,
      "outputs": [
        {
          "output_type": "stream",
          "text": [
            "train data count:  40202\n",
            "val data count:  10051\n",
            "test data count:  12578\n"
          ],
          "name": "stdout"
        }
      ]
    },
    {
      "cell_type": "markdown",
      "metadata": {
        "id": "9cXu5M0ZE44X"
      },
      "source": [
        "# 5. Build Dataset and DataLoader"
      ]
    },
    {
      "cell_type": "code",
      "metadata": {
        "id": "Jz-poqrFPoRz"
      },
      "source": [
        "class DisReg_Data(Dataset):\n",
        "    def __init__(self, X, y):\n",
        "        self.X = X\n",
        "        self.y = y\n",
        "\n",
        "\t# return a data sample\n",
        "    def __getitem__(self, idx): \n",
        "\n",
        "        data = self.X[idx]\n",
        "        label = self.y[idx]\n",
        "         \n",
        "        return data, label\n",
        "\n",
        "    def __len__(self):\n",
        "        return len(self.X)"
      ],
      "execution_count": 19,
      "outputs": []
    },
    {
      "cell_type": "code",
      "metadata": {
        "id": "Tb_OmtDaYIEL"
      },
      "source": [
        "ds_train = DisReg_Data(train_data, train_label)\n",
        "dl_train = torch.utils.data.DataLoader(ds_train, \n",
        "                                       batch_size=32, \n",
        "                                       shuffle=True,\n",
        "                                       drop_last=True)\n",
        "\n",
        "ds_val = DisReg_Data(val_data, val_label)\n",
        "dl_val = torch.utils.data.DataLoader(ds_val, \n",
        "                                     batch_size=32, \n",
        "                                     shuffle=True,\n",
        "                                     drop_last=True)\n",
        "\n",
        "ds_test = DisReg_Data(test_data_arr, test_label_arr)\n",
        "dl_test = torch.utils.data.DataLoader(ds_test, \n",
        "                                     batch_size=32, \n",
        "                                     shuffle=True,\n",
        "                                     drop_last=True)"
      ],
      "execution_count": 20,
      "outputs": []
    },
    {
      "cell_type": "markdown",
      "metadata": {
        "id": "m_liuuFIMriA"
      },
      "source": [
        "# 6. Define functions to save model, load model, train model"
      ]
    },
    {
      "cell_type": "code",
      "metadata": {
        "id": "njmMP-qgokRn"
      },
      "source": [
        "def save_model(filename, \n",
        "               best_model,\n",
        "               best_epoch,\n",
        "               best_loss_train,\n",
        "               lowest_loss_val,\n",
        "               epochs,\n",
        "               latest_model,\n",
        "               optimiser,\n",
        "               total_losses_train,\n",
        "               total_losses_val):\n",
        "\n",
        "    DATA_PATH = \"/content/drive/My Drive/Colab Notebooks/DATA5703/\"+filename\n",
        "    state = {\n",
        "        'best_model_state_dict': best_model,\n",
        "        'best_epoch': best_epoch,\n",
        "        'best_loss_train': best_loss_train,\n",
        "        'lowest_loss_val': lowest_loss_val,\n",
        "        'epochs': epochs,\n",
        "        'latest_model_state_dict': latest_model,\n",
        "        'optimiser_state_dict': optimiser,\n",
        "        'total_losses_train': total_losses_train,\n",
        "        'total_losses_val': total_losses_val\n",
        "    }\n",
        "    torch.save(state, DATA_PATH)\n",
        "\n",
        "\n",
        "def train_model(model,\n",
        "                optimiser,\n",
        "                criterion,\n",
        "                num_epochs,\n",
        "                dl_train,\n",
        "                dl_val, \n",
        "                show_progress_epoch,\n",
        "                save_model_epoch,\n",
        "                save_model_name,\n",
        "                continue_train = False, \n",
        "                previous_best_train_loss = 0,\n",
        "                previous_lowest_val_loss = 0,\n",
        "                best_model_state_dict = 0,\n",
        "                previous_best_epoch = 0,\n",
        "                previous_epochs = 0,\n",
        "                previous_train_loss = 0,\n",
        "                previous_val_loss = 0):\n",
        "\n",
        "    checkpoint = time.time()\n",
        "\n",
        "    # we have this parameter passed to the function to indicate if we continue training\n",
        "    if continue_train:\n",
        "        # if continue training, we load previous training progress\n",
        "        epochs = previous_epochs\n",
        "        total_losses_train = previous_train_loss\n",
        "        total_losses_val = previous_val_loss\n",
        "        num_epoch_from_previous_training = previous_epochs[-1]+1\n",
        "        best_epoch = previous_best_epoch\n",
        "        best_loss_train = previous_best_train_loss\n",
        "        lowest_loss_val = previous_lowest_val_loss\n",
        "        best_model_wts = copy.deepcopy(best_model_state_dict)\n",
        "\n",
        "    else:\n",
        "        # if not continue training, we create new variables to save training progress\n",
        "        epochs = []\n",
        "        total_losses_train = []\n",
        "        total_losses_val = []\n",
        "        num_epoch_from_previous_training = 1\n",
        "        lowest_loss_val = 100000.\n",
        "\n",
        "\n",
        "    # iterate over number of epochs\n",
        "\n",
        "    for epoch in range(num_epoch_from_previous_training, num_epochs+1):\n",
        "\n",
        "        check_epoch = time.time()\n",
        "\n",
        "        # update epoch record\n",
        "        epochs.append(epoch)\n",
        "\n",
        "        # Training:\n",
        "        # create empty list to save training loss for each epoch\n",
        "        train_losses_epoch = []\n",
        "\n",
        "        # iterate over mini-batches\n",
        "\n",
        "        for train_data, train_label in dl_train:\n",
        "\n",
        "            # convert to cuda if available\n",
        "            train_data = train_data.float().to(device)\n",
        "            train_label = train_label.float().to(device)\n",
        "\n",
        "\n",
        "            # model prediction and back propagation\n",
        "            model.train()\n",
        "\n",
        "            optimiser.zero_grad()\n",
        "            output = model(train_data)\n",
        "            loss = criterion(output.squeeze(), train_label)\n",
        "          \n",
        "            loss.backward()\n",
        "            optimiser.step()\n",
        "\n",
        "            # store mini-batch loss\n",
        "            train_losses_epoch.append(loss.item())\n",
        "\n",
        "        # get average training loss for the epoch over mini-batches\n",
        "        train_losses_epoch = np.average(train_losses_epoch)\n",
        "\n",
        "        # add training loss of epoch to total training loss list\n",
        "        total_losses_train.append(train_losses_epoch)\n",
        "\n",
        "        # Validation:\n",
        "\n",
        "        # create empty list to save val loss for each epoch\n",
        "        val_losses_epoch = []\n",
        "\n",
        "        for val_data, val_label in dl_val:\n",
        "\n",
        "            # convert to cuda if available\n",
        "            val_data = val_data.float().to(device)\n",
        "            val_label = val_label.float().to(device)\n",
        "\n",
        "            model.eval()\n",
        "\n",
        "            with torch.no_grad():\n",
        "                output = model(val_data)\n",
        "                loss = criterion(output.squeeze(), val_label)\n",
        "\n",
        "            val_losses_epoch.append(loss.item())\n",
        "\n",
        "        # get average val loss for the epoch over mini-batches\n",
        "        val_losses_epoch = np.average(val_losses_epoch)\n",
        "        # add val loss of epoch to total val loss list\n",
        "        total_losses_val.append(val_losses_epoch)\n",
        "\n",
        "        elapsed_epoch = format_time(time.time() - check_epoch)\n",
        "\n",
        "        # show training progress at pre-defined interval\n",
        "        if epoch % show_progress_epoch == 0:\n",
        "            print('Epoch: {} Elapsed {} | Train Loss: {:.4} | Val Loss: {:.4}'.format(\n",
        "                epoch, elapsed_epoch, train_losses_epoch, val_losses_epoch))\n",
        "\n",
        "        # save best model\n",
        "        if val_losses_epoch < lowest_loss_val:\n",
        "            lowest_loss_val = val_losses_epoch\n",
        "            best_epoch = epoch\n",
        "            best_loss_train = train_losses_epoch\n",
        "            best_model = copy.deepcopy(model)\n",
        "\n",
        "\n",
        "        # save model during training at pre-defined interval\n",
        "        if epoch % save_model_epoch == 0:\n",
        "            save_model(save_model_name,\n",
        "                       best_model.state_dict(),\n",
        "                       best_epoch,\n",
        "                       best_loss_train,\n",
        "                       lowest_loss_val,\n",
        "                       epochs,\n",
        "                       model.state_dict(),\n",
        "                       optimiser.state_dict(),\n",
        "                       total_losses_train,\n",
        "                       total_losses_val)\n",
        "\n",
        "\n",
        "    elapsed = format_time(time.time() - checkpoint)\n",
        "    print('Training complete in: {}. Lowest validation loss occurred at epoch {}: {:.4}'.format(\n",
        "                elapsed, best_epoch, lowest_loss_val))"
      ],
      "execution_count": 21,
      "outputs": []
    },
    {
      "cell_type": "code",
      "metadata": {
        "id": "-B6SDbv6S4qB"
      },
      "source": [
        "# Define function to load model\n",
        "\n",
        "def load_model(filename, best_model, latest_model):\n",
        "\n",
        "    DATA_PATH = \"/content/drive/My Drive/Colab Notebooks/DATA5703/\"+filename\n",
        "\n",
        "    checkpoint = torch.load(DATA_PATH)\n",
        "\n",
        "    best_model.load_state_dict(checkpoint['best_model_state_dict'])\n",
        "    best_epoch = checkpoint['best_epoch']\n",
        "    best_loss_train = checkpoint['best_loss_train']\n",
        "    lowest_loss_val = checkpoint['lowest_loss_val']\n",
        "    epochs = checkpoint['epochs']\n",
        "    latest_model.load_state_dict(checkpoint['latest_model_state_dict'])\n",
        "    optimiser.load_state_dict(checkpoint['optimiser_state_dict'])\n",
        "    total_losses_train = checkpoint['total_losses_train']\n",
        "    total_losses_val = checkpoint['total_losses_val']\n",
        "\n",
        "    return best_model, best_epoch, best_loss_train, lowest_loss_val, epochs, \\\n",
        "        latest_model, optimiser, total_losses_train, total_losses_val"
      ],
      "execution_count": 22,
      "outputs": []
    },
    {
      "cell_type": "markdown",
      "metadata": {
        "id": "iRVFz2f_kM16"
      },
      "source": [
        "# 7. Experiments"
      ]
    },
    {
      "cell_type": "markdown",
      "metadata": {
        "id": "_lln_EPClZMz"
      },
      "source": [
        "## 7.1 Hyperparameter exploration with basic 2-layer MLP model with entity embedding size of 2\n",
        "\n",
        "**Ensure entity embeddings with size 2 were loaded in Data Processing**"
      ]
    },
    {
      "cell_type": "markdown",
      "metadata": {
        "id": "Xw2D7p6F23Wb"
      },
      "source": [
        "### 7.1.1 Define Model"
      ]
    },
    {
      "cell_type": "code",
      "metadata": {
        "id": "XwSV1EqIlYjj"
      },
      "source": [
        "# Define model\n",
        "\n",
        "class DisReg_MLP_2Layer(nn.Module):\n",
        "    def __init__(self, input_dim, hidden_dim_1, p):\n",
        "        super(DisReg_MLP_2Layer, self).__init__()\n",
        "\n",
        "        self.fc1 = nn.Linear(input_dim, hidden_dim_1)\n",
        "        self.fc2 = nn.Linear(hidden_dim_1, 1)\n",
        "\n",
        "        self.act_1 = nn.ReLU()\n",
        "        self.act_2 = nn.Sigmoid()\n",
        "\n",
        "        self.drop_1 = nn.Dropout(p)\n",
        "\n",
        "    def forward(self, data):\n",
        "        output = self.fc1(data)\n",
        "        output = self.act_1(output)\n",
        "        output = self.drop_1(output)\n",
        "\n",
        "        output = self.fc2(output)\n",
        "        output = self.act_2(output)\n",
        "\n",
        "        return output"
      ],
      "execution_count": null,
      "outputs": []
    },
    {
      "cell_type": "markdown",
      "metadata": {
        "id": "DkK5i6Bu29nz"
      },
      "source": [
        "### 7.1.2 Random Search"
      ]
    },
    {
      "cell_type": "code",
      "metadata": {
        "id": "xKdAMisIl_BR"
      },
      "source": [
        "# Fixed parameters\n",
        "\n",
        "INPUT_DIM = 12 # when entity embedding size = 2\n",
        "SAVE_MODEL_NAME = 'DisReg_MLP_tmp'\n",
        "SAVE_MODEL_EPOCH = 1\n",
        "N_EPOCHS = 50\n",
        "SHOW_PROGRESS_EPOCH = N_EPOCHS+1"
      ],
      "execution_count": null,
      "outputs": []
    },
    {
      "cell_type": "code",
      "metadata": {
        "id": "1Wy4tfsIlYmh",
        "outputId": "85f959ba-683c-4e51-eb32-c08fd3299cb7",
        "colab": {
          "base_uri": "https://localhost:8080/"
        }
      },
      "source": [
        "# Random Search\n",
        "\n",
        "np.random.seed(32)\n",
        "\n",
        "LEARNING_RATE = np.array([1e-1, 1e-2, 1e-3, 1e-4, 1e-5, 1e-6])\n",
        "HIDDEN_DIM = np.array([4, 8, 16, 32, 64])\n",
        "WEIGHT_DECAY = np.array([1e-1, 1e-2, 1e-3, 1e-4, 1e-5, 1e-6])\n",
        "DROP_OUT = np.array([0., 0.1, 0.2, 0.3, 0.4, 0.5])\n",
        "\n",
        "para_result = []\n",
        "\n",
        "N_TRIAL = 50\n",
        "\n",
        "for trial in range(1, N_TRIAL+1):\n",
        "    lr = np.random.choice(LEARNING_RATE)\n",
        "    hd = np.random.choice(HIDDEN_DIM)\n",
        "    wd = np.random.choice(WEIGHT_DECAY)\n",
        "    dp = np.random.choice(DROP_OUT)\n",
        "\n",
        "    DisReg_MLP_tmp = DisReg_MLP_2Layer(\n",
        "        INPUT_DIM, hd, dp).to(device)\n",
        "\n",
        "    optimiser = optim.Adam(\n",
        "        DisReg_MLP_tmp.parameters(),\n",
        "        lr=lr, weight_decay=wd)\n",
        "    \n",
        "    criterion = torch.nn.MSELoss()\n",
        "\n",
        "    print('Trial# ', trial)\n",
        "\n",
        "    train_model(DisReg_MLP_tmp,\n",
        "            optimiser,\n",
        "            criterion,\n",
        "            N_EPOCHS,\n",
        "            dl_train,\n",
        "            dl_val, \n",
        "            SHOW_PROGRESS_EPOCH,\n",
        "            SAVE_MODEL_EPOCH,\n",
        "            SAVE_MODEL_NAME,\n",
        "            continue_train = False, \n",
        "            previous_best_train_loss = 0,\n",
        "            previous_lowest_val_loss = 0,\n",
        "            best_model_state_dict = 0,\n",
        "            previous_best_epoch = 0,\n",
        "            previous_epochs = 0,\n",
        "            previous_train_loss = 0,\n",
        "            previous_val_loss = 0)\n",
        "\n",
        "\n",
        "    _, best_epoch, best_loss_train, lowest_loss_val, _, _, \\\n",
        "    _, _, _ = load_model(\n",
        "        SAVE_MODEL_NAME, \n",
        "        DisReg_MLP_tmp, \n",
        "        DisReg_MLP_tmp)\n",
        "\n",
        "    print(\n",
        "        'Learning rate: {}, Hidden dim: {}, Weight decay: {}, Drop out: {}, '\\\n",
        "        'Train loss: {:.4f}, Val loss: {:.4f}'.format(\n",
        "            lr, hd, wd, dp, best_loss_train, lowest_loss_val)\n",
        "        )\n",
        "    print('')\n",
        "\n",
        "    para_result.append([lr, hd, wd, dp, best_epoch, best_loss_train, lowest_loss_val])\n",
        "\n",
        "\n",
        "para_result = pd.DataFrame(\n",
        "    para_result, \n",
        "    columns=[\n",
        "             'Learning_rate',\n",
        "             'Hidden_dim',\n",
        "             'Weight_decay',\n",
        "             'Drop_out',\n",
        "             'Best_epoch',\n",
        "             'Train_loss',\n",
        "             'Val_loss'\n",
        "    ])\n",
        "\n",
        "file_path = '/content/drive/My Drive/Colab Notebooks/DATA5703/section_7_1_2_para_result.m'\n",
        "joblib.dump(para_result, file_path)"
      ],
      "execution_count": null,
      "outputs": [
        {
          "output_type": "stream",
          "text": [
            "Trial#  1\n",
            "Training complete in: 0:02:10. Lowest validation loss occurred at epoch 47: 0.03378\n",
            "Learning rate: 0.0001, Hidden dim: 64, Weight decay: 0.1, Drop out: 0.3, Train loss: 0.0349, Val loss: 0.0338\n",
            "\n",
            "Trial#  2\n",
            "Training complete in: 0:02:09. Lowest validation loss occurred at epoch 50: 0.006713\n",
            "Learning rate: 1e-05, Hidden dim: 8, Weight decay: 0.0001, Drop out: 0.5, Train loss: 0.0126, Val loss: 0.0067\n",
            "\n",
            "Trial#  3\n",
            "Training complete in: 0:02:09. Lowest validation loss occurred at epoch 40: 0.0002347\n",
            "Learning rate: 0.001, Hidden dim: 8, Weight decay: 1e-05, Drop out: 0.3, Train loss: 0.0017, Val loss: 0.0002\n",
            "\n",
            "Trial#  4\n",
            "Training complete in: 0:02:09. Lowest validation loss occurred at epoch 18: 0.009021\n",
            "Learning rate: 0.01, Hidden dim: 32, Weight decay: 0.01, Drop out: 0.2, Train loss: 0.0106, Val loss: 0.0090\n",
            "\n",
            "Trial#  5\n",
            "Training complete in: 0:02:08. Lowest validation loss occurred at epoch 38: 0.002547\n",
            "Learning rate: 0.0001, Hidden dim: 4, Weight decay: 0.001, Drop out: 0.2, Train loss: 0.0047, Val loss: 0.0025\n",
            "\n",
            "Trial#  6\n",
            "Training complete in: 0:02:08. Lowest validation loss occurred at epoch 39: 0.001163\n",
            "Learning rate: 0.001, Hidden dim: 64, Weight decay: 0.001, Drop out: 0.4, Train loss: 0.0018, Val loss: 0.0012\n",
            "\n",
            "Trial#  7\n",
            "Training complete in: 0:02:06. Lowest validation loss occurred at epoch 50: 0.004005\n",
            "Learning rate: 1e-05, Hidden dim: 8, Weight decay: 1e-06, Drop out: 0.1, Train loss: 0.0047, Val loss: 0.0040\n",
            "\n",
            "Trial#  8\n",
            "Training complete in: 0:02:04. Lowest validation loss occurred at epoch 50: 0.03089\n",
            "Learning rate: 1e-06, Hidden dim: 32, Weight decay: 0.0001, Drop out: 0.0, Train loss: 0.0318, Val loss: 0.0309\n",
            "\n",
            "Trial#  9\n",
            "Training complete in: 0:02:08. Lowest validation loss occurred at epoch 26: 0.0001597\n",
            "Learning rate: 0.001, Hidden dim: 64, Weight decay: 1e-06, Drop out: 0.2, Train loss: 0.0003, Val loss: 0.0002\n",
            "\n",
            "Trial#  10\n",
            "Training complete in: 0:02:06. Lowest validation loss occurred at epoch 9: 0.0003423\n",
            "Learning rate: 0.1, Hidden dim: 32, Weight decay: 1e-05, Drop out: 0.1, Train loss: 0.0013, Val loss: 0.0003\n",
            "\n",
            "Trial#  11\n",
            "Training complete in: 0:02:08. Lowest validation loss occurred at epoch 15: 0.003799\n",
            "Learning rate: 0.1, Hidden dim: 32, Weight decay: 0.001, Drop out: 0.5, Train loss: 0.0089, Val loss: 0.0038\n",
            "\n",
            "Trial#  12\n",
            "Training complete in: 0:02:09. Lowest validation loss occurred at epoch 28: 0.000164\n",
            "Learning rate: 0.001, Hidden dim: 32, Weight decay: 1e-06, Drop out: 0.2, Train loss: 0.0004, Val loss: 0.0002\n",
            "\n",
            "Trial#  13\n",
            "Training complete in: 0:02:06. Lowest validation loss occurred at epoch 50: 0.1146\n",
            "Learning rate: 1e-06, Hidden dim: 4, Weight decay: 0.0001, Drop out: 0.3, Train loss: 0.1158, Val loss: 0.1146\n",
            "\n",
            "Trial#  14\n",
            "Training complete in: 0:02:06. Lowest validation loss occurred at epoch 50: 0.09234\n",
            "Learning rate: 1e-06, Hidden dim: 32, Weight decay: 0.0001, Drop out: 0.2, Train loss: 0.0943, Val loss: 0.0923\n",
            "\n",
            "Trial#  15\n",
            "Training complete in: 0:02:09. Lowest validation loss occurred at epoch 44: 0.0003702\n",
            "Learning rate: 0.001, Hidden dim: 8, Weight decay: 0.0001, Drop out: 0.1, Train loss: 0.0009, Val loss: 0.0004\n",
            "\n",
            "Trial#  16\n",
            "Training complete in: 0:02:08. Lowest validation loss occurred at epoch 31: 0.0342\n",
            "Learning rate: 1e-05, Hidden dim: 64, Weight decay: 0.1, Drop out: 0.4, Train loss: 0.0349, Val loss: 0.0342\n",
            "\n",
            "Trial#  17\n",
            "Training complete in: 0:02:10. Lowest validation loss occurred at epoch 27: 0.0003902\n",
            "Learning rate: 0.001, Hidden dim: 8, Weight decay: 0.0001, Drop out: 0.2, Train loss: 0.0014, Val loss: 0.0004\n",
            "\n",
            "Trial#  18\n",
            "Training complete in: 0:02:11. Lowest validation loss occurred at epoch 39: 0.001528\n",
            "Learning rate: 0.001, Hidden dim: 4, Weight decay: 0.001, Drop out: 0.1, Train loss: 0.0025, Val loss: 0.0015\n",
            "\n",
            "Trial#  19\n",
            "Training complete in: 0:02:07. Lowest validation loss occurred at epoch 50: 0.1064\n",
            "Learning rate: 1e-06, Hidden dim: 16, Weight decay: 0.0001, Drop out: 0.0, Train loss: 0.1075, Val loss: 0.1064\n",
            "\n",
            "Trial#  20\n",
            "Training complete in: 0:02:05. Lowest validation loss occurred at epoch 50: 0.009951\n",
            "Learning rate: 1e-05, Hidden dim: 8, Weight decay: 0.01, Drop out: 0.0, Train loss: 0.0101, Val loss: 0.0100\n",
            "\n",
            "Trial#  21\n",
            "Training complete in: 0:02:09. Lowest validation loss occurred at epoch 50: 0.0003234\n",
            "Learning rate: 0.0001, Hidden dim: 8, Weight decay: 1e-05, Drop out: 0.3, Train loss: 0.0017, Val loss: 0.0003\n",
            "\n",
            "Trial#  22\n",
            "Training complete in: 0:02:08. Lowest validation loss occurred at epoch 45: 0.001498\n",
            "Learning rate: 0.1, Hidden dim: 16, Weight decay: 0.001, Drop out: 0.1, Train loss: 0.0043, Val loss: 0.0015\n",
            "\n",
            "Trial#  23\n",
            "Training complete in: 0:02:10. Lowest validation loss occurred at epoch 32: 0.009352\n",
            "Learning rate: 0.1, Hidden dim: 64, Weight decay: 0.01, Drop out: 0.4, Train loss: 0.0137, Val loss: 0.0094\n",
            "\n",
            "Trial#  24\n",
            "Training complete in: 0:02:07. Lowest validation loss occurred at epoch 5: 0.009091\n",
            "Learning rate: 0.1, Hidden dim: 8, Weight decay: 0.01, Drop out: 0.2, Train loss: 0.0127, Val loss: 0.0091\n",
            "\n",
            "Trial#  25\n",
            "Training complete in: 0:02:09. Lowest validation loss occurred at epoch 48: 0.03158\n",
            "Learning rate: 0.01, Hidden dim: 16, Weight decay: 0.1, Drop out: 0.5, Train loss: 0.0366, Val loss: 0.0316\n",
            "\n",
            "Trial#  26\n",
            "Training complete in: 0:02:05. Lowest validation loss occurred at epoch 34: 0.03329\n",
            "Learning rate: 1e-05, Hidden dim: 4, Weight decay: 0.1, Drop out: 0.0, Train loss: 0.0337, Val loss: 0.0333\n",
            "\n",
            "Trial#  27\n",
            "Training complete in: 0:02:09. Lowest validation loss occurred at epoch 25: 0.001354\n",
            "Learning rate: 0.001, Hidden dim: 32, Weight decay: 0.001, Drop out: 0.4, Train loss: 0.0023, Val loss: 0.0014\n",
            "\n",
            "Trial#  28\n",
            "Training complete in: 0:02:05. Lowest validation loss occurred at epoch 4: 0.0002262\n",
            "Learning rate: 0.1, Hidden dim: 16, Weight decay: 1e-06, Drop out: 0.0, Train loss: 0.0004, Val loss: 0.0002\n",
            "\n",
            "Trial#  29\n",
            "Training complete in: 0:02:09. Lowest validation loss occurred at epoch 49: 0.000182\n",
            "Learning rate: 0.0001, Hidden dim: 64, Weight decay: 1e-05, Drop out: 0.1, Train loss: 0.0003, Val loss: 0.0002\n",
            "\n",
            "Trial#  30\n",
            "Training complete in: 0:02:08. Lowest validation loss occurred at epoch 26: 0.03358\n",
            "Learning rate: 0.001, Hidden dim: 8, Weight decay: 0.1, Drop out: 0.3, Train loss: 0.0358, Val loss: 0.0336\n",
            "\n",
            "Trial#  31\n",
            "Training complete in: 0:02:07. Lowest validation loss occurred at epoch 16: 0.03485\n",
            "Learning rate: 0.0001, Hidden dim: 8, Weight decay: 0.1, Drop out: 0.3, Train loss: 0.0359, Val loss: 0.0348\n",
            "\n",
            "Trial#  32\n",
            "Training complete in: 0:02:07. Lowest validation loss occurred at epoch 39: 0.00109\n",
            "Learning rate: 0.01, Hidden dim: 4, Weight decay: 1e-06, Drop out: 0.4, Train loss: 0.0048, Val loss: 0.0011\n",
            "\n",
            "Trial#  33\n",
            "Training complete in: 0:02:05. Lowest validation loss occurred at epoch 32: 0.03568\n",
            "Learning rate: 0.0001, Hidden dim: 8, Weight decay: 0.1, Drop out: 0.5, Train loss: 0.0369, Val loss: 0.0357\n",
            "\n",
            "Trial#  34\n",
            "Training complete in: 0:02:07. Lowest validation loss occurred at epoch 9: 0.0002694\n",
            "Learning rate: 0.1, Hidden dim: 32, Weight decay: 1e-06, Drop out: 0.1, Train loss: 0.0012, Val loss: 0.0003\n",
            "\n",
            "Trial#  35\n",
            "Training complete in: 0:02:07. Lowest validation loss occurred at epoch 49: 0.009556\n",
            "Learning rate: 0.001, Hidden dim: 4, Weight decay: 0.01, Drop out: 0.1, Train loss: 0.0106, Val loss: 0.0096\n",
            "\n",
            "Trial#  36\n",
            "Training complete in: 0:02:07. Lowest validation loss occurred at epoch 40: 0.03367\n",
            "Learning rate: 0.0001, Hidden dim: 64, Weight decay: 0.1, Drop out: 0.2, Train loss: 0.0349, Val loss: 0.0337\n",
            "\n",
            "Trial#  37\n",
            "Training complete in: 0:02:06. Lowest validation loss occurred at epoch 50: 0.02848\n",
            "Learning rate: 1e-06, Hidden dim: 64, Weight decay: 0.0001, Drop out: 0.5, Train loss: 0.0328, Val loss: 0.0285\n",
            "\n",
            "Trial#  38\n",
            "Training complete in: 0:02:08. Lowest validation loss occurred at epoch 50: 0.08577\n",
            "Learning rate: 1e-06, Hidden dim: 16, Weight decay: 1e-05, Drop out: 0.4, Train loss: 0.0882, Val loss: 0.0858\n",
            "\n",
            "Trial#  39\n",
            "Training complete in: 0:02:04. Lowest validation loss occurred at epoch 50: 0.0537\n",
            "Learning rate: 1e-06, Hidden dim: 4, Weight decay: 0.01, Drop out: 0.2, Train loss: 0.0556, Val loss: 0.0537\n",
            "\n",
            "Trial#  40\n",
            "Training complete in: 0:02:02. Lowest validation loss occurred at epoch 50: 0.009959\n",
            "Learning rate: 1e-05, Hidden dim: 4, Weight decay: 0.01, Drop out: 0.0, Train loss: 0.0102, Val loss: 0.0100\n",
            "\n",
            "Trial#  41\n",
            "Training complete in: 0:02:07. Lowest validation loss occurred at epoch 50: 0.05256\n",
            "Learning rate: 1e-06, Hidden dim: 4, Weight decay: 1e-05, Drop out: 0.4, Train loss: 0.0534, Val loss: 0.0526\n",
            "\n",
            "Trial#  42\n",
            "Training complete in: 0:02:05. Lowest validation loss occurred at epoch 50: 0.001722\n",
            "Learning rate: 1e-05, Hidden dim: 32, Weight decay: 0.001, Drop out: 0.1, Train loss: 0.0021, Val loss: 0.0017\n",
            "\n",
            "Trial#  43\n",
            "Training complete in: 0:02:05. Lowest validation loss occurred at epoch 42: 0.0002206\n",
            "Learning rate: 0.01, Hidden dim: 16, Weight decay: 1e-05, Drop out: 0.3, Train loss: 0.0012, Val loss: 0.0002\n",
            "\n",
            "Trial#  44\n",
            "Training complete in: 0:02:05. Lowest validation loss occurred at epoch 33: 0.009129\n",
            "Learning rate: 0.01, Hidden dim: 16, Weight decay: 0.01, Drop out: 0.3, Train loss: 0.0110, Val loss: 0.0091\n",
            "\n",
            "Trial#  45\n",
            "Training complete in: 0:02:05. Lowest validation loss occurred at epoch 48: 0.002324\n",
            "Learning rate: 0.0001, Hidden dim: 8, Weight decay: 1e-06, Drop out: 0.4, Train loss: 0.0053, Val loss: 0.0023\n",
            "\n",
            "Trial#  46\n",
            "Training complete in: 0:02:05. Lowest validation loss occurred at epoch 50: 0.1818\n",
            "Learning rate: 1e-06, Hidden dim: 8, Weight decay: 0.001, Drop out: 0.4, Train loss: 0.1832, Val loss: 0.1818\n",
            "\n",
            "Trial#  47\n",
            "Training complete in: 0:02:05. Lowest validation loss occurred at epoch 33: 0.004281\n",
            "Learning rate: 0.1, Hidden dim: 4, Weight decay: 0.001, Drop out: 0.5, Train loss: 0.0118, Val loss: 0.0043\n",
            "\n",
            "Trial#  48\n",
            "Training complete in: 0:02:05. Lowest validation loss occurred at epoch 23: 0.03485\n",
            "Learning rate: 0.001, Hidden dim: 8, Weight decay: 0.1, Drop out: 0.5, Train loss: 0.0368, Val loss: 0.0349\n",
            "\n",
            "Trial#  49\n",
            "Training complete in: 0:02:05. Lowest validation loss occurred at epoch 50: 0.03436\n",
            "Learning rate: 1e-05, Hidden dim: 4, Weight decay: 0.1, Drop out: 0.1, Train loss: 0.0355, Val loss: 0.0344\n",
            "\n",
            "Trial#  50\n",
            "Training complete in: 0:02:07. Lowest validation loss occurred at epoch 47: 0.002229\n",
            "Learning rate: 0.1, Hidden dim: 32, Weight decay: 0.001, Drop out: 0.3, Train loss: 0.0060, Val loss: 0.0022\n",
            "\n"
          ],
          "name": "stdout"
        },
        {
          "output_type": "execute_result",
          "data": {
            "text/plain": [
              "['/content/drive/My Drive/Colab Notebooks/DATA5703/section_7_1_para_result.m']"
            ]
          },
          "metadata": {
            "tags": []
          },
          "execution_count": 71
        }
      ]
    },
    {
      "cell_type": "markdown",
      "metadata": {
        "id": "tCWZNbdC3DgY"
      },
      "source": [
        "### 7.1.3 Load Random Search Result\n",
        "\n",
        "We can extract the combination of hyperparameters with the lowest validation loss."
      ]
    },
    {
      "cell_type": "code",
      "metadata": {
        "id": "Z8vNSvI5lYw7"
      },
      "source": [
        "file_path = '/content/drive/My Drive/Colab Notebooks/DATA5703/section_7_1_2_para_result.m'\n",
        "\n",
        "para_result = joblib.load(file_path)"
      ],
      "execution_count": null,
      "outputs": []
    },
    {
      "cell_type": "code",
      "metadata": {
        "id": "xI4FhQ8BlYz3",
        "outputId": "3c27eadb-50d3-4399-a672-992f31954b15",
        "colab": {
          "base_uri": "https://localhost:8080/",
          "height": 80
        }
      },
      "source": [
        "display(para_result[para_result.Val_loss == para_result.Val_loss.min()])"
      ],
      "execution_count": null,
      "outputs": [
        {
          "output_type": "display_data",
          "data": {
            "text/html": [
              "<div>\n",
              "<style scoped>\n",
              "    .dataframe tbody tr th:only-of-type {\n",
              "        vertical-align: middle;\n",
              "    }\n",
              "\n",
              "    .dataframe tbody tr th {\n",
              "        vertical-align: top;\n",
              "    }\n",
              "\n",
              "    .dataframe thead th {\n",
              "        text-align: right;\n",
              "    }\n",
              "</style>\n",
              "<table border=\"1\" class=\"dataframe\">\n",
              "  <thead>\n",
              "    <tr style=\"text-align: right;\">\n",
              "      <th></th>\n",
              "      <th>Learning_rate</th>\n",
              "      <th>Hidden_dim</th>\n",
              "      <th>Weight_decay</th>\n",
              "      <th>Drop_out</th>\n",
              "      <th>Best_epoch</th>\n",
              "      <th>Train_loss</th>\n",
              "      <th>Val_loss</th>\n",
              "    </tr>\n",
              "  </thead>\n",
              "  <tbody>\n",
              "    <tr>\n",
              "      <th>8</th>\n",
              "      <td>0.001</td>\n",
              "      <td>64</td>\n",
              "      <td>0.000001</td>\n",
              "      <td>0.2</td>\n",
              "      <td>26</td>\n",
              "      <td>0.0003</td>\n",
              "      <td>0.00016</td>\n",
              "    </tr>\n",
              "  </tbody>\n",
              "</table>\n",
              "</div>"
            ],
            "text/plain": [
              "   Learning_rate  Hidden_dim  Weight_decay  ...  Best_epoch  Train_loss  Val_loss\n",
              "8          0.001          64      0.000001  ...          26      0.0003   0.00016\n",
              "\n",
              "[1 rows x 7 columns]"
            ]
          },
          "metadata": {
            "tags": []
          }
        }
      ]
    },
    {
      "cell_type": "markdown",
      "metadata": {
        "id": "X-T12zN43UZt"
      },
      "source": [
        "### 7.1.4 Plot Random Search Result\n",
        "\n",
        "**Learning Rate**:\n",
        "\n",
        "From the best parameters above, we can see the best learning rate is 0.001 which resulted in lowest validation loss at epoch 26. The speed of model convergence is acceptable. \n",
        "\n",
        "From the figure below, we can see that low validation loss can be achieved regardless of the magnitude of the learning rate. Although learning rate of 0.1 resulted in a 'Best_epoch' of 8 with relatively low validation loss, it is not much different from epoch 26.\n",
        "\n",
        "Therefore, we will keep learning rate of 0.001 as our best learning rate.\n",
        "\n",
        "**Hidden Dimension**:\n",
        "\n",
        "From the best parameters above, we can see the best hidden dimension is 64.\n",
        "\n",
        "From the figure below, it looks like the size of hidden dimension does not have much impact on the model convergence speed or validation loss.\n",
        "\n",
        "Therefore, we will keep hidden dimension of 64 as our best hidden dimension.\n",
        "\n",
        "**Weight Decay**:\n",
        "\n",
        "From both the best parameters above and the figure below, we can see that the best weight decay is 0.000001, which is the lowest value in our search range. We can perform further grid search around this value to fine tune the weight decay.\n",
        "\n",
        "**Drop Out**:\n",
        "\n",
        "From the best parameters above, we can see the best drop out rate is 0.2.\n",
        "\n",
        "From the figure below, we can see that low validation loss can be achieved regardless of the magnitude of the drop out rate.\n",
        "\n",
        "Therefore, we will keep drop out rate of 0.2 as our best drop out rate."
      ]
    },
    {
      "cell_type": "code",
      "metadata": {
        "id": "eShw_zct0k9H",
        "outputId": "7673fe3b-bc34-48d3-eff7-7b31401645f3",
        "colab": {
          "base_uri": "https://localhost:8080/",
          "height": 1000
        }
      },
      "source": [
        "fig, axes = plt.subplots(4, 1, figsize=(10, 30), dpi=90)\n",
        "\n",
        "for idx, feat in enumerate(['Learning_rate', 'Hidden_dim', 'Weight_decay', 'Drop_out']):\n",
        "    sns.scatterplot(x=feat,\n",
        "                    y='Val_loss',\n",
        "                    data=para_result,\n",
        "                    palette=sns.color_palette('rocket_r', as_cmap=True),\n",
        "                    hue='Best_epoch',\n",
        "                    ax=axes[idx])"
      ],
      "execution_count": null,
      "outputs": [
        {
          "output_type": "display_data",
          "data": {
            "image/png": "[encoded data removed]",
            "text/plain": [
              "<Figure size 900x2700 with 4 Axes>"
            ]
          },
          "metadata": {
            "tags": []
          }
        }
      ]
    },
    {
      "cell_type": "markdown",
      "metadata": {
        "id": "zxobKrmf6Jgg"
      },
      "source": [
        "### 7.1.5 Further Grid Search on Selected Parameter"
      ]
    },
    {
      "cell_type": "code",
      "metadata": {
        "id": "ZnOysAjL0k_1"
      },
      "source": [
        "# Fixed parameters\n",
        "\n",
        "INPUT_DIM = 12 # when entity embedding size = 2\n",
        "SAVE_MODEL_NAME = 'DisReg_MLP_tmp'\n",
        "SAVE_MODEL_EPOCH = 1\n",
        "N_EPOCHS = 50\n",
        "SHOW_PROGRESS_EPOCH = N_EPOCHS+1\n",
        "LEARNING_RATE = 1e-3\n",
        "HIDDEN_DIM = 64\n",
        "DROP_OUT = 0.2"
      ],
      "execution_count": null,
      "outputs": []
    },
    {
      "cell_type": "code",
      "metadata": {
        "id": "iQkPKbEr0lCv",
        "outputId": "c38a3613-56ed-4389-861b-08ab133da426",
        "colab": {
          "base_uri": "https://localhost:8080/"
        }
      },
      "source": [
        "WEIGHT_DECAY = np.array([1e-5, 1e-6, 1e-7, 1e-8])\n",
        "\n",
        "para_result = []\n",
        "\n",
        "for wd in WEIGHT_DECAY:\n",
        "\n",
        "    DisReg_MLP_tmp = DisReg_MLP_2Layer(\n",
        "        INPUT_DIM, HIDDEN_DIM, DROP_OUT).to(device)\n",
        "\n",
        "    optimiser = optim.Adam(\n",
        "        DisReg_MLP_tmp.parameters(),\n",
        "        lr=LEARNING_RATE, weight_decay=wd)\n",
        "    \n",
        "    criterion = torch.nn.MSELoss()\n",
        "\n",
        "    train_model(DisReg_MLP_tmp,\n",
        "            optimiser,\n",
        "            criterion,\n",
        "            N_EPOCHS,\n",
        "            dl_train,\n",
        "            dl_val, \n",
        "            SHOW_PROGRESS_EPOCH,\n",
        "            SAVE_MODEL_EPOCH,\n",
        "            SAVE_MODEL_NAME,\n",
        "            continue_train = False, \n",
        "            previous_best_train_loss = 0,\n",
        "            previous_lowest_val_loss = 0,\n",
        "            best_model_state_dict = 0,\n",
        "            previous_best_epoch = 0,\n",
        "            previous_epochs = 0,\n",
        "            previous_train_loss = 0,\n",
        "            previous_val_loss = 0)\n",
        "\n",
        "\n",
        "    _, best_epoch, best_loss_train, lowest_loss_val, _, _, \\\n",
        "    _, _, _ = load_model(\n",
        "        SAVE_MODEL_NAME, \n",
        "        DisReg_MLP_tmp, \n",
        "        DisReg_MLP_tmp)\n",
        "\n",
        "    print(\n",
        "        'Weight decay: {}, Train loss: {:.7f}, Val loss: {:.7f}'.format(\n",
        "            wd, best_loss_train, lowest_loss_val)\n",
        "        )\n",
        "    print('')\n",
        "\n",
        "    para_result.append([wd, best_epoch, best_loss_train, lowest_loss_val])\n",
        "\n",
        "\n",
        "para_result = pd.DataFrame(\n",
        "    para_result, \n",
        "    columns=[\n",
        "             'Weight_decay',\n",
        "             'Best_epoch',\n",
        "             'Train_loss',\n",
        "             'Val_loss'\n",
        "    ])\n",
        "\n",
        "file_path = '/content/drive/My Drive/Colab Notebooks/DATA5703/section_7_1_5_para_result.m'\n",
        "joblib.dump(para_result, file_path)"
      ],
      "execution_count": null,
      "outputs": [
        {
          "output_type": "stream",
          "text": [
            "Training complete in: 0:02:17. Lowest validation loss occurred at epoch 10: 0.0001848\n",
            "Weight decay: 1e-05, Train loss: 0.0003335, Val loss: 0.0001848\n",
            "\n",
            "Training complete in: 0:02:19. Lowest validation loss occurred at epoch 43: 0.0001601\n",
            "Weight decay: 1e-06, Train loss: 0.0003151, Val loss: 0.0001601\n",
            "\n",
            "Training complete in: 0:02:16. Lowest validation loss occurred at epoch 39: 0.0001558\n",
            "Weight decay: 1e-07, Train loss: 0.0003161, Val loss: 0.0001558\n",
            "\n",
            "Training complete in: 0:02:19. Lowest validation loss occurred at epoch 50: 0.0001582\n",
            "Weight decay: 1e-08, Train loss: 0.0002929, Val loss: 0.0001582\n",
            "\n"
          ],
          "name": "stdout"
        },
        {
          "output_type": "execute_result",
          "data": {
            "text/plain": [
              "['/content/drive/My Drive/Colab Notebooks/DATA5703/section_7_1_5_para_result.m']"
            ]
          },
          "metadata": {
            "tags": []
          },
          "execution_count": 51
        }
      ]
    },
    {
      "cell_type": "markdown",
      "metadata": {
        "id": "1_hLn-nJ_w05"
      },
      "source": [
        "### 7.1.6 Load Grid Search Result\n",
        "\n",
        "We can see that weight decay of 1e-7 resulted in lowest validation loss of 0.000156.\n",
        "\n",
        "Best parameters are:\n",
        "\n",
        "* Learning Rate = 1e-3\n",
        "* Hidden Dimension = 64\n",
        "* Drop Out = 0.2\n",
        "* Weight Decay = 1e-7"
      ]
    },
    {
      "cell_type": "code",
      "metadata": {
        "id": "rFN45tPL0lFc",
        "outputId": "3598167f-156d-419a-caf3-e5cf94e06e89",
        "colab": {
          "base_uri": "https://localhost:8080/",
          "height": 80
        }
      },
      "source": [
        "file_path = '/content/drive/My Drive/Colab Notebooks/DATA5703/section_7_1_5_para_result.m'\n",
        "\n",
        "para_result = joblib.load(file_path)\n",
        "\n",
        "display(para_result[para_result.Val_loss == para_result.Val_loss.min()])"
      ],
      "execution_count": null,
      "outputs": [
        {
          "output_type": "display_data",
          "data": {
            "text/html": [
              "<div>\n",
              "<style scoped>\n",
              "    .dataframe tbody tr th:only-of-type {\n",
              "        vertical-align: middle;\n",
              "    }\n",
              "\n",
              "    .dataframe tbody tr th {\n",
              "        vertical-align: top;\n",
              "    }\n",
              "\n",
              "    .dataframe thead th {\n",
              "        text-align: right;\n",
              "    }\n",
              "</style>\n",
              "<table border=\"1\" class=\"dataframe\">\n",
              "  <thead>\n",
              "    <tr style=\"text-align: right;\">\n",
              "      <th></th>\n",
              "      <th>Weight_decay</th>\n",
              "      <th>Best_epoch</th>\n",
              "      <th>Train_loss</th>\n",
              "      <th>Val_loss</th>\n",
              "    </tr>\n",
              "  </thead>\n",
              "  <tbody>\n",
              "    <tr>\n",
              "      <th>2</th>\n",
              "      <td>1.000000e-07</td>\n",
              "      <td>39</td>\n",
              "      <td>0.000316</td>\n",
              "      <td>0.000156</td>\n",
              "    </tr>\n",
              "  </tbody>\n",
              "</table>\n",
              "</div>"
            ],
            "text/plain": [
              "   Weight_decay  Best_epoch  Train_loss  Val_loss\n",
              "2  1.000000e-07          39    0.000316  0.000156"
            ]
          },
          "metadata": {
            "tags": []
          }
        }
      ]
    },
    {
      "cell_type": "markdown",
      "metadata": {
        "id": "au4NVxiGAABt"
      },
      "source": [
        "## 7.2 Hyperparameter exploration with basic 3-layer MLP model with entity embedding size of 2\n",
        "\n",
        "**Ensure entity embeddings with size 2 were loaded in Data Processing**"
      ]
    },
    {
      "cell_type": "markdown",
      "metadata": {
        "id": "BI5ZdiVQAH48"
      },
      "source": [
        "### 7.2.1 Define Model"
      ]
    },
    {
      "cell_type": "code",
      "metadata": {
        "id": "SnqWRHE7_-1g"
      },
      "source": [
        "class DisReg_MLP_3Layer(nn.Module):\n",
        "    def __init__(self, input_dim, hidden_dim_1, hidden_dim_2, p):\n",
        "        super(DisReg_MLP_3Layer, self).__init__()\n",
        "\n",
        "        self.fc1 = nn.Linear(input_dim, hidden_dim_1)\n",
        "        self.fc2 = nn.Linear(hidden_dim_1, hidden_dim_2)\n",
        "        self.fc3 = nn.Linear(hidden_dim_2, 1)\n",
        "\n",
        "        self.act_1 = nn.ReLU()\n",
        "        self.act_2 = nn.ReLU()\n",
        "        self.act_3 = nn.Sigmoid()\n",
        "\n",
        "        self.drop_1 = nn.Dropout(p)\n",
        "        self.drop_2 = nn.Dropout(p)\n",
        "\n",
        "    def forward(self, data):\n",
        "        output = self.fc1(data)\n",
        "        output = self.act_1(output)\n",
        "        output = self.drop_1(output)\n",
        "\n",
        "        output = self.fc2(output)\n",
        "        output = self.act_2(output)\n",
        "        output = self.drop_2(output)\n",
        "\n",
        "        output = self.fc3(output)\n",
        "        output = self.act_3(output)\n",
        "\n",
        "        return output"
      ],
      "execution_count": null,
      "outputs": []
    },
    {
      "cell_type": "markdown",
      "metadata": {
        "id": "O8bI4gAVAU4b"
      },
      "source": [
        "### 7.2.2 Random Search"
      ]
    },
    {
      "cell_type": "code",
      "metadata": {
        "id": "gjuhuyPx_-4L"
      },
      "source": [
        "# Fixed parameters\n",
        "\n",
        "INPUT_DIM = 12 # when entity embedding size = 2\n",
        "SAVE_MODEL_NAME = 'DisReg_MLP_tmp'\n",
        "SAVE_MODEL_EPOCH = 1\n",
        "N_EPOCHS = 50\n",
        "SHOW_PROGRESS_EPOCH = N_EPOCHS+1"
      ],
      "execution_count": null,
      "outputs": []
    },
    {
      "cell_type": "code",
      "metadata": {
        "id": "58mwGQUS_-6s",
        "outputId": "e546e46b-213a-4f69-e061-760c8c31a98e",
        "colab": {
          "base_uri": "https://localhost:8080/"
        }
      },
      "source": [
        "# Random Search\n",
        "\n",
        "np.random.seed(32)\n",
        "\n",
        "LEARNING_RATE = np.array([1e-1, 1e-2, 1e-3, 1e-4, 1e-5, 1e-6])\n",
        "HIDDEN_DIM_1 = np.array([8, 16, 32, 64])\n",
        "WEIGHT_DECAY = np.array([1e-3, 1e-4, 1e-5, 1e-6, 1e-7, 1e-8])\n",
        "DROP_OUT = np.array([0., 0.1, 0.2, 0.3, 0.4, 0.5])\n",
        "\n",
        "para_result = []\n",
        "\n",
        "N_TRIAL = 50\n",
        "\n",
        "for trial in range(1, N_TRIAL+1):\n",
        "    lr = np.random.choice(LEARNING_RATE)\n",
        "    hd_1 = np.random.choice(HIDDEN_DIM_1)\n",
        "    hd_2 = int(0.5*hd_1)\n",
        "    wd = np.random.choice(WEIGHT_DECAY)\n",
        "    dp = np.random.choice(DROP_OUT)\n",
        "\n",
        "    DisReg_MLP_tmp = DisReg_MLP_3Layer(\n",
        "        INPUT_DIM, hd_1, hd_2, dp).to(device)\n",
        "\n",
        "    optimiser = optim.Adam(\n",
        "        DisReg_MLP_tmp.parameters(),\n",
        "        lr=lr, weight_decay=wd)\n",
        "    \n",
        "    criterion = torch.nn.MSELoss()\n",
        "\n",
        "    print('Trial# ', trial)\n",
        "\n",
        "    train_model(DisReg_MLP_tmp,\n",
        "            optimiser,\n",
        "            criterion,\n",
        "            N_EPOCHS,\n",
        "            dl_train,\n",
        "            dl_val, \n",
        "            SHOW_PROGRESS_EPOCH,\n",
        "            SAVE_MODEL_EPOCH,\n",
        "            SAVE_MODEL_NAME,\n",
        "            continue_train = False, \n",
        "            previous_best_train_loss = 0,\n",
        "            previous_lowest_val_loss = 0,\n",
        "            best_model_state_dict = 0,\n",
        "            previous_best_epoch = 0,\n",
        "            previous_epochs = 0,\n",
        "            previous_train_loss = 0,\n",
        "            previous_val_loss = 0)\n",
        "\n",
        "\n",
        "    _, best_epoch, best_loss_train, lowest_loss_val, _, _, \\\n",
        "    _, _, _ = load_model(\n",
        "        SAVE_MODEL_NAME, \n",
        "        DisReg_MLP_tmp, \n",
        "        DisReg_MLP_tmp)\n",
        "\n",
        "    print(\n",
        "        'Learning rate: {}, Hidden dim 1: {}, Hidden dim 2: {}, Weight decay: {},'\\\n",
        "        'Drop out: {}, Train loss: {:.7f}, Val loss: {:.7f}'.format(\n",
        "            lr, hd_1, hd_2, wd, dp, best_loss_train, lowest_loss_val)\n",
        "        )\n",
        "    print('')\n",
        "\n",
        "    para_result.append([lr, hd_1, hd_2, wd, dp, best_epoch, best_loss_train, lowest_loss_val])\n",
        "\n",
        "\n",
        "para_result = pd.DataFrame(\n",
        "    para_result, \n",
        "    columns=[\n",
        "             'Learning_rate',\n",
        "             'Hidden_dim_1',\n",
        "             'Hidden_dim_2',\n",
        "             'Weight_decay',\n",
        "             'Drop_out',\n",
        "             'Best_epoch',\n",
        "             'Train_loss',\n",
        "             'Val_loss'\n",
        "    ])\n",
        "\n",
        "file_path = '/content/drive/My Drive/Colab Notebooks/DATA5703/section_7_2_2_para_result.m'\n",
        "joblib.dump(para_result, file_path)"
      ],
      "execution_count": null,
      "outputs": [
        {
          "output_type": "stream",
          "text": [
            "Trial#  1\n",
            "Training complete in: 0:02:51. Lowest validation loss occurred at epoch 50: 0.0001795\n",
            "Learning rate: 0.0001, Hidden dim 1: 16, Hidden dim 2: 8, Weight decay: 1e-07,Drop out: 0.0, Train loss: 0.0001839, Val loss: 0.0001795\n",
            "\n",
            "Trial#  2\n",
            "Training complete in: 0:02:55. Lowest validation loss occurred at epoch 49: 0.001267\n",
            "Learning rate: 0.0001, Hidden dim 1: 8, Hidden dim 2: 4, Weight decay: 0.0001,Drop out: 0.3, Train loss: 0.0045466, Val loss: 0.0012667\n",
            "\n",
            "Trial#  3\n",
            "Training complete in: 0:02:57. Lowest validation loss occurred at epoch 50: 0.02544\n",
            "Learning rate: 1e-06, Hidden dim 1: 32, Hidden dim 2: 16, Weight decay: 0.0001,Drop out: 0.4, Train loss: 0.0332018, Val loss: 0.0254442\n",
            "\n",
            "Trial#  4\n",
            "Training complete in: 0:02:57. Lowest validation loss occurred at epoch 50: 0.00055\n",
            "Learning rate: 0.0001, Hidden dim 1: 16, Hidden dim 2: 8, Weight decay: 1e-06,Drop out: 0.1, Train loss: 0.0017264, Val loss: 0.0005500\n",
            "\n",
            "Trial#  5\n",
            "Training complete in: 0:02:56. Lowest validation loss occurred at epoch 37: 0.000947\n",
            "Learning rate: 0.001, Hidden dim 1: 64, Hidden dim 2: 32, Weight decay: 0.001,Drop out: 0.2, Train loss: 0.0017679, Val loss: 0.0009470\n",
            "\n",
            "Trial#  6\n",
            "Training complete in: 0:02:53. Lowest validation loss occurred at epoch 22: 0.0001746\n",
            "Learning rate: 0.001, Hidden dim 1: 32, Hidden dim 2: 16, Weight decay: 1e-07,Drop out: 0.2, Train loss: 0.0008165, Val loss: 0.0001746\n",
            "\n",
            "Trial#  7\n",
            "Training complete in: 0:02:53. Lowest validation loss occurred at epoch 50: 0.01189\n",
            "Learning rate: 1e-05, Hidden dim 1: 8, Hidden dim 2: 4, Weight decay: 0.0001,Drop out: 0.5, Train loss: 0.0216355, Val loss: 0.0118879\n",
            "\n",
            "Trial#  8\n",
            "Training complete in: 0:02:57. Lowest validation loss occurred at epoch 30: 0.000259\n",
            "Learning rate: 0.01, Hidden dim 1: 32, Hidden dim 2: 16, Weight decay: 1e-08,Drop out: 0.3, Train loss: 0.0017621, Val loss: 0.0002590\n",
            "\n",
            "Trial#  9\n",
            "Training complete in: 0:02:54. Lowest validation loss occurred at epoch 44: 0.002809\n",
            "Learning rate: 0.0001, Hidden dim 1: 8, Hidden dim 2: 4, Weight decay: 1e-05,Drop out: 0.5, Train loss: 0.0075578, Val loss: 0.0028090\n",
            "\n",
            "Trial#  10\n",
            "Training complete in: 0:02:35. Lowest validation loss occurred at epoch 50: 0.001408\n",
            "Learning rate: 1e-05, Hidden dim 1: 16, Hidden dim 2: 8, Weight decay: 1e-05,Drop out: 0.0, Train loss: 0.0015740, Val loss: 0.0014082\n",
            "\n",
            "Trial#  11\n",
            "Training complete in: 0:02:40. Lowest validation loss occurred at epoch 49: 0.0001627\n",
            "Learning rate: 0.0001, Hidden dim 1: 32, Hidden dim 2: 16, Weight decay: 1e-07,Drop out: 0.1, Train loss: 0.0004664, Val loss: 0.0001627\n",
            "\n",
            "Trial#  12\n",
            "Training complete in: 0:02:38. Lowest validation loss occurred at epoch 1: 0.005678\n",
            "Learning rate: 0.1, Hidden dim 1: 64, Hidden dim 2: 32, Weight decay: 1e-05,Drop out: 0.5, Train loss: 0.0136184, Val loss: 0.0056779\n",
            "\n",
            "Trial#  13\n",
            "Training complete in: 0:02:38. Lowest validation loss occurred at epoch 31: 0.0001607\n",
            "Learning rate: 0.001, Hidden dim 1: 64, Hidden dim 2: 32, Weight decay: 1e-08,Drop out: 0.2, Train loss: 0.0004971, Val loss: 0.0001607\n",
            "\n",
            "Trial#  14\n",
            "Training complete in: 0:02:38. Lowest validation loss occurred at epoch 50: 0.1243\n",
            "Learning rate: 1e-06, Hidden dim 1: 8, Hidden dim 2: 4, Weight decay: 1e-06,Drop out: 0.3, Train loss: 0.1249495, Val loss: 0.1243307\n",
            "\n",
            "Trial#  15\n",
            "Training complete in: 0:02:37. Lowest validation loss occurred at epoch 50: 0.02081\n",
            "Learning rate: 1e-06, Hidden dim 1: 64, Hidden dim 2: 32, Weight decay: 1e-06,Drop out: 0.3, Train loss: 0.0253319, Val loss: 0.0208100\n",
            "\n",
            "Trial#  16\n",
            "Training complete in: 0:02:38. Lowest validation loss occurred at epoch 30: 0.0003241\n",
            "Learning rate: 0.001, Hidden dim 1: 32, Hidden dim 2: 16, Weight decay: 0.0001,Drop out: 0.3, Train loss: 0.0014992, Val loss: 0.0003241\n",
            "\n",
            "Trial#  17\n",
            "Training complete in: 0:02:32. Lowest validation loss occurred at epoch 46: 0.0001656\n",
            "Learning rate: 0.01, Hidden dim 1: 8, Hidden dim 2: 4, Weight decay: 1e-07,Drop out: 0.0, Train loss: 0.0001945, Val loss: 0.0001656\n",
            "\n",
            "Trial#  18\n",
            "Training complete in: 0:02:38. Lowest validation loss occurred at epoch 50: 0.001182\n",
            "Learning rate: 1e-05, Hidden dim 1: 32, Hidden dim 2: 16, Weight decay: 0.0001,Drop out: 0.3, Train loss: 0.0032988, Val loss: 0.0011822\n",
            "\n",
            "Trial#  19\n",
            "Training complete in: 0:02:38. Lowest validation loss occurred at epoch 40: 0.001031\n",
            "Learning rate: 0.001, Hidden dim 1: 32, Hidden dim 2: 16, Weight decay: 0.001,Drop out: 0.2, Train loss: 0.0022274, Val loss: 0.0010311\n",
            "\n",
            "Trial#  20\n",
            "Training complete in: 0:02:38. Lowest validation loss occurred at epoch 11: 0.0007364\n",
            "Learning rate: 0.01, Hidden dim 1: 32, Hidden dim 2: 16, Weight decay: 1e-08,Drop out: 0.5, Train loss: 0.0035412, Val loss: 0.0007364\n",
            "\n",
            "Trial#  21\n",
            "Training complete in: 0:02:37. Lowest validation loss occurred at epoch 26: 0.001169\n",
            "Learning rate: 0.001, Hidden dim 1: 64, Hidden dim 2: 32, Weight decay: 0.001,Drop out: 0.4, Train loss: 0.0025816, Val loss: 0.0011692\n",
            "\n",
            "Trial#  22\n",
            "Training complete in: 0:02:32. Lowest validation loss occurred at epoch 50: 0.1539\n",
            "Learning rate: 1e-06, Hidden dim 1: 16, Hidden dim 2: 8, Weight decay: 0.0001,Drop out: 0.0, Train loss: 0.1551049, Val loss: 0.1539340\n",
            "\n",
            "Trial#  23\n",
            "Training complete in: 0:02:37. Lowest validation loss occurred at epoch 48: 0.0003433\n",
            "Learning rate: 0.0001, Hidden dim 1: 16, Hidden dim 2: 8, Weight decay: 1e-07,Drop out: 0.3, Train loss: 0.0023835, Val loss: 0.0003433\n",
            "\n",
            "Trial#  24\n",
            "Training complete in: 0:02:38. Lowest validation loss occurred at epoch 1: 0.001846\n",
            "Learning rate: 0.1, Hidden dim 1: 32, Hidden dim 2: 16, Weight decay: 1e-05,Drop out: 0.2, Train loss: 0.0059333, Val loss: 0.0018465\n",
            "\n",
            "Trial#  25\n",
            "Training complete in: 0:02:38. Lowest validation loss occurred at epoch 25: 0.0007949\n",
            "Learning rate: 0.01, Hidden dim 1: 8, Hidden dim 2: 4, Weight decay: 1e-07,Drop out: 0.1, Train loss: 0.0026349, Val loss: 0.0007949\n",
            "\n",
            "Trial#  26\n",
            "Training complete in: 0:02:39. Lowest validation loss occurred at epoch 50: 0.007789\n",
            "Learning rate: 1e-05, Hidden dim 1: 8, Hidden dim 2: 4, Weight decay: 0.0001,Drop out: 0.1, Train loss: 0.0110120, Val loss: 0.0077885\n",
            "\n",
            "Trial#  27\n",
            "Training complete in: 0:02:33. Lowest validation loss occurred at epoch 26: 0.000172\n",
            "Learning rate: 0.001, Hidden dim 1: 16, Hidden dim 2: 8, Weight decay: 1e-05,Drop out: 0.0, Train loss: 0.0001856, Val loss: 0.0001720\n",
            "\n",
            "Trial#  28\n",
            "Training complete in: 0:02:32. Lowest validation loss occurred at epoch 50: 0.07549\n",
            "Learning rate: 1e-06, Hidden dim 1: 8, Hidden dim 2: 4, Weight decay: 0.001,Drop out: 0.0, Train loss: 0.0763407, Val loss: 0.0754916\n",
            "\n",
            "Trial#  29\n",
            "Training complete in: 0:02:39. Lowest validation loss occurred at epoch 17: 0.001537\n",
            "Learning rate: 0.1, Hidden dim 1: 32, Hidden dim 2: 16, Weight decay: 1e-06,Drop out: 0.2, Train loss: 0.0063892, Val loss: 0.0015372\n",
            "\n",
            "Trial#  30\n",
            "Training complete in: 0:02:38. Lowest validation loss occurred at epoch 50: 0.008813\n",
            "Learning rate: 1e-05, Hidden dim 1: 8, Hidden dim 2: 4, Weight decay: 1e-05,Drop out: 0.5, Train loss: 0.0158687, Val loss: 0.0088125\n",
            "\n",
            "Trial#  31\n",
            "Training complete in: 0:02:39. Lowest validation loss occurred at epoch 3: 0.003614\n",
            "Learning rate: 0.1, Hidden dim 1: 64, Hidden dim 2: 32, Weight decay: 1e-07,Drop out: 0.4, Train loss: 0.0089175, Val loss: 0.0036140\n",
            "\n",
            "Trial#  32\n",
            "Training complete in: 0:02:39. Lowest validation loss occurred at epoch 48: 0.0002119\n",
            "Learning rate: 0.01, Hidden dim 1: 32, Hidden dim 2: 16, Weight decay: 1e-05,Drop out: 0.1, Train loss: 0.0007054, Val loss: 0.0002119\n",
            "\n",
            "Trial#  33\n",
            "Training complete in: 0:02:38. Lowest validation loss occurred at epoch 5: 0.005716\n",
            "Learning rate: 0.1, Hidden dim 1: 64, Hidden dim 2: 32, Weight decay: 1e-06,Drop out: 0.5, Train loss: 0.0116096, Val loss: 0.0057164\n",
            "\n",
            "Trial#  34\n",
            "Training complete in: 0:02:38. Lowest validation loss occurred at epoch 30: 0.0013\n",
            "Learning rate: 0.01, Hidden dim 1: 32, Hidden dim 2: 16, Weight decay: 0.001,Drop out: 0.3, Train loss: 0.0035398, Val loss: 0.0013005\n",
            "\n",
            "Trial#  35\n",
            "Training complete in: 0:02:38. Lowest validation loss occurred at epoch 13: 0.001433\n",
            "Learning rate: 0.01, Hidden dim 1: 64, Hidden dim 2: 32, Weight decay: 0.001,Drop out: 0.5, Train loss: 0.0043535, Val loss: 0.0014332\n",
            "\n",
            "Trial#  36\n",
            "Training complete in: 0:02:32. Lowest validation loss occurred at epoch 50: 0.0003191\n",
            "Learning rate: 1e-05, Hidden dim 1: 64, Hidden dim 2: 32, Weight decay: 0.0001,Drop out: 0.0, Train loss: 0.0003225, Val loss: 0.0003191\n",
            "\n",
            "Trial#  37\n",
            "Training complete in: 0:02:37. Lowest validation loss occurred at epoch 50: 0.08203\n",
            "Learning rate: 1e-06, Hidden dim 1: 8, Hidden dim 2: 4, Weight decay: 1e-06,Drop out: 0.5, Train loss: 0.0866440, Val loss: 0.0820343\n",
            "\n",
            "Trial#  38\n",
            "Training complete in: 0:02:32. Lowest validation loss occurred at epoch 21: 0.0001777\n",
            "Learning rate: 0.01, Hidden dim 1: 32, Hidden dim 2: 16, Weight decay: 1e-05,Drop out: 0.0, Train loss: 0.0002116, Val loss: 0.0001777\n",
            "\n",
            "Trial#  39\n",
            "Training complete in: 0:02:37. Lowest validation loss occurred at epoch 31: 0.001562\n",
            "Learning rate: 0.01, Hidden dim 1: 16, Hidden dim 2: 8, Weight decay: 1e-06,Drop out: 0.4, Train loss: 0.0048196, Val loss: 0.0015621\n",
            "\n",
            "Trial#  40\n",
            "Training complete in: 0:02:39. Lowest validation loss occurred at epoch 8: 0.0164\n",
            "Learning rate: 0.1, Hidden dim 1: 32, Hidden dim 2: 16, Weight decay: 1e-08,Drop out: 0.4, Train loss: 0.0169160, Val loss: 0.0164005\n",
            "\n",
            "Trial#  41\n",
            "Training complete in: 0:02:40. Lowest validation loss occurred at epoch 46: 0.0003733\n",
            "Learning rate: 0.0001, Hidden dim 1: 16, Hidden dim 2: 8, Weight decay: 1e-08,Drop out: 0.2, Train loss: 0.0017472, Val loss: 0.0003733\n",
            "\n",
            "Trial#  42\n",
            "Training complete in: 0:02:36. Lowest validation loss occurred at epoch 50: 0.007752\n",
            "Learning rate: 1e-05, Hidden dim 1: 8, Hidden dim 2: 4, Weight decay: 1e-08,Drop out: 0.0, Train loss: 0.0079491, Val loss: 0.0077518\n",
            "\n",
            "Trial#  43\n",
            "Training complete in: 0:02:32. Lowest validation loss occurred at epoch 43: 0.0001628\n",
            "Learning rate: 0.01, Hidden dim 1: 32, Hidden dim 2: 16, Weight decay: 1e-07,Drop out: 0.0, Train loss: 0.0001850, Val loss: 0.0001628\n",
            "\n",
            "Trial#  44\n",
            "Training complete in: 0:02:35. Lowest validation loss occurred at epoch 21: 0.0001688\n",
            "Learning rate: 0.01, Hidden dim 1: 8, Hidden dim 2: 4, Weight decay: 1e-08,Drop out: 0.0, Train loss: 0.0001987, Val loss: 0.0001688\n",
            "\n",
            "Trial#  45\n",
            "Training complete in: 0:02:39. Lowest validation loss occurred at epoch 50: 0.008791\n",
            "Learning rate: 1e-05, Hidden dim 1: 8, Hidden dim 2: 4, Weight decay: 1e-07,Drop out: 0.3, Train loss: 0.0140142, Val loss: 0.0087907\n",
            "\n",
            "Trial#  46\n",
            "Training complete in: 0:02:39. Lowest validation loss occurred at epoch 23: 0.0003782\n",
            "Learning rate: 0.001, Hidden dim 1: 16, Hidden dim 2: 8, Weight decay: 0.0001,Drop out: 0.2, Train loss: 0.0018430, Val loss: 0.0003782\n",
            "\n",
            "Trial#  47\n",
            "Training complete in: 0:02:41. Lowest validation loss occurred at epoch 50: 0.001212\n",
            "Learning rate: 1e-05, Hidden dim 1: 64, Hidden dim 2: 32, Weight decay: 0.0001,Drop out: 0.5, Train loss: 0.0037581, Val loss: 0.0012120\n",
            "\n",
            "Trial#  48\n",
            "Training complete in: 0:02:39. Lowest validation loss occurred at epoch 10: 0.0002294\n",
            "Learning rate: 0.001, Hidden dim 1: 16, Hidden dim 2: 8, Weight decay: 1e-06,Drop out: 0.3, Train loss: 0.0021377, Val loss: 0.0002294\n",
            "\n",
            "Trial#  49\n",
            "Training complete in: 0:02:38. Lowest validation loss occurred at epoch 39: 0.001315\n",
            "Learning rate: 0.01, Hidden dim 1: 16, Hidden dim 2: 8, Weight decay: 1e-07,Drop out: 0.5, Train loss: 0.0051237, Val loss: 0.0013146\n",
            "\n",
            "Trial#  50\n",
            "Training complete in: 0:02:41. Lowest validation loss occurred at epoch 50: 0.1725\n",
            "Learning rate: 1e-06, Hidden dim 1: 16, Hidden dim 2: 8, Weight decay: 0.0001,Drop out: 0.2, Train loss: 0.1730146, Val loss: 0.1725322\n",
            "\n"
          ],
          "name": "stdout"
        },
        {
          "output_type": "execute_result",
          "data": {
            "text/plain": [
              "['/content/drive/My Drive/Colab Notebooks/DATA5703/section_7_2_2_para_result.m']"
            ]
          },
          "metadata": {
            "tags": []
          },
          "execution_count": 61
        }
      ]
    },
    {
      "cell_type": "markdown",
      "metadata": {
        "id": "kDN-w0I8vkHP"
      },
      "source": [
        "### 7.2.3 Load Random Search Result\n",
        "\n",
        "We can extract the combination of hyperparameters with the lowest validation loss."
      ]
    },
    {
      "cell_type": "code",
      "metadata": {
        "id": "2573D7i2_-9d"
      },
      "source": [
        "file_path = '/content/drive/My Drive/Colab Notebooks/DATA5703/section_7_2_2_para_result.m'\n",
        "\n",
        "para_result = joblib.load(file_path)"
      ],
      "execution_count": null,
      "outputs": []
    },
    {
      "cell_type": "code",
      "metadata": {
        "id": "-fjqiA8GwWQy",
        "outputId": "c069bdaf-3314-40b6-8e23-fd4f4a33f252",
        "colab": {
          "base_uri": "https://localhost:8080/",
          "height": 80
        }
      },
      "source": [
        "display(para_result[para_result.Val_loss == para_result.Val_loss.min()])"
      ],
      "execution_count": null,
      "outputs": [
        {
          "output_type": "display_data",
          "data": {
            "text/html": [
              "<div>\n",
              "<style scoped>\n",
              "    .dataframe tbody tr th:only-of-type {\n",
              "        vertical-align: middle;\n",
              "    }\n",
              "\n",
              "    .dataframe tbody tr th {\n",
              "        vertical-align: top;\n",
              "    }\n",
              "\n",
              "    .dataframe thead th {\n",
              "        text-align: right;\n",
              "    }\n",
              "</style>\n",
              "<table border=\"1\" class=\"dataframe\">\n",
              "  <thead>\n",
              "    <tr style=\"text-align: right;\">\n",
              "      <th></th>\n",
              "      <th>Learning_rate</th>\n",
              "      <th>Hidden_dim_1</th>\n",
              "      <th>Hidden_dim_2</th>\n",
              "      <th>Weight_decay</th>\n",
              "      <th>Drop_out</th>\n",
              "      <th>Best_epoch</th>\n",
              "      <th>Train_loss</th>\n",
              "      <th>Val_loss</th>\n",
              "    </tr>\n",
              "  </thead>\n",
              "  <tbody>\n",
              "    <tr>\n",
              "      <th>12</th>\n",
              "      <td>0.001</td>\n",
              "      <td>64</td>\n",
              "      <td>32</td>\n",
              "      <td>1.000000e-08</td>\n",
              "      <td>0.2</td>\n",
              "      <td>31</td>\n",
              "      <td>0.000497</td>\n",
              "      <td>0.000161</td>\n",
              "    </tr>\n",
              "  </tbody>\n",
              "</table>\n",
              "</div>"
            ],
            "text/plain": [
              "    Learning_rate  Hidden_dim_1  Hidden_dim_2  ...  Best_epoch  Train_loss  Val_loss\n",
              "12          0.001            64            32  ...          31    0.000497  0.000161\n",
              "\n",
              "[1 rows x 8 columns]"
            ]
          },
          "metadata": {
            "tags": []
          }
        }
      ]
    },
    {
      "cell_type": "markdown",
      "metadata": {
        "id": "noeKO9Riv5-8"
      },
      "source": [
        "### 7.2.4 Plot Random Search Result\n",
        "\n",
        "**Learning Rate**:\n",
        "\n",
        "From the best parameters above, we can see the best learning rate is 0.001 which resulted in lowest validation loss at epoch 31. The speed of model convergence is acceptable. \n",
        "\n",
        "Therefore, we will keep learning rate of 0.001 as our best learning rate.\n",
        "\n",
        "**Hidden Dimension 1**:\n",
        "\n",
        "From the best parameters above, we can see the best hidden dimension is 64.\n",
        "\n",
        "From the figure below, it looks like the size of hidden dimension does not have much impact on the model convergence speed or validation loss.\n",
        "\n",
        "Therefore, we will keep hidden dimension of 64 as our best hidden dimension.\n",
        "\n",
        "**Hidden Dimension 2**:\n",
        "\n",
        "From the best parameters above, we can see the best hidden dimension is 32. We have also set hidden himension 2 as half of hidden dimension 1 for simplicity during random search.\n",
        "\n",
        "We may further explore the size of hidden dimension 2 with grid search.\n",
        "\n",
        "**Weight Decay**:\n",
        "\n",
        "From both the best parameters above and the figure below, we can see that the best weight decay is 1e-8, which is the lowest value in our search range. We can perform further grid search around this value to fine tune the weight decay.\n",
        "\n",
        "**Drop Out**:\n",
        "\n",
        "From the best parameters above, we can see the best drop out rate is 0.2.\n",
        "\n",
        "From the figure below, we can see that low validation loss can be achieved regardless of the magnitude of the drop out rate.\n",
        "\n",
        "Therefore, we will keep drop out rate of 0.2 as our best drop out rate."
      ]
    },
    {
      "cell_type": "code",
      "metadata": {
        "id": "meBXd-Mf__AB",
        "outputId": "f21151f1-ce6b-44e9-a5bf-faaab88281f6",
        "colab": {
          "base_uri": "https://localhost:8080/",
          "height": 1000
        }
      },
      "source": [
        "fig, axes = plt.subplots(5, 1, figsize=(10, 30), dpi=90)\n",
        "\n",
        "for idx, feat in enumerate(['Learning_rate', 'Hidden_dim_1', 'Hidden_dim_2', 'Weight_decay', 'Drop_out']):\n",
        "    sns.scatterplot(x=feat,\n",
        "                    y='Val_loss',\n",
        "                    data=para_result,\n",
        "                    palette=sns.color_palette('rocket_r', as_cmap=True),\n",
        "                    hue='Best_epoch',\n",
        "                    ax=axes[idx])"
      ],
      "execution_count": null,
      "outputs": [
        {
          "output_type": "display_data",
          "data": {
            "image/png": "[encoded data removed]",
            "text/plain": [
              "<Figure size 900x2700 with 5 Axes>"
            ]
          },
          "metadata": {
            "tags": []
          }
        }
      ]
    },
    {
      "cell_type": "markdown",
      "metadata": {
        "id": "mhk4PY98yArM"
      },
      "source": [
        "### 7.2.5 Further Grid Search on Selected Parameters"
      ]
    },
    {
      "cell_type": "code",
      "metadata": {
        "id": "lza9L7N1__Cu"
      },
      "source": [
        "# Fixed parameters\n",
        "\n",
        "INPUT_DIM = 12 # when entity embedding size = 2\n",
        "SAVE_MODEL_NAME = 'DisReg_MLP_tmp'\n",
        "SAVE_MODEL_EPOCH = 1\n",
        "N_EPOCHS = 50\n",
        "SHOW_PROGRESS_EPOCH = N_EPOCHS+1\n",
        "LEARNING_RATE = 1e-3\n",
        "HIDDEN_DIM_1 = 64\n",
        "DROP_OUT = 0.2"
      ],
      "execution_count": null,
      "outputs": []
    },
    {
      "cell_type": "code",
      "metadata": {
        "id": "AVSRW7Wg__FU",
        "outputId": "99e3bf00-a384-47b0-d37a-8026c85a258c",
        "colab": {
          "base_uri": "https://localhost:8080/"
        }
      },
      "source": [
        "WEIGHT_DECAY = np.array([1e-7, 1e-8, 1e-9, 1e-10])\n",
        "HIDDEN_DIM_2 = np.array([8, 16, 32, 64])\n",
        "\n",
        "para_result = []\n",
        "\n",
        "for wd in WEIGHT_DECAY:\n",
        "    for hd_2 in HIDDEN_DIM_2:\n",
        "\n",
        "        DisReg_MLP_tmp = DisReg_MLP_3Layer(\n",
        "            INPUT_DIM, HIDDEN_DIM_1, hd_2, DROP_OUT).to(device)\n",
        "\n",
        "        optimiser = optim.Adam(\n",
        "            DisReg_MLP_tmp.parameters(),\n",
        "            lr=LEARNING_RATE, weight_decay=wd)\n",
        "        \n",
        "        criterion = torch.nn.MSELoss()\n",
        "\n",
        "        train_model(DisReg_MLP_tmp,\n",
        "                optimiser,\n",
        "                criterion,\n",
        "                N_EPOCHS,\n",
        "                dl_train,\n",
        "                dl_val, \n",
        "                SHOW_PROGRESS_EPOCH,\n",
        "                SAVE_MODEL_EPOCH,\n",
        "                SAVE_MODEL_NAME,\n",
        "                continue_train = False, \n",
        "                previous_best_train_loss = 0,\n",
        "                previous_lowest_val_loss = 0,\n",
        "                best_model_state_dict = 0,\n",
        "                previous_best_epoch = 0,\n",
        "                previous_epochs = 0,\n",
        "                previous_train_loss = 0,\n",
        "                previous_val_loss = 0)\n",
        "\n",
        "\n",
        "        _, best_epoch, best_loss_train, lowest_loss_val, _, _, \\\n",
        "        _, _, _ = load_model(\n",
        "            SAVE_MODEL_NAME, \n",
        "            DisReg_MLP_tmp, \n",
        "            DisReg_MLP_tmp)\n",
        "\n",
        "        print(\n",
        "            'Weight decay: {}, Hidden dim 2: {}, Train loss: {:.7f}, Val loss: {:.7f}'.format(\n",
        "                wd, hd_2, best_loss_train, lowest_loss_val)\n",
        "            )\n",
        "        print('')\n",
        "\n",
        "        para_result.append([wd, hd_2, best_epoch, best_loss_train, lowest_loss_val])\n",
        "\n",
        "\n",
        "para_result = pd.DataFrame(\n",
        "    para_result, \n",
        "    columns=[\n",
        "             'Weight_decay',\n",
        "             'hidden_dim_2',\n",
        "             'Best_epoch',\n",
        "             'Train_loss',\n",
        "             'Val_loss'\n",
        "    ])\n",
        "\n",
        "file_path = '/content/drive/My Drive/Colab Notebooks/DATA5703/section_7_2_5_para_result.m'\n",
        "joblib.dump(para_result, file_path)"
      ],
      "execution_count": null,
      "outputs": [
        {
          "output_type": "stream",
          "text": [
            "Training complete in: 0:03:48. Lowest validation loss occurred at epoch 50: 0.0001914\n",
            "Weight decay: 1e-07, Hidden dim 2: 8, Train loss: 0.0011468, Val loss: 0.0001914\n",
            "\n",
            "Training complete in: 0:03:48. Lowest validation loss occurred at epoch 26: 0.0001801\n",
            "Weight decay: 1e-07, Hidden dim 2: 16, Train loss: 0.0009553, Val loss: 0.0001801\n",
            "\n",
            "Training complete in: 0:03:47. Lowest validation loss occurred at epoch 44: 0.0001624\n",
            "Weight decay: 1e-07, Hidden dim 2: 32, Train loss: 0.0005323, Val loss: 0.0001624\n",
            "\n",
            "Training complete in: 0:03:46. Lowest validation loss occurred at epoch 40: 0.0001568\n",
            "Weight decay: 1e-07, Hidden dim 2: 64, Train loss: 0.0003503, Val loss: 0.0001568\n",
            "\n",
            "Training complete in: 0:03:46. Lowest validation loss occurred at epoch 34: 0.0001892\n",
            "Weight decay: 1e-08, Hidden dim 2: 8, Train loss: 0.0013183, Val loss: 0.0001892\n",
            "\n",
            "Training complete in: 0:03:46. Lowest validation loss occurred at epoch 41: 0.0001665\n",
            "Weight decay: 1e-08, Hidden dim 2: 16, Train loss: 0.0007345, Val loss: 0.0001665\n",
            "\n",
            "Training complete in: 0:03:46. Lowest validation loss occurred at epoch 44: 0.0001603\n",
            "Weight decay: 1e-08, Hidden dim 2: 32, Train loss: 0.0004684, Val loss: 0.0001603\n",
            "\n",
            "Training complete in: 0:03:46. Lowest validation loss occurred at epoch 50: 0.0001575\n",
            "Weight decay: 1e-08, Hidden dim 2: 64, Train loss: 0.0003611, Val loss: 0.0001575\n",
            "\n",
            "Training complete in: 0:03:47. Lowest validation loss occurred at epoch 9: 0.0001746\n",
            "Weight decay: 1e-09, Hidden dim 2: 8, Train loss: 0.0013129, Val loss: 0.0001746\n",
            "\n",
            "Training complete in: 0:03:46. Lowest validation loss occurred at epoch 27: 0.0001677\n",
            "Weight decay: 1e-09, Hidden dim 2: 16, Train loss: 0.0006952, Val loss: 0.0001677\n",
            "\n",
            "Training complete in: 0:03:46. Lowest validation loss occurred at epoch 41: 0.0001585\n",
            "Weight decay: 1e-09, Hidden dim 2: 32, Train loss: 0.0005289, Val loss: 0.0001585\n",
            "\n",
            "Training complete in: 0:03:46. Lowest validation loss occurred at epoch 50: 0.0001612\n",
            "Weight decay: 1e-09, Hidden dim 2: 64, Train loss: 0.0003968, Val loss: 0.0001612\n",
            "\n",
            "Training complete in: 0:03:47. Lowest validation loss occurred at epoch 27: 0.000234\n",
            "Weight decay: 1e-10, Hidden dim 2: 8, Train loss: 0.0013407, Val loss: 0.0002340\n",
            "\n",
            "Training complete in: 0:03:47. Lowest validation loss occurred at epoch 47: 0.0001706\n",
            "Weight decay: 1e-10, Hidden dim 2: 16, Train loss: 0.0007145, Val loss: 0.0001706\n",
            "\n",
            "Training complete in: 0:03:48. Lowest validation loss occurred at epoch 40: 0.0001594\n",
            "Weight decay: 1e-10, Hidden dim 2: 32, Train loss: 0.0005055, Val loss: 0.0001594\n",
            "\n",
            "Training complete in: 0:03:48. Lowest validation loss occurred at epoch 49: 0.000158\n",
            "Weight decay: 1e-10, Hidden dim 2: 64, Train loss: 0.0003816, Val loss: 0.0001580\n",
            "\n"
          ],
          "name": "stdout"
        },
        {
          "output_type": "execute_result",
          "data": {
            "text/plain": [
              "['/content/drive/My Drive/Colab Notebooks/DATA5703/section_7_2_5_para_result.m']"
            ]
          },
          "metadata": {
            "tags": []
          },
          "execution_count": 28
        }
      ]
    },
    {
      "cell_type": "markdown",
      "metadata": {
        "id": "X0q00xDECwqJ"
      },
      "source": [
        "### 7.2.6 Load Grid Search Result\n",
        "\n",
        "Best parameters are:\n",
        "\n",
        "* Learning Rate = 1e-3\n",
        "* Hidden Dimension 1 = 64\n",
        "* Hidden Dimension 2 = 64\n",
        "* Drop Out = 0.2\n",
        "* Weight Decay = 1e-7"
      ]
    },
    {
      "cell_type": "code",
      "metadata": {
        "id": "08VTJuyb__Kp",
        "outputId": "b855dd5c-6c4d-48cc-e5be-1ecaaba36c02",
        "colab": {
          "base_uri": "https://localhost:8080/",
          "height": 80
        }
      },
      "source": [
        "file_path = '/content/drive/My Drive/Colab Notebooks/DATA5703/section_7_2_5_para_result.m'\n",
        "\n",
        "para_result = joblib.load(file_path)\n",
        "\n",
        "# show result with lowest validation loss\n",
        "display(para_result[para_result.Val_loss == para_result.Val_loss.min()])"
      ],
      "execution_count": null,
      "outputs": [
        {
          "output_type": "display_data",
          "data": {
            "text/html": [
              "<div>\n",
              "<style scoped>\n",
              "    .dataframe tbody tr th:only-of-type {\n",
              "        vertical-align: middle;\n",
              "    }\n",
              "\n",
              "    .dataframe tbody tr th {\n",
              "        vertical-align: top;\n",
              "    }\n",
              "\n",
              "    .dataframe thead th {\n",
              "        text-align: right;\n",
              "    }\n",
              "</style>\n",
              "<table border=\"1\" class=\"dataframe\">\n",
              "  <thead>\n",
              "    <tr style=\"text-align: right;\">\n",
              "      <th></th>\n",
              "      <th>Weight_decay</th>\n",
              "      <th>hidden_dim_2</th>\n",
              "      <th>Best_epoch</th>\n",
              "      <th>Train_loss</th>\n",
              "      <th>Val_loss</th>\n",
              "    </tr>\n",
              "  </thead>\n",
              "  <tbody>\n",
              "    <tr>\n",
              "      <th>3</th>\n",
              "      <td>1.000000e-07</td>\n",
              "      <td>64</td>\n",
              "      <td>40</td>\n",
              "      <td>0.00035</td>\n",
              "      <td>0.000157</td>\n",
              "    </tr>\n",
              "  </tbody>\n",
              "</table>\n",
              "</div>"
            ],
            "text/plain": [
              "   Weight_decay  hidden_dim_2  Best_epoch  Train_loss  Val_loss\n",
              "3  1.000000e-07            64          40     0.00035  0.000157"
            ]
          },
          "metadata": {
            "tags": []
          }
        }
      ]
    },
    {
      "cell_type": "markdown",
      "metadata": {
        "id": "zYU-BsnQEGWv"
      },
      "source": [
        "## 7.3 2-layer MLP model Entity Embedding exploration"
      ]
    },
    {
      "cell_type": "markdown",
      "metadata": {
        "id": "NnfQxOtOEcqI"
      },
      "source": [
        "### 7.3.1 Define 2-layer MLP Model"
      ]
    },
    {
      "cell_type": "code",
      "metadata": {
        "id": "7ca_rO7N__QX"
      },
      "source": [
        "class DisReg_MLP_2Layer(nn.Module):\n",
        "    def __init__(self, input_dim, hidden_dim_1, p):\n",
        "        super(DisReg_MLP_2Layer, self).__init__()\n",
        "\n",
        "        self.fc1 = nn.Linear(input_dim, hidden_dim_1)\n",
        "        self.fc2 = nn.Linear(hidden_dim_1, 1)\n",
        "\n",
        "        self.act_1 = nn.ReLU()\n",
        "        self.act_2 = nn.Sigmoid()\n",
        "\n",
        "        self.drop_1 = nn.Dropout(p)\n",
        "\n",
        "    def forward(self, data):\n",
        "\n",
        "        output = self.fc1(data)\n",
        "        output = self.act_1(output)\n",
        "        output = self.drop_1(output)\n",
        "\n",
        "        output = self.fc2(output)\n",
        "        output = self.act_2(output)\n",
        "\n",
        "        return output"
      ],
      "execution_count": null,
      "outputs": []
    },
    {
      "cell_type": "markdown",
      "metadata": {
        "id": "ypkCe2l4EkkT"
      },
      "source": [
        "### 7.3.2 Entity Embedding of size 2\n",
        "\n",
        "* Ensure entity embedding of size 2 was loaded in Data Processing\n",
        "* Train model with best parameters from section 7.1"
      ]
    },
    {
      "cell_type": "code",
      "metadata": {
        "id": "gkSzQvky__Ta",
        "outputId": "9f09318a-0b63-4dc6-ee2f-bf061bddce2b",
        "colab": {
          "base_uri": "https://localhost:8080/"
        }
      },
      "source": [
        "## Train new model\n",
        "\n",
        "LEARNING_RATE = 1e-3\n",
        "WEIGHT_DECAY = 1e-7\n",
        "N_EPOCHS = 500\n",
        "SHOW_PROGRESS_EPOCH = 10\n",
        "SAVE_MODEL_EPOCH = 1\n",
        "SAVE_MODEL_NAME = 'DisReg_MLP_2L_2'\n",
        "\n",
        "INPUT_DIM = 12\n",
        "HIDDEN_DIM = 64\n",
        "DROP_OUT = 0.2\n",
        "\n",
        "DisReg_MLP_2 = DisReg_MLP_2Layer(\n",
        "    INPUT_DIM, HIDDEN_DIM, DROP_OUT).to(device)\n",
        "\n",
        "optimiser = optim.Adam(DisReg_MLP_2.parameters(),\n",
        "                       lr=LEARNING_RATE, weight_decay=WEIGHT_DECAY)\n",
        "\n",
        "criterion = torch.nn.MSELoss()\n",
        "\n",
        "train_model(DisReg_MLP_2,\n",
        "            optimiser,\n",
        "            criterion,\n",
        "            N_EPOCHS,\n",
        "            dl_train,\n",
        "            dl_val, \n",
        "            SHOW_PROGRESS_EPOCH,\n",
        "            SAVE_MODEL_EPOCH,\n",
        "            SAVE_MODEL_NAME,\n",
        "            continue_train = False, \n",
        "            previous_best_train_loss = 0,\n",
        "            previous_lowest_val_loss = 0,\n",
        "            best_model_state_dict = 0,\n",
        "            previous_best_epoch = 0,\n",
        "            previous_epochs = 0,\n",
        "            previous_train_loss = 0,\n",
        "            previous_val_loss = 0)"
      ],
      "execution_count": null,
      "outputs": [
        {
          "output_type": "stream",
          "text": [
            "Epoch: 10 Elapsed 0:00:03 | Train Loss: 0.0003287 | Val Loss: 0.0001759\n",
            "Epoch: 20 Elapsed 0:00:03 | Train Loss: 0.0003064 | Val Loss: 0.0001725\n",
            "Epoch: 30 Elapsed 0:00:03 | Train Loss: 0.0003045 | Val Loss: 0.0001648\n",
            "Epoch: 40 Elapsed 0:00:03 | Train Loss: 0.0002977 | Val Loss: 0.0001828\n",
            "Epoch: 50 Elapsed 0:00:03 | Train Loss: 0.0002935 | Val Loss: 0.0001661\n",
            "Epoch: 60 Elapsed 0:00:03 | Train Loss: 0.000297 | Val Loss: 0.0001673\n",
            "Epoch: 70 Elapsed 0:00:04 | Train Loss: 0.0002891 | Val Loss: 0.0001599\n",
            "Epoch: 80 Elapsed 0:00:03 | Train Loss: 0.000293 | Val Loss: 0.0001571\n",
            "Epoch: 90 Elapsed 0:00:03 | Train Loss: 0.0002997 | Val Loss: 0.000166\n",
            "Epoch: 100 Elapsed 0:00:03 | Train Loss: 0.0002965 | Val Loss: 0.0001898\n",
            "Epoch: 110 Elapsed 0:00:03 | Train Loss: 0.0003005 | Val Loss: 0.0001751\n",
            "Epoch: 120 Elapsed 0:00:04 | Train Loss: 0.0002989 | Val Loss: 0.0001581\n",
            "Epoch: 130 Elapsed 0:00:03 | Train Loss: 0.0002939 | Val Loss: 0.0001581\n",
            "Epoch: 140 Elapsed 0:00:04 | Train Loss: 0.0002973 | Val Loss: 0.0001677\n",
            "Epoch: 150 Elapsed 0:00:03 | Train Loss: 0.0002993 | Val Loss: 0.0001619\n",
            "Epoch: 160 Elapsed 0:00:03 | Train Loss: 0.0002968 | Val Loss: 0.000158\n",
            "Epoch: 170 Elapsed 0:00:03 | Train Loss: 0.0003018 | Val Loss: 0.0001609\n",
            "Epoch: 180 Elapsed 0:00:03 | Train Loss: 0.0002962 | Val Loss: 0.0001604\n",
            "Epoch: 190 Elapsed 0:00:03 | Train Loss: 0.0002961 | Val Loss: 0.0001656\n",
            "Epoch: 200 Elapsed 0:00:04 | Train Loss: 0.0002993 | Val Loss: 0.0001613\n",
            "Epoch: 210 Elapsed 0:00:04 | Train Loss: 0.0002942 | Val Loss: 0.0001588\n",
            "Epoch: 220 Elapsed 0:00:03 | Train Loss: 0.0002923 | Val Loss: 0.0001582\n",
            "Epoch: 230 Elapsed 0:00:03 | Train Loss: 0.0002941 | Val Loss: 0.0001598\n",
            "Epoch: 240 Elapsed 0:00:03 | Train Loss: 0.0002932 | Val Loss: 0.0001617\n",
            "Epoch: 250 Elapsed 0:00:03 | Train Loss: 0.000288 | Val Loss: 0.0001606\n",
            "Epoch: 260 Elapsed 0:00:03 | Train Loss: 0.0003047 | Val Loss: 0.0001652\n",
            "Epoch: 270 Elapsed 0:00:03 | Train Loss: 0.0002958 | Val Loss: 0.0001631\n",
            "Epoch: 280 Elapsed 0:00:03 | Train Loss: 0.0002898 | Val Loss: 0.0001602\n",
            "Epoch: 290 Elapsed 0:00:04 | Train Loss: 0.0003001 | Val Loss: 0.0001763\n",
            "Epoch: 300 Elapsed 0:00:04 | Train Loss: 0.0002961 | Val Loss: 0.0001696\n",
            "Epoch: 310 Elapsed 0:00:03 | Train Loss: 0.0002996 | Val Loss: 0.000168\n",
            "Epoch: 320 Elapsed 0:00:03 | Train Loss: 0.0002996 | Val Loss: 0.0001641\n",
            "Epoch: 330 Elapsed 0:00:03 | Train Loss: 0.0002996 | Val Loss: 0.0001804\n",
            "Epoch: 340 Elapsed 0:00:03 | Train Loss: 0.0002934 | Val Loss: 0.0001681\n",
            "Epoch: 350 Elapsed 0:00:03 | Train Loss: 0.0002963 | Val Loss: 0.0001683\n",
            "Epoch: 360 Elapsed 0:00:03 | Train Loss: 0.0002929 | Val Loss: 0.0001693\n",
            "Epoch: 370 Elapsed 0:00:03 | Train Loss: 0.0003016 | Val Loss: 0.0001759\n",
            "Epoch: 380 Elapsed 0:00:03 | Train Loss: 0.0002949 | Val Loss: 0.0001583\n",
            "Epoch: 390 Elapsed 0:00:04 | Train Loss: 0.0002901 | Val Loss: 0.0001685\n",
            "Epoch: 400 Elapsed 0:00:03 | Train Loss: 0.0002946 | Val Loss: 0.0001562\n",
            "Epoch: 410 Elapsed 0:00:03 | Train Loss: 0.0002944 | Val Loss: 0.000163\n",
            "Epoch: 420 Elapsed 0:00:03 | Train Loss: 0.0002921 | Val Loss: 0.0001702\n",
            "Epoch: 430 Elapsed 0:00:03 | Train Loss: 0.0002911 | Val Loss: 0.0001614\n",
            "Epoch: 440 Elapsed 0:00:03 | Train Loss: 0.0002963 | Val Loss: 0.0001631\n",
            "Epoch: 450 Elapsed 0:00:03 | Train Loss: 0.0003007 | Val Loss: 0.0001653\n",
            "Epoch: 460 Elapsed 0:00:03 | Train Loss: 0.0002953 | Val Loss: 0.0001562\n",
            "Epoch: 470 Elapsed 0:00:03 | Train Loss: 0.0002951 | Val Loss: 0.0001652\n",
            "Epoch: 480 Elapsed 0:00:03 | Train Loss: 0.0002938 | Val Loss: 0.0001724\n",
            "Epoch: 490 Elapsed 0:00:03 | Train Loss: 0.0002989 | Val Loss: 0.0001589\n",
            "Epoch: 500 Elapsed 0:00:03 | Train Loss: 0.0002925 | Val Loss: 0.0001618\n",
            "Training complete in: 0:29:04. Lowest validation loss occurred at epoch 463: 0.0001553\n"
          ],
          "name": "stdout"
        }
      ]
    },
    {
      "cell_type": "code",
      "metadata": {
        "id": "QaXV2VK_XOdW"
      },
      "source": [
        "# Load Model\n",
        "\n",
        "LOAD_MODEL_NAME = 'DisReg_MLP_2L_2'\n",
        "\n",
        "\n",
        "LEARNING_RATE = 1e-3\n",
        "WEIGHT_DECAY = 1e-7\n",
        "\n",
        "INPUT_DIM = 12\n",
        "HIDDEN_DIM = 64\n",
        "DROP_OUT = 0.2\n",
        "\n",
        "best_model = DisReg_MLP_2Layer(\n",
        "    INPUT_DIM, HIDDEN_DIM, DROP_OUT).to(device)\n",
        "\n",
        "latest_model = DisReg_MLP_2Layer(\n",
        "    INPUT_DIM, HIDDEN_DIM, DROP_OUT).to(device)\n",
        "\n",
        "optimiser = optim.Adam(best_model.parameters(),\n",
        "                       lr=LEARNING_RATE, weight_decay=WEIGHT_DECAY)\n",
        "\n",
        "criterion = torch.nn.MSELoss()\n",
        "\n",
        "best_model, best_epoch, best_loss_train, lowest_loss_val, epochs, latest_model, \\\n",
        "    optimiser, total_losses_train, total_losses_val = load_model(\n",
        "        LOAD_MODEL_NAME, best_model, latest_model)"
      ],
      "execution_count": null,
      "outputs": []
    },
    {
      "cell_type": "code",
      "metadata": {
        "id": "HByynjxMXnJs",
        "outputId": "128ec9a1-9544-4b02-8eef-d7779118c68d",
        "colab": {
          "base_uri": "https://localhost:8080/",
          "height": 523
        }
      },
      "source": [
        "# Save training log to dataframe format and plot log\n",
        "\n",
        "train_loss_df = pd.DataFrame(zip(epochs, total_losses_train), columns=[\n",
        "    'Epochs', 'Loss'])\n",
        "train_loss_df['Type'] = 'Training Set Loss'\n",
        "val_loss_df = pd.DataFrame(zip(epochs, total_losses_val), columns=[\n",
        "    'Epochs', 'Loss'])\n",
        "val_loss_df['Type'] = 'Validation Set Loss'\n",
        "loss_df = pd.concat([train_loss_df, val_loss_df], axis=0)\n",
        "\n",
        "\n",
        "plt.figure(figsize=(14, 8))\n",
        "g = sns.lineplot(x='Epochs',\n",
        "             y='Loss',\n",
        "             data=loss_df,\n",
        "             hue='Type')\n",
        "\n",
        "g.set_title('Epochs vs Loss', fontsize=20)\n",
        "g.set_xlabel('Epochs', fontsize=15)\n",
        "g.set_ylabel('Loss', fontsize=15)\n",
        "\n",
        "plt.show()"
      ],
      "execution_count": null,
      "outputs": [
        {
          "output_type": "display_data",
          "data": {
            "image/png": "[encoded data removed]",
            "text/plain": [
              "<Figure size 1008x576 with 1 Axes>"
            ]
          },
          "metadata": {
            "tags": []
          }
        }
      ]
    },
    {
      "cell_type": "code",
      "metadata": {
        "id": "pE2VvpyAXvYb",
        "outputId": "201ea3d8-aa9f-469a-e588-0c301e6835f2",
        "colab": {
          "base_uri": "https://localhost:8080/"
        }
      },
      "source": [
        "# evaluate test loss with best model\n",
        "\n",
        "test_losses = []\n",
        "\n",
        "for test_data, test_label in dl_test:\n",
        "\n",
        "    # convert to cuda if available\n",
        "    test_data = test_data.float().to(device)\n",
        "    test_label = test_label.float().to(device)\n",
        "\n",
        "    best_model.eval()\n",
        "\n",
        "    with torch.no_grad():\n",
        "        output = best_model(test_data)\n",
        "        loss = criterion(output.squeeze(), test_label)\n",
        "\n",
        "    test_losses.append(loss.item())\n",
        "\n",
        "# get average test loss\n",
        "test_losses = np.average(test_losses)\n",
        "print('Average Test Set MSE: {:.4}'.format(test_losses))\n",
        "\n",
        "# test loss at original scale (km)\n",
        "print('Average Test Set MSE at km: {:.4}'.format(\n",
        "    scaler_dic['workout_distance'].inverse_transform(test_losses.reshape(1, -1))[0][0]))"
      ],
      "execution_count": null,
      "outputs": [
        {
          "output_type": "stream",
          "text": [
            "Average Test Set MSE: 0.0001545\n",
            "Average Test Set MSE at km: 0.02025\n"
          ],
          "name": "stdout"
        }
      ]
    },
    {
      "cell_type": "markdown",
      "metadata": {
        "id": "ECNXP3ILPvR9"
      },
      "source": [
        "### 7.3.3 Entity Embedding of size 11\n",
        "\n",
        "* Ensure entity embedding of size 11 was loaded in Data Processing\n",
        "* Train model with best parameters from section 7.1"
      ]
    },
    {
      "cell_type": "code",
      "metadata": {
        "id": "pxmSnNlGPuo1",
        "outputId": "da15f77c-6ee8-464f-e567-58d56031d6a7",
        "colab": {
          "base_uri": "https://localhost:8080/"
        }
      },
      "source": [
        "## Train new model\n",
        "\n",
        "LEARNING_RATE = 1e-3\n",
        "WEIGHT_DECAY = 1e-7\n",
        "N_EPOCHS = 500\n",
        "SHOW_PROGRESS_EPOCH = 10\n",
        "SAVE_MODEL_EPOCH = 1\n",
        "SAVE_MODEL_NAME = 'DisReg_MLP_2L_11'\n",
        "\n",
        "INPUT_DIM = 30\n",
        "HIDDEN_DIM = 64\n",
        "DROP_OUT = 0.2\n",
        "\n",
        "DisReg_MLP_2 = DisReg_MLP_2Layer(\n",
        "    INPUT_DIM, HIDDEN_DIM, DROP_OUT).to(device)\n",
        "\n",
        "optimiser = optim.Adam(DisReg_MLP_2.parameters(),\n",
        "                       lr=LEARNING_RATE, weight_decay=WEIGHT_DECAY)\n",
        "\n",
        "criterion = torch.nn.MSELoss()\n",
        "\n",
        "train_model(DisReg_MLP_2,\n",
        "            optimiser,\n",
        "            criterion,\n",
        "            N_EPOCHS,\n",
        "            dl_train,\n",
        "            dl_val, \n",
        "            SHOW_PROGRESS_EPOCH,\n",
        "            SAVE_MODEL_EPOCH,\n",
        "            SAVE_MODEL_NAME,\n",
        "            continue_train = False, \n",
        "            previous_best_train_loss = 0,\n",
        "            previous_lowest_val_loss = 0,\n",
        "            best_model_state_dict = 0,\n",
        "            previous_best_epoch = 0,\n",
        "            previous_epochs = 0,\n",
        "            previous_train_loss = 0,\n",
        "            previous_val_loss = 0)"
      ],
      "execution_count": null,
      "outputs": [
        {
          "output_type": "stream",
          "text": [
            "Epoch: 10 Elapsed 0:00:03 | Train Loss: 0.0003547 | Val Loss: 0.0001795\n",
            "Epoch: 20 Elapsed 0:00:03 | Train Loss: 0.000324 | Val Loss: 0.0001854\n",
            "Epoch: 30 Elapsed 0:00:03 | Train Loss: 0.0003084 | Val Loss: 0.0001746\n",
            "Epoch: 40 Elapsed 0:00:03 | Train Loss: 0.000303 | Val Loss: 0.0001542\n",
            "Epoch: 50 Elapsed 0:00:03 | Train Loss: 0.000299 | Val Loss: 0.00016\n",
            "Epoch: 60 Elapsed 0:00:03 | Train Loss: 0.0002997 | Val Loss: 0.0001558\n",
            "Epoch: 70 Elapsed 0:00:03 | Train Loss: 0.0002981 | Val Loss: 0.0001649\n",
            "Epoch: 80 Elapsed 0:00:03 | Train Loss: 0.0003001 | Val Loss: 0.0001601\n",
            "Epoch: 90 Elapsed 0:00:03 | Train Loss: 0.0002936 | Val Loss: 0.0001537\n",
            "Epoch: 100 Elapsed 0:00:03 | Train Loss: 0.0002957 | Val Loss: 0.0001569\n",
            "Epoch: 110 Elapsed 0:00:03 | Train Loss: 0.0002875 | Val Loss: 0.0001681\n",
            "Epoch: 120 Elapsed 0:00:03 | Train Loss: 0.0002951 | Val Loss: 0.0001535\n",
            "Epoch: 130 Elapsed 0:00:03 | Train Loss: 0.0002937 | Val Loss: 0.0001543\n",
            "Epoch: 140 Elapsed 0:00:03 | Train Loss: 0.0002889 | Val Loss: 0.0001568\n",
            "Epoch: 150 Elapsed 0:00:03 | Train Loss: 0.0002952 | Val Loss: 0.0001543\n",
            "Epoch: 160 Elapsed 0:00:03 | Train Loss: 0.0002979 | Val Loss: 0.0001532\n",
            "Epoch: 170 Elapsed 0:00:03 | Train Loss: 0.0002905 | Val Loss: 0.0001487\n",
            "Epoch: 180 Elapsed 0:00:03 | Train Loss: 0.0002931 | Val Loss: 0.0001557\n",
            "Epoch: 190 Elapsed 0:00:03 | Train Loss: 0.0002918 | Val Loss: 0.0001861\n",
            "Epoch: 200 Elapsed 0:00:03 | Train Loss: 0.0002947 | Val Loss: 0.0001874\n",
            "Epoch: 210 Elapsed 0:00:03 | Train Loss: 0.0002852 | Val Loss: 0.0001662\n",
            "Epoch: 220 Elapsed 0:00:03 | Train Loss: 0.0002954 | Val Loss: 0.0001605\n",
            "Epoch: 230 Elapsed 0:00:03 | Train Loss: 0.0002945 | Val Loss: 0.0001456\n",
            "Epoch: 240 Elapsed 0:00:03 | Train Loss: 0.000296 | Val Loss: 0.0001546\n",
            "Epoch: 250 Elapsed 0:00:03 | Train Loss: 0.0002929 | Val Loss: 0.0001594\n",
            "Epoch: 260 Elapsed 0:00:03 | Train Loss: 0.0002894 | Val Loss: 0.0001614\n",
            "Epoch: 270 Elapsed 0:00:03 | Train Loss: 0.0002941 | Val Loss: 0.0001558\n",
            "Epoch: 280 Elapsed 0:00:03 | Train Loss: 0.0002928 | Val Loss: 0.0001519\n",
            "Epoch: 290 Elapsed 0:00:03 | Train Loss: 0.000289 | Val Loss: 0.0001732\n",
            "Epoch: 300 Elapsed 0:00:03 | Train Loss: 0.0002903 | Val Loss: 0.0001539\n",
            "Epoch: 310 Elapsed 0:00:03 | Train Loss: 0.0002892 | Val Loss: 0.0001624\n",
            "Epoch: 320 Elapsed 0:00:03 | Train Loss: 0.0002904 | Val Loss: 0.0001473\n",
            "Epoch: 330 Elapsed 0:00:03 | Train Loss: 0.0002863 | Val Loss: 0.0001551\n",
            "Epoch: 340 Elapsed 0:00:03 | Train Loss: 0.0002903 | Val Loss: 0.0001598\n",
            "Epoch: 350 Elapsed 0:00:03 | Train Loss: 0.0002885 | Val Loss: 0.0001692\n",
            "Epoch: 360 Elapsed 0:00:03 | Train Loss: 0.0002869 | Val Loss: 0.0001503\n",
            "Epoch: 370 Elapsed 0:00:03 | Train Loss: 0.0002891 | Val Loss: 0.0001495\n",
            "Epoch: 380 Elapsed 0:00:03 | Train Loss: 0.0002924 | Val Loss: 0.0001557\n",
            "Epoch: 390 Elapsed 0:00:03 | Train Loss: 0.0002861 | Val Loss: 0.0001623\n",
            "Epoch: 400 Elapsed 0:00:03 | Train Loss: 0.0002885 | Val Loss: 0.0001572\n",
            "Epoch: 410 Elapsed 0:00:03 | Train Loss: 0.0002909 | Val Loss: 0.0001479\n",
            "Epoch: 420 Elapsed 0:00:03 | Train Loss: 0.0002922 | Val Loss: 0.0001494\n",
            "Epoch: 430 Elapsed 0:00:03 | Train Loss: 0.0002947 | Val Loss: 0.0002121\n",
            "Epoch: 440 Elapsed 0:00:03 | Train Loss: 0.0002816 | Val Loss: 0.000197\n",
            "Epoch: 450 Elapsed 0:00:03 | Train Loss: 0.000291 | Val Loss: 0.0001686\n",
            "Epoch: 460 Elapsed 0:00:03 | Train Loss: 0.0002897 | Val Loss: 0.0001613\n",
            "Epoch: 470 Elapsed 0:00:03 | Train Loss: 0.0002885 | Val Loss: 0.000158\n",
            "Epoch: 480 Elapsed 0:00:03 | Train Loss: 0.0002834 | Val Loss: 0.0001588\n",
            "Epoch: 490 Elapsed 0:00:03 | Train Loss: 0.0002869 | Val Loss: 0.0001506\n",
            "Epoch: 500 Elapsed 0:00:03 | Train Loss: 0.0002855 | Val Loss: 0.0001508\n",
            "Training complete in: 0:21:57. Lowest validation loss occurred at epoch 265: 0.0001447\n"
          ],
          "name": "stdout"
        }
      ]
    },
    {
      "cell_type": "code",
      "metadata": {
        "id": "58--4HpEYqy6"
      },
      "source": [
        "# Load Model\n",
        "\n",
        "LOAD_MODEL_NAME = 'DisReg_MLP_2L_11'\n",
        "\n",
        "\n",
        "LEARNING_RATE = 1e-3\n",
        "WEIGHT_DECAY = 1e-7\n",
        "\n",
        "INPUT_DIM = 30\n",
        "HIDDEN_DIM = 64\n",
        "DROP_OUT = 0.2\n",
        "\n",
        "best_model = DisReg_MLP_2Layer(\n",
        "    INPUT_DIM, HIDDEN_DIM, DROP_OUT).to(device)\n",
        "\n",
        "latest_model = DisReg_MLP_2Layer(\n",
        "    INPUT_DIM, HIDDEN_DIM, DROP_OUT).to(device)\n",
        "\n",
        "optimiser = optim.Adam(best_model.parameters(),\n",
        "                       lr=LEARNING_RATE, weight_decay=WEIGHT_DECAY)\n",
        "\n",
        "criterion = torch.nn.MSELoss()\n",
        "\n",
        "best_model, best_epoch, best_loss_train, lowest_loss_val, epochs, latest_model, \\\n",
        "    optimiser, total_losses_train, total_losses_val = load_model(\n",
        "        LOAD_MODEL_NAME, best_model, latest_model)"
      ],
      "execution_count": null,
      "outputs": []
    },
    {
      "cell_type": "code",
      "metadata": {
        "id": "uQitMRNWZVlx",
        "outputId": "15a54507-8358-427b-cede-014413aa701d",
        "colab": {
          "base_uri": "https://localhost:8080/",
          "height": 523
        }
      },
      "source": [
        "# Save training log to dataframe format and plot log\n",
        "\n",
        "train_loss_df = pd.DataFrame(zip(epochs, total_losses_train), columns=[\n",
        "    'Epochs', 'Loss'])\n",
        "train_loss_df['Type'] = 'Training Set Loss'\n",
        "val_loss_df = pd.DataFrame(zip(epochs, total_losses_val), columns=[\n",
        "    'Epochs', 'Loss'])\n",
        "val_loss_df['Type'] = 'Validation Set Loss'\n",
        "loss_df = pd.concat([train_loss_df, val_loss_df], axis=0)\n",
        "\n",
        "\n",
        "plt.figure(figsize=(14, 8))\n",
        "g = sns.lineplot(x='Epochs',\n",
        "             y='Loss',\n",
        "             data=loss_df,\n",
        "             hue='Type')\n",
        "\n",
        "g.set_title('Epochs vs Loss', fontsize=20)\n",
        "g.set_xlabel('Epochs', fontsize=15)\n",
        "g.set_ylabel('Loss', fontsize=15)\n",
        "\n",
        "plt.show()"
      ],
      "execution_count": null,
      "outputs": [
        {
          "output_type": "display_data",
          "data": {
            "image/png": "[encoded data removed]",
            "text/plain": [
              "<Figure size 1008x576 with 1 Axes>"
            ]
          },
          "metadata": {
            "tags": []
          }
        }
      ]
    },
    {
      "cell_type": "code",
      "metadata": {
        "id": "9DnRK_s1Yxis",
        "outputId": "4bfff148-78b8-4e43-c9af-f5698731c6e8",
        "colab": {
          "base_uri": "https://localhost:8080/"
        }
      },
      "source": [
        "# evaluate test loss with best model\n",
        "\n",
        "test_losses = []\n",
        "\n",
        "for test_data, test_label in dl_test:\n",
        "\n",
        "    # convert to cuda if available\n",
        "    test_data = test_data.float().to(device)\n",
        "    test_label = test_label.float().to(device)\n",
        "\n",
        "    best_model.eval()\n",
        "\n",
        "    with torch.no_grad():\n",
        "        output = best_model(test_data)\n",
        "        loss = criterion(output.squeeze(), test_label)\n",
        "\n",
        "    test_losses.append(loss.item())\n",
        "\n",
        "# get average test loss\n",
        "test_losses = np.average(test_losses)\n",
        "print('Average Test Set MSE: {:.4}'.format(test_losses))\n",
        "\n",
        "# test loss at original scale (km)\n",
        "print('Average Test Set MSE at km: {:.4}'.format(\n",
        "    scaler_dic['workout_distance'].inverse_transform(test_losses.reshape(1, -1))[0][0]))"
      ],
      "execution_count": null,
      "outputs": [
        {
          "output_type": "stream",
          "text": [
            "Average Test Set MSE: 0.0001483\n",
            "Average Test Set MSE at km: 0.01944\n"
          ],
          "name": "stdout"
        }
      ]
    },
    {
      "cell_type": "markdown",
      "metadata": {
        "id": "7bScMRYVQbQo"
      },
      "source": [
        "### 7.3.4 Entity Embedding of size 13\n",
        "\n",
        "* Ensure entity embedding of size 13 was loaded in Data Processing\n",
        "* Train model with best parameters from section 7.1"
      ]
    },
    {
      "cell_type": "code",
      "metadata": {
        "id": "EunGfrSaQg9t",
        "outputId": "f922c2b8-ed4d-4986-b88b-aaa442ca708b",
        "colab": {
          "base_uri": "https://localhost:8080/"
        }
      },
      "source": [
        "## Train new model\n",
        "\n",
        "LEARNING_RATE = 1e-3\n",
        "WEIGHT_DECAY = 1e-7\n",
        "N_EPOCHS = 500\n",
        "SHOW_PROGRESS_EPOCH = 10\n",
        "SAVE_MODEL_EPOCH = 1\n",
        "SAVE_MODEL_NAME = 'DisReg_MLP_2L_13'\n",
        "\n",
        "INPUT_DIM = 34\n",
        "HIDDEN_DIM = 64\n",
        "DROP_OUT = 0.2\n",
        "\n",
        "DisReg_MLP_2 = DisReg_MLP_2Layer(\n",
        "    INPUT_DIM, HIDDEN_DIM, DROP_OUT).to(device)\n",
        "\n",
        "optimiser = optim.Adam(DisReg_MLP_2.parameters(),\n",
        "                       lr=LEARNING_RATE, weight_decay=WEIGHT_DECAY)\n",
        "\n",
        "criterion = torch.nn.MSELoss()\n",
        "\n",
        "train_model(DisReg_MLP_2,\n",
        "            optimiser,\n",
        "            criterion,\n",
        "            N_EPOCHS,\n",
        "            dl_train,\n",
        "            dl_val, \n",
        "            SHOW_PROGRESS_EPOCH,\n",
        "            SAVE_MODEL_EPOCH,\n",
        "            SAVE_MODEL_NAME,\n",
        "            continue_train = False, \n",
        "            previous_best_train_loss = 0,\n",
        "            previous_lowest_val_loss = 0,\n",
        "            best_model_state_dict = 0,\n",
        "            previous_best_epoch = 0,\n",
        "            previous_epochs = 0,\n",
        "            previous_train_loss = 0,\n",
        "            previous_val_loss = 0)"
      ],
      "execution_count": null,
      "outputs": [
        {
          "output_type": "stream",
          "text": [
            "Epoch: 10 Elapsed 0:00:03 | Train Loss: 0.0003307 | Val Loss: 0.0001667\n",
            "Epoch: 20 Elapsed 0:00:03 | Train Loss: 0.0003067 | Val Loss: 0.0001601\n",
            "Epoch: 30 Elapsed 0:00:03 | Train Loss: 0.000313 | Val Loss: 0.0001659\n",
            "Epoch: 40 Elapsed 0:00:03 | Train Loss: 0.0003073 | Val Loss: 0.0001594\n",
            "Epoch: 50 Elapsed 0:00:03 | Train Loss: 0.000293 | Val Loss: 0.0001989\n",
            "Epoch: 60 Elapsed 0:00:03 | Train Loss: 0.0002913 | Val Loss: 0.0001548\n",
            "Epoch: 70 Elapsed 0:00:03 | Train Loss: 0.0002864 | Val Loss: 0.0001585\n",
            "Epoch: 80 Elapsed 0:00:03 | Train Loss: 0.0002912 | Val Loss: 0.00016\n",
            "Epoch: 90 Elapsed 0:00:03 | Train Loss: 0.0002925 | Val Loss: 0.0001506\n",
            "Epoch: 100 Elapsed 0:00:03 | Train Loss: 0.0002846 | Val Loss: 0.0001741\n",
            "Epoch: 110 Elapsed 0:00:03 | Train Loss: 0.0002952 | Val Loss: 0.0001768\n",
            "Epoch: 120 Elapsed 0:00:03 | Train Loss: 0.000292 | Val Loss: 0.0001546\n",
            "Epoch: 130 Elapsed 0:00:03 | Train Loss: 0.0002919 | Val Loss: 0.0001617\n",
            "Epoch: 140 Elapsed 0:00:03 | Train Loss: 0.0002941 | Val Loss: 0.0001508\n",
            "Epoch: 150 Elapsed 0:00:03 | Train Loss: 0.0002899 | Val Loss: 0.0001541\n",
            "Epoch: 160 Elapsed 0:00:03 | Train Loss: 0.0002862 | Val Loss: 0.0001516\n",
            "Epoch: 170 Elapsed 0:00:03 | Train Loss: 0.0002884 | Val Loss: 0.0001577\n",
            "Epoch: 180 Elapsed 0:00:03 | Train Loss: 0.0002899 | Val Loss: 0.0001498\n",
            "Epoch: 190 Elapsed 0:00:03 | Train Loss: 0.0002892 | Val Loss: 0.000151\n",
            "Epoch: 200 Elapsed 0:00:03 | Train Loss: 0.0002885 | Val Loss: 0.0001611\n",
            "Epoch: 210 Elapsed 0:00:03 | Train Loss: 0.0002924 | Val Loss: 0.0001526\n",
            "Epoch: 220 Elapsed 0:00:03 | Train Loss: 0.0002871 | Val Loss: 0.0001511\n",
            "Epoch: 230 Elapsed 0:00:03 | Train Loss: 0.0002839 | Val Loss: 0.0001583\n",
            "Epoch: 240 Elapsed 0:00:03 | Train Loss: 0.0002849 | Val Loss: 0.0001547\n",
            "Epoch: 250 Elapsed 0:00:03 | Train Loss: 0.0002854 | Val Loss: 0.0001619\n",
            "Epoch: 260 Elapsed 0:00:03 | Train Loss: 0.0002948 | Val Loss: 0.0001636\n",
            "Epoch: 270 Elapsed 0:00:03 | Train Loss: 0.0002892 | Val Loss: 0.0001577\n",
            "Epoch: 280 Elapsed 0:00:03 | Train Loss: 0.0002907 | Val Loss: 0.0001707\n",
            "Epoch: 290 Elapsed 0:00:03 | Train Loss: 0.0002897 | Val Loss: 0.0001705\n",
            "Epoch: 300 Elapsed 0:00:03 | Train Loss: 0.000281 | Val Loss: 0.0001527\n",
            "Epoch: 310 Elapsed 0:00:03 | Train Loss: 0.0002873 | Val Loss: 0.0001583\n",
            "Epoch: 320 Elapsed 0:00:03 | Train Loss: 0.0002867 | Val Loss: 0.0001537\n",
            "Epoch: 330 Elapsed 0:00:03 | Train Loss: 0.0002908 | Val Loss: 0.000165\n",
            "Epoch: 340 Elapsed 0:00:03 | Train Loss: 0.0002839 | Val Loss: 0.00015\n",
            "Epoch: 350 Elapsed 0:00:03 | Train Loss: 0.0002865 | Val Loss: 0.0001622\n",
            "Epoch: 360 Elapsed 0:00:03 | Train Loss: 0.000289 | Val Loss: 0.0001593\n",
            "Epoch: 370 Elapsed 0:00:03 | Train Loss: 0.0002878 | Val Loss: 0.0001577\n",
            "Epoch: 380 Elapsed 0:00:03 | Train Loss: 0.0002883 | Val Loss: 0.0001991\n",
            "Epoch: 390 Elapsed 0:00:03 | Train Loss: 0.0002917 | Val Loss: 0.0001568\n",
            "Epoch: 400 Elapsed 0:00:03 | Train Loss: 0.0002924 | Val Loss: 0.0001639\n",
            "Epoch: 410 Elapsed 0:00:03 | Train Loss: 0.0002858 | Val Loss: 0.0001578\n",
            "Epoch: 420 Elapsed 0:00:03 | Train Loss: 0.0002894 | Val Loss: 0.0001558\n",
            "Epoch: 430 Elapsed 0:00:03 | Train Loss: 0.0002829 | Val Loss: 0.0001563\n",
            "Epoch: 440 Elapsed 0:00:03 | Train Loss: 0.000285 | Val Loss: 0.0001595\n",
            "Epoch: 450 Elapsed 0:00:03 | Train Loss: 0.000289 | Val Loss: 0.0001797\n",
            "Epoch: 460 Elapsed 0:00:03 | Train Loss: 0.0002882 | Val Loss: 0.0001719\n",
            "Epoch: 470 Elapsed 0:00:03 | Train Loss: 0.0002872 | Val Loss: 0.000148\n",
            "Epoch: 480 Elapsed 0:00:03 | Train Loss: 0.000291 | Val Loss: 0.0001591\n",
            "Epoch: 490 Elapsed 0:00:03 | Train Loss: 0.0002926 | Val Loss: 0.0001602\n",
            "Epoch: 500 Elapsed 0:00:03 | Train Loss: 0.0002892 | Val Loss: 0.000185\n",
            "Training complete in: 0:22:39. Lowest validation loss occurred at epoch 479: 0.0001452\n"
          ],
          "name": "stdout"
        }
      ]
    },
    {
      "cell_type": "code",
      "metadata": {
        "id": "YSBKX8bMZ7eJ"
      },
      "source": [
        "# Load Model\n",
        "\n",
        "LOAD_MODEL_NAME = 'DisReg_MLP_2L_13'\n",
        "\n",
        "\n",
        "LEARNING_RATE = 1e-3\n",
        "WEIGHT_DECAY = 1e-7\n",
        "\n",
        "INPUT_DIM = 34\n",
        "HIDDEN_DIM = 64\n",
        "DROP_OUT = 0.2\n",
        "\n",
        "best_model = DisReg_MLP_2Layer(\n",
        "    INPUT_DIM, HIDDEN_DIM, DROP_OUT).to(device)\n",
        "\n",
        "latest_model = DisReg_MLP_2Layer(\n",
        "    INPUT_DIM, HIDDEN_DIM, DROP_OUT).to(device)\n",
        "\n",
        "optimiser = optim.Adam(best_model.parameters(),\n",
        "                       lr=LEARNING_RATE, weight_decay=WEIGHT_DECAY)\n",
        "\n",
        "criterion = torch.nn.MSELoss()\n",
        "\n",
        "best_model, best_epoch, best_loss_train, lowest_loss_val, epochs, latest_model, \\\n",
        "    optimiser, total_losses_train, total_losses_val = load_model(\n",
        "        LOAD_MODEL_NAME, best_model, latest_model)"
      ],
      "execution_count": null,
      "outputs": []
    },
    {
      "cell_type": "code",
      "metadata": {
        "id": "gz2Urac9Z7hy",
        "outputId": "d3e42794-57e8-4daf-8a75-abf2fc266ff0",
        "colab": {
          "base_uri": "https://localhost:8080/",
          "height": 523
        }
      },
      "source": [
        "# Save training log to dataframe format and plot log\n",
        "\n",
        "train_loss_df = pd.DataFrame(zip(epochs, total_losses_train), columns=[\n",
        "    'Epochs', 'Loss'])\n",
        "train_loss_df['Type'] = 'Training Set Loss'\n",
        "val_loss_df = pd.DataFrame(zip(epochs, total_losses_val), columns=[\n",
        "    'Epochs', 'Loss'])\n",
        "val_loss_df['Type'] = 'Validation Set Loss'\n",
        "loss_df = pd.concat([train_loss_df, val_loss_df], axis=0)\n",
        "\n",
        "\n",
        "plt.figure(figsize=(14, 8))\n",
        "g = sns.lineplot(x='Epochs',\n",
        "             y='Loss',\n",
        "             data=loss_df,\n",
        "             hue='Type')\n",
        "\n",
        "g.set_title('Epochs vs Loss', fontsize=20)\n",
        "g.set_xlabel('Epochs', fontsize=15)\n",
        "g.set_ylabel('Loss', fontsize=15)\n",
        "\n",
        "plt.show()"
      ],
      "execution_count": null,
      "outputs": [
        {
          "output_type": "display_data",
          "data": {
            "image/png": "[encoded data removed]",
            "text/plain": [
              "<Figure size 1008x576 with 1 Axes>"
            ]
          },
          "metadata": {
            "tags": []
          }
        }
      ]
    },
    {
      "cell_type": "code",
      "metadata": {
        "id": "wqpIroQQZ7kx",
        "outputId": "cea13383-9396-45f0-c729-b85cce3129d4",
        "colab": {
          "base_uri": "https://localhost:8080/"
        }
      },
      "source": [
        "# evaluate test loss with best model\n",
        "\n",
        "test_losses = []\n",
        "\n",
        "for test_data, test_label in dl_test:\n",
        "\n",
        "    # convert to cuda if available\n",
        "    test_data = test_data.float().to(device)\n",
        "    test_label = test_label.float().to(device)\n",
        "\n",
        "    best_model.eval()\n",
        "\n",
        "    with torch.no_grad():\n",
        "        output = best_model(test_data)\n",
        "        loss = criterion(output.squeeze(), test_label)\n",
        "\n",
        "    test_losses.append(loss.item())\n",
        "\n",
        "# get average test loss\n",
        "test_losses = np.average(test_losses)\n",
        "print('Average Test Set MSE: {:.4}'.format(test_losses))\n",
        "\n",
        "# test loss at original scale (km)\n",
        "print('Average Test Set MSE at km: {:.4}'.format(\n",
        "    scaler_dic['workout_distance'].inverse_transform(test_losses.reshape(1, -1))[0][0]))"
      ],
      "execution_count": null,
      "outputs": [
        {
          "output_type": "stream",
          "text": [
            "Average Test Set MSE: 0.0001468\n",
            "Average Test Set MSE at km: 0.01924\n"
          ],
          "name": "stdout"
        }
      ]
    },
    {
      "cell_type": "markdown",
      "metadata": {
        "id": "CGWhiOgRIZng"
      },
      "source": [
        "## 7.4 3-layer MLP model Entity Embedding Exploration"
      ]
    },
    {
      "cell_type": "markdown",
      "metadata": {
        "id": "bLx_PXNxQRlx"
      },
      "source": [
        "### 7.4.1 Define 3-layer MLP Model"
      ]
    },
    {
      "cell_type": "code",
      "metadata": {
        "id": "xOq9O5al__N6"
      },
      "source": [
        "class DisReg_MLP_3Layer(nn.Module):\n",
        "    def __init__(self, input_dim, hidden_dim_1, hidden_dim_2, p):\n",
        "        super(DisReg_MLP_3Layer, self).__init__()\n",
        "\n",
        "        self.fc1 = nn.Linear(input_dim, hidden_dim_1)\n",
        "        self.fc2 = nn.Linear(hidden_dim_1, hidden_dim_2)\n",
        "        self.fc3 = nn.Linear(hidden_dim_2, 1)\n",
        "\n",
        "        self.act_1 = nn.ReLU()\n",
        "        self.act_2 = nn.ReLU()\n",
        "        self.act_3 = nn.Sigmoid()\n",
        "\n",
        "        self.drop_1 = nn.Dropout(p)\n",
        "        self.drop_2 = nn.Dropout(p)\n",
        "\n",
        "    def forward(self, data):\n",
        "        output = self.fc1(data)\n",
        "        output = self.act_1(output)\n",
        "        output = self.drop_1(output)\n",
        "\n",
        "        output = self.fc2(output)\n",
        "        output = self.act_2(output)\n",
        "        output = self.drop_2(output)\n",
        "\n",
        "        output = self.fc3(output)\n",
        "        output = self.act_3(output)\n",
        "\n",
        "        return output"
      ],
      "execution_count": null,
      "outputs": []
    },
    {
      "cell_type": "markdown",
      "metadata": {
        "id": "nBZRFVLtQLKn"
      },
      "source": [
        "### 7.4.2 Entity Embedding of size 2\n",
        "\n",
        "* Ensure entity embedding of size 2 was loaded in Data Processing\n",
        "* Train model with best parameters from section 7.3"
      ]
    },
    {
      "cell_type": "code",
      "metadata": {
        "id": "EAOQQDLm__IG",
        "outputId": "98e9051a-c11c-4635-abe8-df6a668a70d7",
        "colab": {
          "base_uri": "https://localhost:8080/"
        }
      },
      "source": [
        "## Train new model\n",
        "\n",
        "LEARNING_RATE = 1e-3\n",
        "WEIGHT_DECAY = 1e-7\n",
        "N_EPOCHS = 500\n",
        "SHOW_PROGRESS_EPOCH = 10\n",
        "SAVE_MODEL_EPOCH = 1\n",
        "SAVE_MODEL_NAME = 'DisReg_MLP_3L_2'\n",
        "\n",
        "INPUT_DIM = 12\n",
        "HIDDEN_DIM_1 = 64\n",
        "HIDDEN_DIM_2 = 64\n",
        "DROP_OUT = 0.2\n",
        "\n",
        "DisReg_MLP_3 = DisReg_MLP_3Layer(\n",
        "    INPUT_DIM, HIDDEN_DIM_1, HIDDEN_DIM_2, DROP_OUT).to(device)\n",
        "\n",
        "optimiser = optim.Adam(DisReg_MLP_3.parameters(),\n",
        "                       lr=LEARNING_RATE, weight_decay=WEIGHT_DECAY)\n",
        "\n",
        "criterion = torch.nn.MSELoss()\n",
        "\n",
        "train_model(DisReg_MLP_3,\n",
        "            optimiser,\n",
        "            criterion,\n",
        "            N_EPOCHS,\n",
        "            dl_train,\n",
        "            dl_val, \n",
        "            SHOW_PROGRESS_EPOCH,\n",
        "            SAVE_MODEL_EPOCH,\n",
        "            SAVE_MODEL_NAME,\n",
        "            continue_train = False, \n",
        "            previous_best_train_loss = 0,\n",
        "            previous_lowest_val_loss = 0,\n",
        "            best_model_state_dict = 0,\n",
        "            previous_best_epoch = 0,\n",
        "            previous_epochs = 0,\n",
        "            previous_train_loss = 0,\n",
        "            previous_val_loss = 0)"
      ],
      "execution_count": null,
      "outputs": [
        {
          "output_type": "stream",
          "text": [
            "Epoch: 10 Elapsed 0:00:04 | Train Loss: 0.0004153 | Val Loss: 0.0001869\n",
            "Epoch: 20 Elapsed 0:00:05 | Train Loss: 0.0003806 | Val Loss: 0.0001731\n",
            "Epoch: 30 Elapsed 0:00:05 | Train Loss: 0.0003774 | Val Loss: 0.0001814\n",
            "Epoch: 40 Elapsed 0:00:04 | Train Loss: 0.0003751 | Val Loss: 0.0001652\n",
            "Epoch: 50 Elapsed 0:00:04 | Train Loss: 0.000372 | Val Loss: 0.0001684\n",
            "Epoch: 60 Elapsed 0:00:04 | Train Loss: 0.0003636 | Val Loss: 0.0001675\n",
            "Epoch: 70 Elapsed 0:00:05 | Train Loss: 0.0003652 | Val Loss: 0.00022\n",
            "Epoch: 80 Elapsed 0:00:04 | Train Loss: 0.0003677 | Val Loss: 0.0001821\n",
            "Epoch: 90 Elapsed 0:00:05 | Train Loss: 0.0003553 | Val Loss: 0.000158\n",
            "Epoch: 100 Elapsed 0:00:04 | Train Loss: 0.0003533 | Val Loss: 0.0001926\n",
            "Epoch: 110 Elapsed 0:00:04 | Train Loss: 0.000345 | Val Loss: 0.0001644\n",
            "Epoch: 120 Elapsed 0:00:05 | Train Loss: 0.0003513 | Val Loss: 0.0001633\n",
            "Epoch: 130 Elapsed 0:00:05 | Train Loss: 0.0003615 | Val Loss: 0.0001834\n",
            "Epoch: 140 Elapsed 0:00:05 | Train Loss: 0.000347 | Val Loss: 0.0001594\n",
            "Epoch: 150 Elapsed 0:00:04 | Train Loss: 0.0003488 | Val Loss: 0.0001717\n",
            "Epoch: 160 Elapsed 0:00:04 | Train Loss: 0.0003631 | Val Loss: 0.0001753\n",
            "Epoch: 170 Elapsed 0:00:05 | Train Loss: 0.0003577 | Val Loss: 0.0001806\n",
            "Epoch: 180 Elapsed 0:00:05 | Train Loss: 0.0003488 | Val Loss: 0.000158\n",
            "Epoch: 190 Elapsed 0:00:04 | Train Loss: 0.0003479 | Val Loss: 0.0001773\n",
            "Epoch: 200 Elapsed 0:00:05 | Train Loss: 0.0003504 | Val Loss: 0.0001672\n",
            "Epoch: 210 Elapsed 0:00:05 | Train Loss: 0.0003463 | Val Loss: 0.0001883\n",
            "Epoch: 220 Elapsed 0:00:04 | Train Loss: 0.0003444 | Val Loss: 0.000177\n",
            "Epoch: 230 Elapsed 0:00:05 | Train Loss: 0.0003494 | Val Loss: 0.0002073\n",
            "Epoch: 240 Elapsed 0:00:04 | Train Loss: 0.0003425 | Val Loss: 0.0001681\n",
            "Epoch: 250 Elapsed 0:00:05 | Train Loss: 0.0003478 | Val Loss: 0.0001606\n",
            "Epoch: 260 Elapsed 0:00:05 | Train Loss: 0.0003483 | Val Loss: 0.0001624\n",
            "Epoch: 270 Elapsed 0:00:04 | Train Loss: 0.0003439 | Val Loss: 0.0001937\n",
            "Epoch: 280 Elapsed 0:00:05 | Train Loss: 0.0003449 | Val Loss: 0.0001628\n",
            "Epoch: 290 Elapsed 0:00:05 | Train Loss: 0.0003515 | Val Loss: 0.0002083\n",
            "Epoch: 300 Elapsed 0:00:04 | Train Loss: 0.0003417 | Val Loss: 0.0001657\n",
            "Epoch: 310 Elapsed 0:00:05 | Train Loss: 0.0003419 | Val Loss: 0.0001655\n",
            "Epoch: 320 Elapsed 0:00:05 | Train Loss: 0.0003401 | Val Loss: 0.0001633\n",
            "Epoch: 330 Elapsed 0:00:04 | Train Loss: 0.0003464 | Val Loss: 0.0001583\n",
            "Epoch: 340 Elapsed 0:00:04 | Train Loss: 0.0003484 | Val Loss: 0.0001703\n",
            "Epoch: 350 Elapsed 0:00:05 | Train Loss: 0.0003398 | Val Loss: 0.0001657\n",
            "Epoch: 360 Elapsed 0:00:05 | Train Loss: 0.0003502 | Val Loss: 0.0001638\n",
            "Epoch: 370 Elapsed 0:00:05 | Train Loss: 0.0003453 | Val Loss: 0.0001574\n",
            "Epoch: 380 Elapsed 0:00:05 | Train Loss: 0.0003435 | Val Loss: 0.0002053\n",
            "Epoch: 390 Elapsed 0:00:04 | Train Loss: 0.0003404 | Val Loss: 0.0001909\n",
            "Epoch: 400 Elapsed 0:00:04 | Train Loss: 0.0003449 | Val Loss: 0.0001905\n",
            "Epoch: 410 Elapsed 0:00:04 | Train Loss: 0.0003336 | Val Loss: 0.0001709\n",
            "Epoch: 420 Elapsed 0:00:05 | Train Loss: 0.0003505 | Val Loss: 0.0001692\n",
            "Epoch: 430 Elapsed 0:00:05 | Train Loss: 0.0003424 | Val Loss: 0.0001723\n",
            "Epoch: 440 Elapsed 0:00:05 | Train Loss: 0.0003373 | Val Loss: 0.0001738\n",
            "Epoch: 450 Elapsed 0:00:04 | Train Loss: 0.0003476 | Val Loss: 0.0001742\n",
            "Epoch: 460 Elapsed 0:00:04 | Train Loss: 0.0003387 | Val Loss: 0.0001636\n",
            "Epoch: 470 Elapsed 0:00:04 | Train Loss: 0.000342 | Val Loss: 0.0001786\n",
            "Epoch: 480 Elapsed 0:00:05 | Train Loss: 0.0003434 | Val Loss: 0.0001576\n",
            "Epoch: 490 Elapsed 0:00:04 | Train Loss: 0.0003354 | Val Loss: 0.0001774\n",
            "Epoch: 500 Elapsed 0:00:05 | Train Loss: 0.0003412 | Val Loss: 0.0001732\n",
            "Training complete in: 0:37:39. Lowest validation loss occurred at epoch 216: 0.0001537\n"
          ],
          "name": "stdout"
        }
      ]
    },
    {
      "cell_type": "code",
      "metadata": {
        "id": "TgesFGZcX--h"
      },
      "source": [
        "LOAD_MODEL_NAME = 'DisReg_MLP_3L_2'\n",
        "\n",
        "\n",
        "LEARNING_RATE = 1e-3\n",
        "WEIGHT_DECAY = 1e-7\n",
        "\n",
        "INPUT_DIM = 12\n",
        "HIDDEN_DIM_1 = 64\n",
        "HIDDEN_DIM_2 = 64\n",
        "DROP_OUT = 0.2\n",
        "\n",
        "best_model = DisReg_MLP_3Layer(\n",
        "    INPUT_DIM, HIDDEN_DIM_1, HIDDEN_DIM_2, DROP_OUT).to(device)\n",
        "\n",
        "latest_model = DisReg_MLP_3Layer(\n",
        "    INPUT_DIM, HIDDEN_DIM_1, HIDDEN_DIM_2, DROP_OUT).to(device)\n",
        "\n",
        "optimiser = optim.Adam(best_model.parameters(),\n",
        "                       lr=LEARNING_RATE, weight_decay=WEIGHT_DECAY)\n",
        "\n",
        "criterion = torch.nn.MSELoss()\n",
        "\n",
        "best_model, best_epoch, best_loss_train, lowest_loss_val, epochs, latest_model, \\\n",
        "    optimiser, total_losses_train, total_losses_val = load_model(\n",
        "        LOAD_MODEL_NAME, best_model, latest_model)"
      ],
      "execution_count": null,
      "outputs": []
    },
    {
      "cell_type": "code",
      "metadata": {
        "id": "3tLwj8F7YP0D",
        "outputId": "920d26d5-ef02-4b11-8de1-00b34c330c28",
        "colab": {
          "base_uri": "https://localhost:8080/",
          "height": 523
        }
      },
      "source": [
        "# Save training log to dataframe format and plot log\n",
        "\n",
        "train_loss_df = pd.DataFrame(zip(epochs, total_losses_train), columns=[\n",
        "    'Epochs', 'Loss'])\n",
        "train_loss_df['Type'] = 'Training Set Loss'\n",
        "val_loss_df = pd.DataFrame(zip(epochs, total_losses_val), columns=[\n",
        "    'Epochs', 'Loss'])\n",
        "val_loss_df['Type'] = 'Validation Set Loss'\n",
        "loss_df = pd.concat([train_loss_df, val_loss_df], axis=0)\n",
        "\n",
        "\n",
        "plt.figure(figsize=(14, 8))\n",
        "g = sns.lineplot(x='Epochs',\n",
        "             y='Loss',\n",
        "             data=loss_df,\n",
        "             hue='Type')\n",
        "\n",
        "g.set_title('Epochs vs Loss', fontsize=20)\n",
        "g.set_xlabel('Epochs', fontsize=15)\n",
        "g.set_ylabel('Loss', fontsize=15)\n",
        "\n",
        "plt.show()"
      ],
      "execution_count": null,
      "outputs": [
        {
          "output_type": "display_data",
          "data": {
            "image/png": "[encoded data removed]",
            "text/plain": [
              "<Figure size 1008x576 with 1 Axes>"
            ]
          },
          "metadata": {
            "tags": []
          }
        }
      ]
    },
    {
      "cell_type": "code",
      "metadata": {
        "id": "FSwsEUStYTVz",
        "outputId": "b9843ded-1585-45f1-a89d-06de6c97b4f0",
        "colab": {
          "base_uri": "https://localhost:8080/"
        }
      },
      "source": [
        "# evaluate test loss with best model\n",
        "\n",
        "test_losses = []\n",
        "\n",
        "for test_data, test_label in dl_test:\n",
        "\n",
        "    # convert to cuda if available\n",
        "    test_data = test_data.float().to(device)\n",
        "    test_label = test_label.float().to(device)\n",
        "\n",
        "    best_model.eval()\n",
        "\n",
        "    with torch.no_grad():\n",
        "        output = best_model(test_data)\n",
        "        loss = criterion(output.squeeze(), test_label)\n",
        "\n",
        "    test_losses.append(loss.item())\n",
        "\n",
        "# get average test loss\n",
        "test_losses = np.average(test_losses)\n",
        "print('Average Test Set MSE: {:.4}'.format(test_losses))\n",
        "\n",
        "# test loss at original scale (km)\n",
        "print('Average Test Set MSE at km: {:.4}'.format(\n",
        "    scaler_dic['workout_distance'].inverse_transform(test_losses.reshape(1, -1))[0][0]))"
      ],
      "execution_count": null,
      "outputs": [
        {
          "output_type": "stream",
          "text": [
            "Average Test Set MSE: 0.0001543\n",
            "Average Test Set MSE at km: 0.02023\n"
          ],
          "name": "stdout"
        }
      ]
    },
    {
      "cell_type": "markdown",
      "metadata": {
        "id": "MbTzlZz2u9mk"
      },
      "source": [
        "### 7.4.3 Entity Embedding of size 11\n",
        "\n",
        "* Ensure entity embedding of size 11 was loaded in Data Processing\n",
        "* Train model with best parameters from section 7.3"
      ]
    },
    {
      "cell_type": "code",
      "metadata": {
        "id": "Ns4Fbm00JAKb",
        "outputId": "9f17109d-fb6e-4a98-973a-12c3f785dacb",
        "colab": {
          "base_uri": "https://localhost:8080/"
        }
      },
      "source": [
        "## Train new model\n",
        "\n",
        "LEARNING_RATE = 1e-3\n",
        "WEIGHT_DECAY = 1e-7\n",
        "N_EPOCHS = 500\n",
        "SHOW_PROGRESS_EPOCH = 10\n",
        "SAVE_MODEL_EPOCH = 1\n",
        "SAVE_MODEL_NAME = 'DisReg_MLP_3L_11'\n",
        "\n",
        "INPUT_DIM = 30\n",
        "HIDDEN_DIM_1 = 64\n",
        "HIDDEN_DIM_2 = 64\n",
        "DROP_OUT = 0.2\n",
        "\n",
        "DisReg_MLP_3 = DisReg_MLP_3Layer(\n",
        "    INPUT_DIM, HIDDEN_DIM_1, HIDDEN_DIM_2, DROP_OUT).to(device)\n",
        "\n",
        "optimiser = optim.Adam(DisReg_MLP_3.parameters(),\n",
        "                       lr=LEARNING_RATE, weight_decay=WEIGHT_DECAY)\n",
        "\n",
        "criterion = torch.nn.MSELoss()\n",
        "\n",
        "train_model(DisReg_MLP_3,\n",
        "            optimiser,\n",
        "            criterion,\n",
        "            N_EPOCHS,\n",
        "            dl_train,\n",
        "            dl_val, \n",
        "            SHOW_PROGRESS_EPOCH,\n",
        "            SAVE_MODEL_EPOCH,\n",
        "            SAVE_MODEL_NAME,\n",
        "            continue_train = False, \n",
        "            previous_best_train_loss = 0,\n",
        "            previous_lowest_val_loss = 0,\n",
        "            best_model_state_dict = 0,\n",
        "            previous_best_epoch = 0,\n",
        "            previous_epochs = 0,\n",
        "            previous_train_loss = 0,\n",
        "            previous_val_loss = 0)"
      ],
      "execution_count": null,
      "outputs": [
        {
          "output_type": "stream",
          "text": [
            "Epoch: 10 Elapsed 0:00:04 | Train Loss: 0.0004226 | Val Loss: 0.0002244\n",
            "Epoch: 20 Elapsed 0:00:04 | Train Loss: 0.0003902 | Val Loss: 0.0001798\n",
            "Epoch: 30 Elapsed 0:00:04 | Train Loss: 0.0003759 | Val Loss: 0.0001764\n",
            "Epoch: 40 Elapsed 0:00:03 | Train Loss: 0.000374 | Val Loss: 0.0001789\n",
            "Epoch: 50 Elapsed 0:00:03 | Train Loss: 0.0003661 | Val Loss: 0.0002056\n",
            "Epoch: 60 Elapsed 0:00:03 | Train Loss: 0.0003552 | Val Loss: 0.0001762\n",
            "Epoch: 70 Elapsed 0:00:03 | Train Loss: 0.0003635 | Val Loss: 0.0001901\n",
            "Epoch: 80 Elapsed 0:00:03 | Train Loss: 0.0003634 | Val Loss: 0.0001671\n",
            "Epoch: 90 Elapsed 0:00:03 | Train Loss: 0.0003538 | Val Loss: 0.0001912\n",
            "Epoch: 100 Elapsed 0:00:03 | Train Loss: 0.0003574 | Val Loss: 0.000172\n",
            "Epoch: 110 Elapsed 0:00:03 | Train Loss: 0.0003478 | Val Loss: 0.0001612\n",
            "Epoch: 120 Elapsed 0:00:03 | Train Loss: 0.0003606 | Val Loss: 0.000183\n",
            "Epoch: 130 Elapsed 0:00:03 | Train Loss: 0.0003589 | Val Loss: 0.000155\n",
            "Epoch: 140 Elapsed 0:00:03 | Train Loss: 0.0003512 | Val Loss: 0.0001629\n",
            "Epoch: 150 Elapsed 0:00:03 | Train Loss: 0.0003431 | Val Loss: 0.0001791\n",
            "Epoch: 160 Elapsed 0:00:03 | Train Loss: 0.0003527 | Val Loss: 0.0001571\n",
            "Epoch: 170 Elapsed 0:00:03 | Train Loss: 0.0003597 | Val Loss: 0.0001635\n",
            "Epoch: 180 Elapsed 0:00:03 | Train Loss: 0.0003437 | Val Loss: 0.0001589\n",
            "Epoch: 190 Elapsed 0:00:03 | Train Loss: 0.0003501 | Val Loss: 0.0001897\n",
            "Epoch: 200 Elapsed 0:00:03 | Train Loss: 0.0003568 | Val Loss: 0.0001662\n",
            "Epoch: 210 Elapsed 0:00:03 | Train Loss: 0.0003467 | Val Loss: 0.0001622\n",
            "Epoch: 220 Elapsed 0:00:03 | Train Loss: 0.0003524 | Val Loss: 0.0001594\n",
            "Epoch: 230 Elapsed 0:00:03 | Train Loss: 0.0003459 | Val Loss: 0.0001543\n",
            "Epoch: 240 Elapsed 0:00:03 | Train Loss: 0.000353 | Val Loss: 0.0001797\n",
            "Epoch: 250 Elapsed 0:00:03 | Train Loss: 0.0003435 | Val Loss: 0.000167\n",
            "Epoch: 260 Elapsed 0:00:03 | Train Loss: 0.0003495 | Val Loss: 0.0001648\n",
            "Epoch: 270 Elapsed 0:00:03 | Train Loss: 0.0003482 | Val Loss: 0.0001641\n",
            "Epoch: 280 Elapsed 0:00:03 | Train Loss: 0.0003507 | Val Loss: 0.0001671\n",
            "Epoch: 290 Elapsed 0:00:03 | Train Loss: 0.0003442 | Val Loss: 0.0001817\n",
            "Epoch: 300 Elapsed 0:00:03 | Train Loss: 0.0003427 | Val Loss: 0.0001617\n",
            "Epoch: 310 Elapsed 0:00:03 | Train Loss: 0.0003409 | Val Loss: 0.0001667\n",
            "Epoch: 320 Elapsed 0:00:03 | Train Loss: 0.0003418 | Val Loss: 0.0001741\n",
            "Epoch: 330 Elapsed 0:00:03 | Train Loss: 0.0003527 | Val Loss: 0.0001616\n",
            "Epoch: 340 Elapsed 0:00:03 | Train Loss: 0.0003449 | Val Loss: 0.0001814\n",
            "Epoch: 350 Elapsed 0:00:03 | Train Loss: 0.0003437 | Val Loss: 0.0001771\n",
            "Epoch: 360 Elapsed 0:00:03 | Train Loss: 0.0003468 | Val Loss: 0.0001609\n",
            "Epoch: 370 Elapsed 0:00:03 | Train Loss: 0.0003472 | Val Loss: 0.0001685\n",
            "Epoch: 380 Elapsed 0:00:03 | Train Loss: 0.0003505 | Val Loss: 0.0002001\n",
            "Epoch: 390 Elapsed 0:00:03 | Train Loss: 0.0003448 | Val Loss: 0.0001643\n",
            "Epoch: 400 Elapsed 0:00:03 | Train Loss: 0.0003526 | Val Loss: 0.0001711\n",
            "Epoch: 410 Elapsed 0:00:03 | Train Loss: 0.0003397 | Val Loss: 0.0001669\n",
            "Epoch: 420 Elapsed 0:00:03 | Train Loss: 0.0003463 | Val Loss: 0.0001622\n",
            "Epoch: 430 Elapsed 0:00:03 | Train Loss: 0.0003422 | Val Loss: 0.0001989\n",
            "Epoch: 440 Elapsed 0:00:03 | Train Loss: 0.0003437 | Val Loss: 0.0001674\n",
            "Epoch: 450 Elapsed 0:00:03 | Train Loss: 0.0003433 | Val Loss: 0.0001622\n",
            "Epoch: 460 Elapsed 0:00:03 | Train Loss: 0.0003369 | Val Loss: 0.0002165\n",
            "Epoch: 470 Elapsed 0:00:03 | Train Loss: 0.0003465 | Val Loss: 0.0001726\n",
            "Epoch: 480 Elapsed 0:00:03 | Train Loss: 0.0003402 | Val Loss: 0.0002033\n",
            "Epoch: 490 Elapsed 0:00:03 | Train Loss: 0.0003407 | Val Loss: 0.0001636\n",
            "Epoch: 500 Elapsed 0:00:03 | Train Loss: 0.0003493 | Val Loss: 0.0001542\n",
            "Training complete in: 0:27:15. Lowest validation loss occurred at epoch 212: 0.0001503\n"
          ],
          "name": "stdout"
        }
      ]
    },
    {
      "cell_type": "code",
      "metadata": {
        "id": "Lk-D3JUeZeUQ"
      },
      "source": [
        "LOAD_MODEL_NAME = 'DisReg_MLP_3L_11'\n",
        "\n",
        "\n",
        "LEARNING_RATE = 1e-3\n",
        "WEIGHT_DECAY = 1e-7\n",
        "\n",
        "INPUT_DIM = 30\n",
        "HIDDEN_DIM_1 = 64\n",
        "HIDDEN_DIM_2 = 64\n",
        "DROP_OUT = 0.2\n",
        "\n",
        "best_model = DisReg_MLP_3Layer(\n",
        "    INPUT_DIM, HIDDEN_DIM_1, HIDDEN_DIM_2, DROP_OUT).to(device)\n",
        "\n",
        "latest_model = DisReg_MLP_3Layer(\n",
        "    INPUT_DIM, HIDDEN_DIM_1, HIDDEN_DIM_2, DROP_OUT).to(device)\n",
        "\n",
        "optimiser = optim.Adam(best_model.parameters(),\n",
        "                       lr=LEARNING_RATE, weight_decay=WEIGHT_DECAY)\n",
        "\n",
        "criterion = torch.nn.MSELoss()\n",
        "\n",
        "best_model, best_epoch, best_loss_train, lowest_loss_val, epochs, latest_model, \\\n",
        "    optimiser, total_losses_train, total_losses_val = load_model(\n",
        "        LOAD_MODEL_NAME, best_model, latest_model)"
      ],
      "execution_count": null,
      "outputs": []
    },
    {
      "cell_type": "code",
      "metadata": {
        "id": "kbeGtURgZeXI",
        "outputId": "8de388f4-80e1-495b-ef7e-968d540fca28",
        "colab": {
          "base_uri": "https://localhost:8080/",
          "height": 523
        }
      },
      "source": [
        "# Save training log to dataframe format and plot log\n",
        "\n",
        "train_loss_df = pd.DataFrame(zip(epochs, total_losses_train), columns=[\n",
        "    'Epochs', 'Loss'])\n",
        "train_loss_df['Type'] = 'Training Set Loss'\n",
        "val_loss_df = pd.DataFrame(zip(epochs, total_losses_val), columns=[\n",
        "    'Epochs', 'Loss'])\n",
        "val_loss_df['Type'] = 'Validation Set Loss'\n",
        "loss_df = pd.concat([train_loss_df, val_loss_df], axis=0)\n",
        "\n",
        "\n",
        "plt.figure(figsize=(14, 8))\n",
        "g = sns.lineplot(x='Epochs',\n",
        "             y='Loss',\n",
        "             data=loss_df,\n",
        "             hue='Type')\n",
        "\n",
        "g.set_title('Epochs vs Loss', fontsize=20)\n",
        "g.set_xlabel('Epochs', fontsize=15)\n",
        "g.set_ylabel('Loss', fontsize=15)\n",
        "\n",
        "plt.show()"
      ],
      "execution_count": null,
      "outputs": [
        {
          "output_type": "display_data",
          "data": {
            "image/png": "[encoded data removed]",
            "text/plain": [
              "<Figure size 1008x576 with 1 Axes>"
            ]
          },
          "metadata": {
            "tags": []
          }
        }
      ]
    },
    {
      "cell_type": "code",
      "metadata": {
        "id": "OG3SXPrXZmv3",
        "outputId": "ef743b81-f880-4473-f790-1c08327cf5e1",
        "colab": {
          "base_uri": "https://localhost:8080/"
        }
      },
      "source": [
        "# evaluate test loss with best model\n",
        "\n",
        "test_losses = []\n",
        "\n",
        "for test_data, test_label in dl_test:\n",
        "\n",
        "    # convert to cuda if available\n",
        "    test_data = test_data.float().to(device)\n",
        "    test_label = test_label.float().to(device)\n",
        "\n",
        "    best_model.eval()\n",
        "\n",
        "    with torch.no_grad():\n",
        "        output = best_model(test_data)\n",
        "        loss = criterion(output.squeeze(), test_label)\n",
        "\n",
        "    test_losses.append(loss.item())\n",
        "\n",
        "# get average test loss\n",
        "test_losses = np.average(test_losses)\n",
        "print('Average Test Set MSE: {:.4}'.format(test_losses))\n",
        "\n",
        "# test loss at original scale (km)\n",
        "print('Average Test Set MSE at km: {:.4}'.format(\n",
        "    scaler_dic['workout_distance'].inverse_transform(test_losses.reshape(1, -1))[0][0]))"
      ],
      "execution_count": null,
      "outputs": [
        {
          "output_type": "stream",
          "text": [
            "Average Test Set MSE: 0.0001538\n",
            "Average Test Set MSE at km: 0.02016\n"
          ],
          "name": "stdout"
        }
      ]
    },
    {
      "cell_type": "markdown",
      "metadata": {
        "id": "_GTuqXNEwncr"
      },
      "source": [
        "### 7.4.4 Entity Embedding of size 13\n",
        "\n",
        "* Ensure entity embedding of size 13 was loaded in Data Processing\n",
        "* Train model with best parameters from section 7.3"
      ]
    },
    {
      "cell_type": "code",
      "metadata": {
        "id": "yWwwRwsTJATT",
        "outputId": "33515b91-5262-475e-ec89-901e6c48c01a",
        "colab": {
          "base_uri": "https://localhost:8080/"
        }
      },
      "source": [
        "## Train new model\n",
        "\n",
        "LEARNING_RATE = 1e-3\n",
        "WEIGHT_DECAY = 1e-7\n",
        "N_EPOCHS = 500\n",
        "SHOW_PROGRESS_EPOCH = 10\n",
        "SAVE_MODEL_EPOCH = 1\n",
        "SAVE_MODEL_NAME = 'DisReg_MLP_3L_13'\n",
        "\n",
        "INPUT_DIM = 34\n",
        "HIDDEN_DIM_1 = 64\n",
        "HIDDEN_DIM_2 = 64\n",
        "DROP_OUT = 0.2\n",
        "\n",
        "DisReg_MLP_3 = DisReg_MLP_3Layer(\n",
        "    INPUT_DIM, HIDDEN_DIM_1, HIDDEN_DIM_2, DROP_OUT).to(device)\n",
        "\n",
        "optimiser = optim.Adam(DisReg_MLP_3.parameters(),\n",
        "                       lr=LEARNING_RATE, weight_decay=WEIGHT_DECAY)\n",
        "\n",
        "criterion = torch.nn.MSELoss()\n",
        "\n",
        "train_model(DisReg_MLP_3,\n",
        "            optimiser,\n",
        "            criterion,\n",
        "            N_EPOCHS,\n",
        "            dl_train,\n",
        "            dl_val, \n",
        "            SHOW_PROGRESS_EPOCH,\n",
        "            SAVE_MODEL_EPOCH,\n",
        "            SAVE_MODEL_NAME,\n",
        "            continue_train = False, \n",
        "            previous_best_train_loss = 0,\n",
        "            previous_lowest_val_loss = 0,\n",
        "            best_model_state_dict = 0,\n",
        "            previous_best_epoch = 0,\n",
        "            previous_epochs = 0,\n",
        "            previous_train_loss = 0,\n",
        "            previous_val_loss = 0)"
      ],
      "execution_count": null,
      "outputs": [
        {
          "output_type": "stream",
          "text": [
            "Epoch: 10 Elapsed 0:00:03 | Train Loss: 0.0004431 | Val Loss: 0.0002178\n",
            "Epoch: 20 Elapsed 0:00:03 | Train Loss: 0.0004005 | Val Loss: 0.000164\n",
            "Epoch: 30 Elapsed 0:00:03 | Train Loss: 0.0003922 | Val Loss: 0.0001617\n",
            "Epoch: 40 Elapsed 0:00:03 | Train Loss: 0.0003823 | Val Loss: 0.0001791\n",
            "Epoch: 50 Elapsed 0:00:03 | Train Loss: 0.0003733 | Val Loss: 0.000182\n",
            "Epoch: 60 Elapsed 0:00:03 | Train Loss: 0.000368 | Val Loss: 0.0001857\n",
            "Epoch: 70 Elapsed 0:00:03 | Train Loss: 0.000374 | Val Loss: 0.0001777\n",
            "Epoch: 80 Elapsed 0:00:03 | Train Loss: 0.0003662 | Val Loss: 0.0001574\n",
            "Epoch: 90 Elapsed 0:00:03 | Train Loss: 0.000359 | Val Loss: 0.0001754\n",
            "Epoch: 100 Elapsed 0:00:03 | Train Loss: 0.0003571 | Val Loss: 0.0001817\n",
            "Epoch: 110 Elapsed 0:00:03 | Train Loss: 0.00037 | Val Loss: 0.0001971\n",
            "Epoch: 120 Elapsed 0:00:03 | Train Loss: 0.0003573 | Val Loss: 0.0001653\n",
            "Epoch: 130 Elapsed 0:00:03 | Train Loss: 0.0003624 | Val Loss: 0.0001673\n",
            "Epoch: 140 Elapsed 0:00:03 | Train Loss: 0.0003575 | Val Loss: 0.0001655\n",
            "Epoch: 150 Elapsed 0:00:04 | Train Loss: 0.0003612 | Val Loss: 0.0001618\n",
            "Epoch: 160 Elapsed 0:00:03 | Train Loss: 0.0003624 | Val Loss: 0.0001614\n",
            "Epoch: 170 Elapsed 0:00:03 | Train Loss: 0.0003599 | Val Loss: 0.0001573\n",
            "Epoch: 180 Elapsed 0:00:03 | Train Loss: 0.0003578 | Val Loss: 0.0001574\n",
            "Epoch: 190 Elapsed 0:00:03 | Train Loss: 0.000355 | Val Loss: 0.0001577\n",
            "Epoch: 200 Elapsed 0:00:03 | Train Loss: 0.0003575 | Val Loss: 0.000178\n",
            "Epoch: 210 Elapsed 0:00:03 | Train Loss: 0.0003551 | Val Loss: 0.0001688\n",
            "Epoch: 220 Elapsed 0:00:03 | Train Loss: 0.0003479 | Val Loss: 0.0001673\n",
            "Epoch: 230 Elapsed 0:00:03 | Train Loss: 0.0003468 | Val Loss: 0.0001633\n",
            "Epoch: 240 Elapsed 0:00:03 | Train Loss: 0.0003508 | Val Loss: 0.0001665\n",
            "Epoch: 250 Elapsed 0:00:03 | Train Loss: 0.0003514 | Val Loss: 0.000178\n",
            "Epoch: 260 Elapsed 0:00:03 | Train Loss: 0.0003537 | Val Loss: 0.0001655\n",
            "Epoch: 270 Elapsed 0:00:03 | Train Loss: 0.0003526 | Val Loss: 0.0001606\n",
            "Epoch: 280 Elapsed 0:00:03 | Train Loss: 0.0003585 | Val Loss: 0.0001763\n",
            "Epoch: 290 Elapsed 0:00:03 | Train Loss: 0.0003583 | Val Loss: 0.0001722\n",
            "Epoch: 300 Elapsed 0:00:03 | Train Loss: 0.0003483 | Val Loss: 0.0001779\n",
            "Epoch: 310 Elapsed 0:00:03 | Train Loss: 0.0003449 | Val Loss: 0.0001761\n",
            "Epoch: 320 Elapsed 0:00:03 | Train Loss: 0.0003543 | Val Loss: 0.0001771\n",
            "Epoch: 330 Elapsed 0:00:03 | Train Loss: 0.0003538 | Val Loss: 0.0001743\n",
            "Epoch: 340 Elapsed 0:00:03 | Train Loss: 0.0003464 | Val Loss: 0.0001827\n",
            "Epoch: 350 Elapsed 0:00:03 | Train Loss: 0.0003444 | Val Loss: 0.0001674\n",
            "Epoch: 360 Elapsed 0:00:03 | Train Loss: 0.0003491 | Val Loss: 0.00019\n",
            "Epoch: 370 Elapsed 0:00:03 | Train Loss: 0.0003535 | Val Loss: 0.0001596\n",
            "Epoch: 380 Elapsed 0:00:03 | Train Loss: 0.0003499 | Val Loss: 0.0001883\n",
            "Epoch: 390 Elapsed 0:00:03 | Train Loss: 0.0003521 | Val Loss: 0.000156\n",
            "Epoch: 400 Elapsed 0:00:03 | Train Loss: 0.000345 | Val Loss: 0.0001657\n",
            "Epoch: 410 Elapsed 0:00:03 | Train Loss: 0.0003509 | Val Loss: 0.0001665\n",
            "Epoch: 420 Elapsed 0:00:03 | Train Loss: 0.0003474 | Val Loss: 0.0001657\n",
            "Epoch: 430 Elapsed 0:00:03 | Train Loss: 0.0003458 | Val Loss: 0.000164\n",
            "Epoch: 440 Elapsed 0:00:03 | Train Loss: 0.0003477 | Val Loss: 0.0001958\n",
            "Epoch: 450 Elapsed 0:00:03 | Train Loss: 0.0003454 | Val Loss: 0.000173\n",
            "Epoch: 460 Elapsed 0:00:03 | Train Loss: 0.0003463 | Val Loss: 0.0001679\n",
            "Epoch: 470 Elapsed 0:00:03 | Train Loss: 0.0003486 | Val Loss: 0.0001804\n",
            "Epoch: 480 Elapsed 0:00:03 | Train Loss: 0.0003521 | Val Loss: 0.0001668\n",
            "Epoch: 490 Elapsed 0:00:03 | Train Loss: 0.0003558 | Val Loss: 0.0001671\n",
            "Epoch: 500 Elapsed 0:00:03 | Train Loss: 0.0003504 | Val Loss: 0.0001617\n",
            "Training complete in: 0:27:01. Lowest validation loss occurred at epoch 476: 0.0001506\n"
          ],
          "name": "stdout"
        }
      ]
    },
    {
      "cell_type": "code",
      "metadata": {
        "id": "FJUPm2qLwwzw"
      },
      "source": [
        "LOAD_MODEL_NAME = 'DisReg_MLP_3L_13'\n",
        "\n",
        "\n",
        "LEARNING_RATE = 1e-3\n",
        "WEIGHT_DECAY = 1e-7\n",
        "\n",
        "INPUT_DIM = 34\n",
        "HIDDEN_DIM_1 = 64\n",
        "HIDDEN_DIM_2 = 64\n",
        "DROP_OUT = 0.2\n",
        "\n",
        "best_model = DisReg_MLP_3Layer(\n",
        "    INPUT_DIM, HIDDEN_DIM_1, HIDDEN_DIM_2, DROP_OUT).to(device)\n",
        "\n",
        "latest_model = DisReg_MLP_3Layer(\n",
        "    INPUT_DIM, HIDDEN_DIM_1, HIDDEN_DIM_2, DROP_OUT).to(device)\n",
        "\n",
        "optimiser = optim.Adam(best_model.parameters(),\n",
        "                       lr=LEARNING_RATE, weight_decay=WEIGHT_DECAY)\n",
        "\n",
        "criterion = torch.nn.MSELoss()\n",
        "\n",
        "best_model, best_epoch, best_loss_train, lowest_loss_val, epochs, latest_model, \\\n",
        "    optimiser, total_losses_train, total_losses_val = load_model(\n",
        "        LOAD_MODEL_NAME, best_model, latest_model)"
      ],
      "execution_count": null,
      "outputs": []
    },
    {
      "cell_type": "code",
      "metadata": {
        "id": "M_L6qRhKww2n",
        "outputId": "54a559b0-3cc7-4ac0-8262-9bd03074222c",
        "colab": {
          "base_uri": "https://localhost:8080/",
          "height": 523
        }
      },
      "source": [
        "# Save training log to dataframe format and plot log\n",
        "\n",
        "train_loss_df = pd.DataFrame(zip(epochs, total_losses_train), columns=[\n",
        "    'Epochs', 'Loss'])\n",
        "train_loss_df['Type'] = 'Training Set Loss'\n",
        "val_loss_df = pd.DataFrame(zip(epochs, total_losses_val), columns=[\n",
        "    'Epochs', 'Loss'])\n",
        "val_loss_df['Type'] = 'Validation Set Loss'\n",
        "loss_df = pd.concat([train_loss_df, val_loss_df], axis=0)\n",
        "\n",
        "\n",
        "plt.figure(figsize=(14, 8))\n",
        "g = sns.lineplot(x='Epochs',\n",
        "             y='Loss',\n",
        "             data=loss_df,\n",
        "             hue='Type')\n",
        "\n",
        "g.set_title('Epochs vs Loss', fontsize=20)\n",
        "g.set_xlabel('Epochs', fontsize=15)\n",
        "g.set_ylabel('Loss', fontsize=15)\n",
        "\n",
        "plt.show()"
      ],
      "execution_count": null,
      "outputs": [
        {
          "output_type": "display_data",
          "data": {
            "image/png": "[encoded data removed]",
            "text/plain": [
              "<Figure size 1008x576 with 1 Axes>"
            ]
          },
          "metadata": {
            "tags": []
          }
        }
      ]
    },
    {
      "cell_type": "code",
      "metadata": {
        "id": "o0SCPaaYww7x",
        "outputId": "d7f2e256-7679-4964-97f3-126b19153739",
        "colab": {
          "base_uri": "https://localhost:8080/"
        }
      },
      "source": [
        "# evaluate test loss with best model\n",
        "\n",
        "test_losses = []\n",
        "\n",
        "for test_data, test_label in dl_test:\n",
        "\n",
        "    # convert to cuda if available\n",
        "    test_data = test_data.float().to(device)\n",
        "    test_label = test_label.float().to(device)\n",
        "\n",
        "    best_model.eval()\n",
        "\n",
        "    with torch.no_grad():\n",
        "        output = best_model(test_data)\n",
        "        loss = criterion(output.squeeze(), test_label)\n",
        "\n",
        "    test_losses.append(loss.item())\n",
        "\n",
        "# get average test loss\n",
        "test_losses = np.average(test_losses)\n",
        "print('Average Test Set MSE: {:.4}'.format(test_losses))\n",
        "\n",
        "# test loss at original scale (km)\n",
        "print('Average Test Set MSE at km: {:.4}'.format(\n",
        "    scaler_dic['workout_distance'].inverse_transform(test_losses.reshape(1, -1))[0][0]))"
      ],
      "execution_count": null,
      "outputs": [
        {
          "output_type": "stream",
          "text": [
            "Average Test Set MSE: 0.0001567\n",
            "Average Test Set MSE at km: 0.02054\n"
          ],
          "name": "stdout"
        }
      ]
    },
    {
      "cell_type": "markdown",
      "metadata": {
        "id": "4uvhY4rPhY0y"
      },
      "source": [
        "# 8. Best Model\n",
        "\n",
        "We load the best model from experiments in section 7."
      ]
    },
    {
      "cell_type": "code",
      "metadata": {
        "id": "H3BQpD0Cww-o"
      },
      "source": [
        "class DisReg_MLP_2Layer(nn.Module):\n",
        "    def __init__(self, input_dim, hidden_dim_1, p):\n",
        "        super(DisReg_MLP_2Layer, self).__init__()\n",
        "\n",
        "        self.fc1 = nn.Linear(input_dim, hidden_dim_1)\n",
        "        self.fc2 = nn.Linear(hidden_dim_1, 1)\n",
        "\n",
        "        self.act_1 = nn.ReLU()\n",
        "        self.act_2 = nn.Sigmoid()\n",
        "\n",
        "        self.drop_1 = nn.Dropout(p)\n",
        "\n",
        "    def forward(self, data):\n",
        "\n",
        "        output = self.fc1(data)\n",
        "        output = self.act_1(output)\n",
        "        output = self.drop_1(output)\n",
        "\n",
        "        output = self.fc2(output)\n",
        "        output = self.act_2(output)\n",
        "\n",
        "        return output"
      ],
      "execution_count": 23,
      "outputs": []
    },
    {
      "cell_type": "code",
      "metadata": {
        "id": "nf9dkshaww5S"
      },
      "source": [
        "# Load Model\n",
        "\n",
        "LOAD_MODEL_NAME = 'DisReg_MLP_2L_13'\n",
        "\n",
        "\n",
        "LEARNING_RATE = 1e-3\n",
        "WEIGHT_DECAY = 1e-7\n",
        "\n",
        "INPUT_DIM = 34\n",
        "HIDDEN_DIM = 64\n",
        "DROP_OUT = 0.2\n",
        "\n",
        "best_model = DisReg_MLP_2Layer(\n",
        "    INPUT_DIM, HIDDEN_DIM, DROP_OUT).to(device)\n",
        "\n",
        "latest_model = DisReg_MLP_2Layer(\n",
        "    INPUT_DIM, HIDDEN_DIM, DROP_OUT).to(device)\n",
        "\n",
        "optimiser = optim.Adam(best_model.parameters(),\n",
        "                       lr=LEARNING_RATE, weight_decay=WEIGHT_DECAY)\n",
        "\n",
        "criterion = torch.nn.MSELoss()\n",
        "\n",
        "best_model, best_epoch, best_loss_train, lowest_loss_val, epochs, latest_model, \\\n",
        "    optimiser, total_losses_train, total_losses_val = load_model(\n",
        "        LOAD_MODEL_NAME, best_model, latest_model)"
      ],
      "execution_count": 24,
      "outputs": []
    },
    {
      "cell_type": "code",
      "metadata": {
        "id": "yTfxN07vh_9h",
        "outputId": "ac149b32-2ef1-4e6b-aaf0-ce5da965b2d5",
        "colab": {
          "base_uri": "https://localhost:8080/",
          "height": 524
        }
      },
      "source": [
        "# select a random workout route from test set and check the relationship between\n",
        "# calories input and distance output\n",
        "\n",
        "\n",
        "idx = 12270\n",
        "data_origin = ds_test[idx][0]\n",
        "label_origin = ds_test[idx][1]\n",
        "# original calorie input\n",
        "cal_origin = data_origin[0]\n",
        "\n",
        "# get calories from 0.5*original calories to 1.5*original calories\n",
        "calories = np.arange(cal_origin*0.5, cal_origin*1.5, cal_origin/50)\n",
        "\n",
        "data_new = []\n",
        "pred = []\n",
        "\n",
        "# prepare model input data for the calories range\n",
        "for cal in calories:\n",
        "    data_new.append(np.hstack((np.array(cal), data_origin[1:])))\n",
        "\n",
        "# get model output for the calories range\n",
        "best_model.eval()\n",
        "with torch.no_grad():\n",
        "    for data in data_new:\n",
        "        pred.append(best_model(torch.Tensor(data).to(device)).item())\n",
        "\n",
        "# convert calories and distance to original scale\n",
        "calories = scaler_dic['calories'].inverse_transform(\n",
        "    np.array(calories).reshape(-1, 1)).flatten()\n",
        "pred = scaler_dic['workout_distance'].inverse_transform(\n",
        "    np.array(pred).reshape(-1, 1)).flatten()\n",
        "\n",
        "\n",
        "# convert to df and plot with seaborn\n",
        "pred_df = pd.DataFrame(zip(calories, pred), columns=[\n",
        "    'Calories_Input', 'Distance_Output'])\n",
        "\n",
        "plt.figure(figsize=(14, 8))\n",
        "g = sns.lineplot(\n",
        "    x='Calories_Input',\n",
        "    y='Distance_Output',\n",
        "    data=pred_df)\n",
        "g.set_title('Calories vs Distance on Selected Workout', fontsize=20)\n",
        "g.set_xlabel('Calories_Input (kcal)', fontsize=15)\n",
        "g.set_ylabel('Distance_Output (km)', fontsize=15)\n",
        "\n",
        "plt.show()"
      ],
      "execution_count": 25,
      "outputs": [
        {
          "output_type": "display_data",
          "data": {
            "image/png": "[encoded data removed]",
            "text/plain": [
              "<Figure size 1008x576 with 1 Axes>"
            ]
          },
          "metadata": {
            "tags": [],
            "needs_background": "light"
          }
        }
      ]
    },
    {
      "cell_type": "code",
      "metadata": {
        "id": "AoE4fKgIKC_g"
      },
      "source": [
        ""
      ],
      "execution_count": null,
      "outputs": []
    }
  ]
}